{
 "cells": [
  {
   "cell_type": "markdown",
   "metadata": {
    "toc": true
   },
   "source": [
    "<h1>Table of Contents<span class=\"tocSkip\"></span></h1>\n",
    "<div class=\"toc\"><ul class=\"toc-item\"><li><span><a href=\"#Sphere-function\" data-toc-modified-id=\"Sphere-function-1\"><span class=\"toc-item-num\">1&nbsp;&nbsp;</span>Sphere function</a></span><ul class=\"toc-item\"><li><span><a href=\"#In-dimension-10\" data-toc-modified-id=\"In-dimension-10-1.1\"><span class=\"toc-item-num\">1.1&nbsp;&nbsp;</span>In dimension 10</a></span></li><li><span><a href=\"#Dimension-100\" data-toc-modified-id=\"Dimension-100-1.2\"><span class=\"toc-item-num\">1.2&nbsp;&nbsp;</span>Dimension 100</a></span></li></ul></li><li><span><a href=\"#Rastrigin-function\" data-toc-modified-id=\"Rastrigin-function-2\"><span class=\"toc-item-num\">2&nbsp;&nbsp;</span>Rastrigin function</a></span><ul class=\"toc-item\"><li><span><a href=\"#Dimension-10\" data-toc-modified-id=\"Dimension-10-2.1\"><span class=\"toc-item-num\">2.1&nbsp;&nbsp;</span>Dimension 10</a></span></li><li><span><a href=\"#Dimension-100\" data-toc-modified-id=\"Dimension-100-2.2\"><span class=\"toc-item-num\">2.2&nbsp;&nbsp;</span>Dimension 100</a></span><ul class=\"toc-item\"><li><span><a href=\"#Global-PSO\" data-toc-modified-id=\"Global-PSO-2.2.1\"><span class=\"toc-item-num\">2.2.1&nbsp;&nbsp;</span>Global PSO</a></span></li><li><span><a href=\"#Local-PSO\" data-toc-modified-id=\"Local-PSO-2.2.2\"><span class=\"toc-item-num\">2.2.2&nbsp;&nbsp;</span>Local PSO</a></span></li><li><span><a href=\"#Ring-topology\" data-toc-modified-id=\"Ring-topology-2.2.3\"><span class=\"toc-item-num\">2.2.3&nbsp;&nbsp;</span>Ring topology</a></span></li><li><span><a href=\"#Star-topology\" data-toc-modified-id=\"Star-topology-2.2.4\"><span class=\"toc-item-num\">2.2.4&nbsp;&nbsp;</span>Star topology</a></span></li><li><span><a href=\"#VonNeumann-topology\" data-toc-modified-id=\"VonNeumann-topology-2.2.5\"><span class=\"toc-item-num\">2.2.5&nbsp;&nbsp;</span>VonNeumann topology</a></span></li><li><span><a href=\"#Pyramid-topology\" data-toc-modified-id=\"Pyramid-topology-2.2.6\"><span class=\"toc-item-num\">2.2.6&nbsp;&nbsp;</span>Pyramid topology</a></span></li><li><span><a href=\"#Random-topology\" data-toc-modified-id=\"Random-topology-2.2.7\"><span class=\"toc-item-num\">2.2.7&nbsp;&nbsp;</span>Random topology</a></span></li><li><span><a href=\"#Scipy-optimizer\" data-toc-modified-id=\"Scipy-optimizer-2.2.8\"><span class=\"toc-item-num\">2.2.8&nbsp;&nbsp;</span>Scipy optimizer</a></span></li></ul></li><li><span><a href=\"#Dimension-1000\" data-toc-modified-id=\"Dimension-1000-2.3\"><span class=\"toc-item-num\">2.3&nbsp;&nbsp;</span>Dimension 1000</a></span></li></ul></li><li><span><a href=\"#Gomez-and-Levy-function\" data-toc-modified-id=\"Gomez-and-Levy-function-3\"><span class=\"toc-item-num\">3&nbsp;&nbsp;</span>Gomez and Levy function</a></span></li><li><span><a href=\"#Utilities\" data-toc-modified-id=\"Utilities-4\"><span class=\"toc-item-num\">4&nbsp;&nbsp;</span>Utilities</a></span></li></ul></div>"
   ]
  },
  {
   "cell_type": "code",
   "execution_count": 2,
   "metadata": {
    "ExecuteTime": {
     "end_time": "2022-03-08T15:17:42.991093Z",
     "start_time": "2022-03-08T15:17:21.235607Z"
    }
   },
   "outputs": [],
   "source": [
    "import numpy as np\n",
    "import matplotlib.pyplot as plt\n",
    "import pyswarms as ps\n",
    "from scipy.optimize import minimize\n",
    "import math"
   ]
  },
  {
   "cell_type": "markdown",
   "metadata": {},
   "source": [
    "We compare the power of the PSO method compare to usual scipy minimizer on classic test functions for optimization.\n",
    "Firstly in dimension 1 then in high dimensions (more than 100)."
   ]
  },
  {
   "cell_type": "markdown",
   "metadata": {},
   "source": [
    "# Sphere function"
   ]
  },
  {
   "cell_type": "markdown",
   "metadata": {},
   "source": [
    "https://www.sfu.ca/~ssurjano/spheref.html\n",
    "\n",
    "The minimum is at $x=(0,0,0,\\dots,0)$"
   ]
  },
  {
   "cell_type": "code",
   "execution_count": 2,
   "metadata": {
    "ExecuteTime": {
     "end_time": "2022-03-04T10:33:04.709896Z",
     "start_time": "2022-03-04T10:33:04.695802Z"
    }
   },
   "outputs": [],
   "source": [
    "#In dimension 1\n",
    "def sphere_dim1(x):\n",
    "    return x**2\n",
    "\n",
    "#Sphere for PSO\n",
    "def sphere_pso(x):\n",
    "    n = len(x[0,:])\n",
    "    f = 0\n",
    "    for i in range(n):\n",
    "        f += x[:,i]**2\n",
    "    return f"
   ]
  },
  {
   "cell_type": "code",
   "execution_count": 3,
   "metadata": {
    "ExecuteTime": {
     "end_time": "2022-03-04T10:33:04.913391Z",
     "start_time": "2022-03-04T10:33:04.726816Z"
    }
   },
   "outputs": [
    {
     "data": {
      "text/plain": [
       "[<matplotlib.lines.Line2D at 0x28715f9e2e8>]"
      ]
     },
     "execution_count": 3,
     "metadata": {},
     "output_type": "execute_result"
    },
    {
     "data": {
      "image/png": "[encoded data removed]",
      "text/plain": [
       "<Figure size 432x288 with 1 Axes>"
      ]
     },
     "metadata": {
      "needs_background": "light"
     },
     "output_type": "display_data"
    }
   ],
   "source": [
    "#In dimension 1\n",
    "x = np.linspace(-10,10,100)\n",
    "y= sphere_dim1(x)\n",
    "plt.figure()\n",
    "plt.title(\"Sphere\")\n",
    "plt.plot(x,y)"
   ]
  },
  {
   "cell_type": "markdown",
   "metadata": {},
   "source": [
    "## In dimension 10"
   ]
  },
  {
   "cell_type": "code",
   "execution_count": 4,
   "metadata": {
    "ExecuteTime": {
     "end_time": "2022-03-04T08:33:03.399359Z",
     "start_time": "2022-03-04T08:33:02.082041Z"
    }
   },
   "outputs": [
    {
     "name": "stdout",
     "output_type": "stream",
     "text": [
      "In dimension 10 for 30 particles\n",
      "The minimum find is 0.000\n",
      "The minimum find is 0.000\n",
      "The minimum find is 0.000\n",
      "The minimum find is 0.000\n",
      "The minimum find is 0.000\n",
      "The minimum find is 0.000\n",
      "The minimum find is 0.000\n",
      "The minimum find is 0.000\n",
      "The minimum find is 0.000\n",
      "The minimum find is 0.000\n"
     ]
    }
   ],
   "source": [
    "options = {'c1': 1.49445, 'c2': 1.49445, 'w': 0.729 }\n",
    "dim = 10\n",
    "n_particles = 30\n",
    "print(\"In dimension %d for %d particles\" %(dim,n_particles))\n",
    "x_max = 5.12 * np.ones(dim)\n",
    "x_min = -1 * x_max\n",
    "bounds = (x_min,x_max)\n",
    "for i in range(10):\n",
    "    optimizer = ps.single.GlobalBestPSO(n_particles=n_particles, dimensions=dim, options = options , bounds = bounds)\n",
    "    cost, pos = optimizer.optimize(sphere_pso, iters=1000 , verbose = False)\n",
    "    print(\"The minimum find is %.3f\"%(cost))"
   ]
  },
  {
   "cell_type": "markdown",
   "metadata": {},
   "source": [
    "## Dimension 100"
   ]
  },
  {
   "cell_type": "code",
   "execution_count": 4,
   "metadata": {
    "ExecuteTime": {
     "end_time": "2022-03-04T10:33:32.459235Z",
     "start_time": "2022-03-04T10:33:06.413809Z"
    }
   },
   "outputs": [
    {
     "name": "stdout",
     "output_type": "stream",
     "text": [
      "In dimension 100 for 30 particles\n",
      "The minimum find is 0.001\n",
      "The minimum find is 0.001\n",
      "The minimum find is 0.002\n",
      "The minimum find is 0.000\n",
      "The minimum find is 0.000\n",
      "The minimum find is 0.020\n",
      "The minimum find is 0.000\n",
      "The minimum find is 0.004\n",
      "The minimum find is 0.002\n",
      "The minimum find is 0.000\n"
     ]
    }
   ],
   "source": [
    "options = {'c1': 1.49445, 'c2': 1.49445, 'w': 0.729 }\n",
    "dim = 100\n",
    "n_particles = 30\n",
    "print(\"In dimension %d for %d particles\" %(dim,n_particles))\n",
    "x_max = 5.12 * np.ones(dim)\n",
    "x_min = -1 * x_max\n",
    "bounds = (x_min,x_max)\n",
    "for i in range(10):\n",
    "    optimizer = ps.single.GlobalBestPSO(n_particles=n_particles, dimensions=dim, options = options , bounds = bounds)\n",
    "    cost, pos = optimizer.optimize(sphere_pso, iters=5000 , verbose = False)\n",
    "    print(\"The minimum find is %.3f\"%(cost))"
   ]
  },
  {
   "cell_type": "markdown",
   "metadata": {},
   "source": [
    "# Rastrigin function"
   ]
  },
  {
   "cell_type": "markdown",
   "metadata": {},
   "source": [
    "https://en.wikipedia.org/wiki/Rastrigin_function\n",
    "\n",
    "The minimum is at $x = (0,0,0 \\dots , 0 )$"
   ]
  },
  {
   "cell_type": "code",
   "execution_count": 6,
   "metadata": {
    "ExecuteTime": {
     "end_time": "2022-03-04T10:34:15.027298Z",
     "start_time": "2022-03-04T10:34:15.007976Z"
    }
   },
   "outputs": [],
   "source": [
    "#In dimension 1\n",
    "def rastrigin_dim1(x):\n",
    "    A = 10\n",
    "    return x**2 - A *np.cos(2*np.pi*x)\n",
    "\n",
    "#Rastrigin for PSO\n",
    "def rastrigin_pso(x):\n",
    "    n = len(x[0,:])\n",
    "    f = 0\n",
    "    A = 10\n",
    "    for i in range(n):\n",
    "        x_ = x[:,i]\n",
    "        f += x_**2 - A * np.cos(2*np.pi*x_)\n",
    "    f += A * n\n",
    "    return f\n",
    "\n",
    "def rastrigin(x):\n",
    "    A = 10\n",
    "    n = len(x)\n",
    "    f = 0\n",
    "    for i in range(n):\n",
    "        f += x[i]**2 - A * np.cos(2*np.pi*x[i])\n",
    "    f += A * n\n",
    "    return f"
   ]
  },
  {
   "cell_type": "code",
   "execution_count": 7,
   "metadata": {
    "ExecuteTime": {
     "end_time": "2022-03-04T10:34:17.663539Z",
     "start_time": "2022-03-04T10:34:17.533784Z"
    }
   },
   "outputs": [
    {
     "data": {
      "text/plain": [
       "[<matplotlib.lines.Line2D at 0x2871620f358>]"
      ]
     },
     "execution_count": 7,
     "metadata": {},
     "output_type": "execute_result"
    },
    {
     "data": {
      "image/png": "[encoded data removed]",
      "text/plain": [
       "<Figure size 432x288 with 1 Axes>"
      ]
     },
     "metadata": {
      "needs_background": "light"
     },
     "output_type": "display_data"
    }
   ],
   "source": [
    "#In dimension 1\n",
    "x = np.linspace(-5.12,5.12,100)\n",
    "y= rastrigin_dim1(x)\n",
    "plt.figure()\n",
    "plt.title(\"Rastrigin\")\n",
    "plt.plot(x,y)"
   ]
  },
  {
   "cell_type": "markdown",
   "metadata": {},
   "source": [
    "## Dimension 10"
   ]
  },
  {
   "cell_type": "code",
   "execution_count": 4,
   "metadata": {},
   "outputs": [
    {
     "name": "stdout",
     "output_type": "stream",
     "text": [
      "In dimension 10 for 30 particles\n",
      "The minimum find is 1.990\n",
      "The minimum find is 5.970\n",
      "The minimum find is 3.980\n",
      "The minimum find is 5.970\n",
      "The minimum find is 6.965\n",
      "The minimum find is 5.970\n",
      "The minimum find is 2.985\n",
      "The minimum find is 0.995\n",
      "The minimum find is 2.985\n",
      "The minimum find is 3.980\n"
     ]
    }
   ],
   "source": [
    "options = {'c1': 1.49445, 'c2': 1.49445, 'w': 0.729 }\n",
    "dim = 10\n",
    "n_particles = 30\n",
    "print(\"In dimension %d for %d particles\" %(dim,n_particles))\n",
    "x_max = 5.12 * np.ones(dim)\n",
    "x_min = -1 * x_max\n",
    "bounds = (x_min,x_max)\n",
    "for i in range(10):\n",
    "    optimizer = ps.single.GlobalBestPSO(n_particles=n_particles, dimensions=dim, options = options , bounds = bounds)\n",
    "    cost, pos = optimizer.optimize(rastrigin_pso, iters=1000 , verbose = False)\n",
    "    print(\"The minimum find is %.3f\"%(cost))"
   ]
  },
  {
   "cell_type": "code",
   "execution_count": 5,
   "metadata": {},
   "outputs": [
    {
     "name": "stdout",
     "output_type": "stream",
     "text": [
      "Nelder-Mead\n",
      "Optimization terminated successfully.\n",
      "42.78308887206417\n",
      "\n",
      "\n",
      "BFGS\n",
      "Optimization terminated successfully.\n",
      "101.48501292151677\n",
      "\n",
      "\n",
      "COBYLA\n",
      "Optimization terminated successfully.\n",
      "40.79315658870469\n",
      "\n",
      "\n",
      "SLSQP\n",
      "Optimization terminated successfully.\n",
      "117.4044558956823\n",
      "\n",
      "\n"
     ]
    }
   ],
   "source": [
    "dim = 10\n",
    "for solver in ['Nelder-Mead','BFGS', 'COBYLA' , 'SLSQP']:\n",
    "    print('\\033[1m' + solver + '\\033[1m')\n",
    "    x0 = np.random.uniform(-5.12,5.12,dim)\n",
    "    opts = {'disp' : False}\n",
    "    res = minimize(rastrigin_scipy,x0, method=solver, options = opts)\n",
    "    print(res.message)\n",
    "    print(rastrigin_scipy(res.x))\n",
    "    print(\"\\n\")"
   ]
  },
  {
   "cell_type": "markdown",
   "metadata": {},
   "source": [
    "Remark that in this kind of problems in high-dimension with lot of local minimum, PSO method performs way better than classic optimizer method"
   ]
  },
  {
   "cell_type": "markdown",
   "metadata": {},
   "source": [
    "## Dimension 100"
   ]
  },
  {
   "cell_type": "markdown",
   "metadata": {},
   "source": [
    "### Global PSO"
   ]
  },
  {
   "cell_type": "code",
   "execution_count": 6,
   "metadata": {},
   "outputs": [
    {
     "name": "stdout",
     "output_type": "stream",
     "text": [
      "In dimension 100 for 500 particles\n",
      "1 - The minimum find is 86.561\n",
      "2 - The minimum find is 90.541\n",
      "3 - The minimum find is 91.536\n",
      "4 - The minimum find is 71.637\n",
      "5 - The minimum find is 80.592\n"
     ]
    }
   ],
   "source": [
    "dim = 100\n",
    "options = {'c1': 1.49445, 'c2': 1.49445, 'w': 0.729 }\n",
    "n_particles = 500\n",
    "print(\"In dimension %d for %d particles\" %(dim,n_particles))\n",
    "x_max = 5.12 * np.ones(dim)\n",
    "x_min = -1 * x_max\n",
    "bounds = (x_min,x_max)\n",
    "for i in range(5):\n",
    "    optimizer = ps.single.GlobalBestPSO(n_particles=n_particles, dimensions=dim, options = options , bounds = bounds)\n",
    "    cost, pos = optimizer.optimize(rastrigin_pso, iters=2000 , verbose = False)\n",
    "    print(\"%d - The minimum find is %.3f\"%(i+1,cost))"
   ]
  },
  {
   "cell_type": "markdown",
   "metadata": {},
   "source": [
    "### Local PSO"
   ]
  },
  {
   "cell_type": "code",
   "execution_count": 7,
   "metadata": {},
   "outputs": [
    {
     "name": "stdout",
     "output_type": "stream",
     "text": [
      "In dimension 100 for 500 particles\n",
      "1 - The minimum find is 282.954\n",
      "2 - The minimum find is 348.230\n",
      "3 - The minimum find is 350.012\n",
      "4 - The minimum find is 411.205\n",
      "5 - The minimum find is 347.454\n"
     ]
    }
   ],
   "source": [
    "dim = 100\n",
    "n_particles = 500\n",
    "options = {'c1': 1.49445, 'c2': 1.49445, 'w': 0.729 , 'k':2 , 'p':2}\n",
    "print(\"In dimension %d for %d particles\" %(dim,n_particles))\n",
    "x_max = 5.12 * np.ones(dim)\n",
    "x_min = -1 * x_max\n",
    "bounds = (x_min,x_max)\n",
    "for i in range(5):\n",
    "    optimizer = ps.single.LocalBestPSO(n_particles=n_particles, dimensions=dim, options = options , bounds = bounds)\n",
    "    cost, pos = optimizer.optimize(rastrigin_pso, iters=2000 , verbose = False)\n",
    "    print(\"%d - The minimum find is %.3f\"%(i+1, cost))"
   ]
  },
  {
   "cell_type": "markdown",
   "metadata": {},
   "source": [
    "Global optimizer - Different topology\n",
    "\n",
    "### Ring topology"
   ]
  },
  {
   "cell_type": "code",
   "execution_count": 8,
   "metadata": {
    "ExecuteTime": {
     "end_time": "2022-03-04T10:35:28.052372Z",
     "start_time": "2022-03-04T10:34:23.770043Z"
    }
   },
   "outputs": [
    {
     "name": "stdout",
     "output_type": "stream",
     "text": [
      "In dimension 100 for 1000 particles\n",
      "1 - The minimum find is 105.466\n",
      "2 - The minimum find is 31.232\n",
      "3 - The minimum find is 30.844\n",
      "4 - The minimum find is 37.808\n",
      "5 - The minimum find is 62.682\n"
     ]
    }
   ],
   "source": [
    "dim = 100\n",
    "n_particles = 1000\n",
    "my_topology = ps.backend.topology.Ring(static=True)\n",
    "options = {'c1': 1.4, 'c2': 1.4, 'w': 0.7 , 'k' : 10 , 'p' : 2}\n",
    "print(\"In dimension %d for %d particles\" %(dim,n_particles))\n",
    "x_max = 5.12 * np.ones(dim)\n",
    "x_min = -1 * x_max\n",
    "bounds = (x_min,x_max)\n",
    "for i in range(5):\n",
    "    optimizer = ps.single.GeneralOptimizerPSO(n_particles=n_particles, dimensions=dim, options=options, topology=my_topology)\n",
    "    cost, pos = optimizer.optimize(rastrigin_pso, iters=2000 , verbose = False)\n",
    "    print(\"%d - The minimum find is %.3f\"%(i+1,cost))"
   ]
  },
  {
   "cell_type": "code",
   "execution_count": 27,
   "metadata": {
    "ExecuteTime": {
     "end_time": "2022-03-04T14:05:00.415496Z",
     "start_time": "2022-03-04T14:04:53.008495Z"
    }
   },
   "outputs": [
    {
     "name": "stdout",
     "output_type": "stream",
     "text": [
      "In dimension 100 for 30 particles\n",
      "1 - The minimum find is 52.734\n",
      "2 - The minimum find is 75.627\n",
      "3 - The minimum find is 46.764\n",
      "4 - The minimum find is 53.728\n",
      "5 - The minimum find is 46.767\n"
     ]
    }
   ],
   "source": [
    "dim = 100\n",
    "n_particles = 30\n",
    "my_topology = ps.backend.topology.Ring(static=True)\n",
    "options = {'c1': 1.4, 'c2': 1.4, 'w': 0.7 , 'k' : 10 , 'p' : 2}\n",
    "print(\"In dimension %d for %d particles\" %(dim,n_particles))\n",
    "x_max = 5.12 * np.ones(dim)\n",
    "x_min = -1 * x_max\n",
    "bounds = (x_min,x_max)\n",
    "for i in range(5):\n",
    "    optimizer = ps.single.GeneralOptimizerPSO(n_particles=n_particles, dimensions=dim, options=options, topology=my_topology)\n",
    "    cost, pos = optimizer.optimize(rastrigin_pso, iters=2000 , verbose = False)\n",
    "    print(\"%d - The minimum find is %.3f\"%(i+1,cost))"
   ]
  },
  {
   "cell_type": "markdown",
   "metadata": {},
   "source": [
    "### Star topology"
   ]
  },
  {
   "cell_type": "code",
   "execution_count": 20,
   "metadata": {
    "ExecuteTime": {
     "end_time": "2022-03-04T13:59:47.194246Z",
     "start_time": "2022-03-04T13:59:38.000422Z"
    }
   },
   "outputs": [
    {
     "name": "stdout",
     "output_type": "stream",
     "text": [
      "In dimension 100 for 500 particles\n",
      "1 - The minimum find is 310.972\n"
     ]
    },
    {
     "ename": "KeyboardInterrupt",
     "evalue": "",
     "output_type": "error",
     "traceback": [
      "\u001b[1;31m---------------------------------------------------------------------------\u001b[0m",
      "\u001b[1;31mKeyboardInterrupt\u001b[0m                         Traceback (most recent call last)",
      "\u001b[1;32m<ipython-input-20-1ef1f6a7904f>\u001b[0m in \u001b[0;36m<module>\u001b[1;34m\u001b[0m\n\u001b[0;32m      9\u001b[0m \u001b[1;32mfor\u001b[0m \u001b[0mi\u001b[0m \u001b[1;32min\u001b[0m \u001b[0mrange\u001b[0m\u001b[1;33m(\u001b[0m\u001b[1;36m5\u001b[0m\u001b[1;33m)\u001b[0m\u001b[1;33m:\u001b[0m\u001b[1;33m\u001b[0m\u001b[1;33m\u001b[0m\u001b[0m\n\u001b[0;32m     10\u001b[0m     \u001b[0moptimizer\u001b[0m \u001b[1;33m=\u001b[0m \u001b[0mps\u001b[0m\u001b[1;33m.\u001b[0m\u001b[0msingle\u001b[0m\u001b[1;33m.\u001b[0m\u001b[0mGeneralOptimizerPSO\u001b[0m\u001b[1;33m(\u001b[0m\u001b[0mn_particles\u001b[0m\u001b[1;33m=\u001b[0m\u001b[0mn_particles\u001b[0m\u001b[1;33m,\u001b[0m \u001b[0mdimensions\u001b[0m\u001b[1;33m=\u001b[0m\u001b[0mdim\u001b[0m\u001b[1;33m,\u001b[0m \u001b[0moptions\u001b[0m\u001b[1;33m=\u001b[0m\u001b[0moptions\u001b[0m\u001b[1;33m,\u001b[0m \u001b[0mtopology\u001b[0m\u001b[1;33m=\u001b[0m\u001b[0mmy_topology\u001b[0m\u001b[1;33m)\u001b[0m\u001b[1;33m\u001b[0m\u001b[1;33m\u001b[0m\u001b[0m\n\u001b[1;32m---> 11\u001b[1;33m     \u001b[0mcost\u001b[0m\u001b[1;33m,\u001b[0m \u001b[0mpos\u001b[0m \u001b[1;33m=\u001b[0m \u001b[0moptimizer\u001b[0m\u001b[1;33m.\u001b[0m\u001b[0moptimize\u001b[0m\u001b[1;33m(\u001b[0m\u001b[0mrastrigin_pso\u001b[0m\u001b[1;33m,\u001b[0m \u001b[0miters\u001b[0m\u001b[1;33m=\u001b[0m\u001b[1;36m2000\u001b[0m \u001b[1;33m,\u001b[0m \u001b[0mverbose\u001b[0m \u001b[1;33m=\u001b[0m \u001b[1;32mFalse\u001b[0m\u001b[1;33m)\u001b[0m\u001b[1;33m\u001b[0m\u001b[1;33m\u001b[0m\u001b[0m\n\u001b[0m\u001b[0;32m     12\u001b[0m     \u001b[0mprint\u001b[0m\u001b[1;33m(\u001b[0m\u001b[1;34m\"%d - The minimum find is %.3f\"\u001b[0m\u001b[1;33m%\u001b[0m\u001b[1;33m(\u001b[0m\u001b[0mi\u001b[0m\u001b[1;33m+\u001b[0m\u001b[1;36m1\u001b[0m\u001b[1;33m,\u001b[0m\u001b[0mcost\u001b[0m\u001b[1;33m)\u001b[0m\u001b[1;33m)\u001b[0m\u001b[1;33m\u001b[0m\u001b[1;33m\u001b[0m\u001b[0m\n",
      "\u001b[1;32mC:\\ProgramData\\Anaconda3\\lib\\site-packages\\pyswarms\\single\\general_optimizer.py\u001b[0m in \u001b[0;36moptimize\u001b[1;34m(self, objective_func, iters, n_processes, verbose, **kwargs)\u001b[0m\n\u001b[0;32m    246\u001b[0m             \u001b[1;31m# fmt: off\u001b[0m\u001b[1;33m\u001b[0m\u001b[1;33m\u001b[0m\u001b[1;33m\u001b[0m\u001b[0m\n\u001b[0;32m    247\u001b[0m             \u001b[0mself\u001b[0m\u001b[1;33m.\u001b[0m\u001b[0mswarm\u001b[0m\u001b[1;33m.\u001b[0m\u001b[0mcurrent_cost\u001b[0m \u001b[1;33m=\u001b[0m \u001b[0mcompute_objective_function\u001b[0m\u001b[1;33m(\u001b[0m\u001b[0mself\u001b[0m\u001b[1;33m.\u001b[0m\u001b[0mswarm\u001b[0m\u001b[1;33m,\u001b[0m \u001b[0mobjective_func\u001b[0m\u001b[1;33m,\u001b[0m \u001b[0mpool\u001b[0m\u001b[1;33m=\u001b[0m\u001b[0mpool\u001b[0m\u001b[1;33m,\u001b[0m \u001b[1;33m**\u001b[0m\u001b[0mkwargs\u001b[0m\u001b[1;33m)\u001b[0m\u001b[1;33m\u001b[0m\u001b[1;33m\u001b[0m\u001b[0m\n\u001b[1;32m--> 248\u001b[1;33m             \u001b[0mself\u001b[0m\u001b[1;33m.\u001b[0m\u001b[0mswarm\u001b[0m\u001b[1;33m.\u001b[0m\u001b[0mpbest_pos\u001b[0m\u001b[1;33m,\u001b[0m \u001b[0mself\u001b[0m\u001b[1;33m.\u001b[0m\u001b[0mswarm\u001b[0m\u001b[1;33m.\u001b[0m\u001b[0mpbest_cost\u001b[0m \u001b[1;33m=\u001b[0m \u001b[0mcompute_pbest\u001b[0m\u001b[1;33m(\u001b[0m\u001b[0mself\u001b[0m\u001b[1;33m.\u001b[0m\u001b[0mswarm\u001b[0m\u001b[1;33m)\u001b[0m\u001b[1;33m\u001b[0m\u001b[1;33m\u001b[0m\u001b[0m\n\u001b[0m\u001b[0;32m    249\u001b[0m             \u001b[0mbest_cost_yet_found\u001b[0m \u001b[1;33m=\u001b[0m \u001b[0mself\u001b[0m\u001b[1;33m.\u001b[0m\u001b[0mswarm\u001b[0m\u001b[1;33m.\u001b[0m\u001b[0mbest_cost\u001b[0m\u001b[1;33m\u001b[0m\u001b[1;33m\u001b[0m\u001b[0m\n\u001b[0;32m    250\u001b[0m             \u001b[1;31m# fmt: on\u001b[0m\u001b[1;33m\u001b[0m\u001b[1;33m\u001b[0m\u001b[1;33m\u001b[0m\u001b[0m\n",
      "\u001b[1;32mC:\\ProgramData\\Anaconda3\\lib\\site-packages\\pyswarms\\backend\\operators.py\u001b[0m in \u001b[0;36mcompute_pbest\u001b[1;34m(swarm)\u001b[0m\n\u001b[0;32m     67\u001b[0m         \u001b[0mmask_pos\u001b[0m \u001b[1;33m=\u001b[0m \u001b[0mnp\u001b[0m\u001b[1;33m.\u001b[0m\u001b[0mrepeat\u001b[0m\u001b[1;33m(\u001b[0m\u001b[0mmask_cost\u001b[0m\u001b[1;33m[\u001b[0m\u001b[1;33m:\u001b[0m\u001b[1;33m,\u001b[0m \u001b[0mnp\u001b[0m\u001b[1;33m.\u001b[0m\u001b[0mnewaxis\u001b[0m\u001b[1;33m]\u001b[0m\u001b[1;33m,\u001b[0m \u001b[0mdimensions\u001b[0m\u001b[1;33m,\u001b[0m \u001b[0maxis\u001b[0m\u001b[1;33m=\u001b[0m\u001b[1;36m1\u001b[0m\u001b[1;33m)\u001b[0m\u001b[1;33m\u001b[0m\u001b[1;33m\u001b[0m\u001b[0m\n\u001b[0;32m     68\u001b[0m         \u001b[1;31m# Apply masks\u001b[0m\u001b[1;33m\u001b[0m\u001b[1;33m\u001b[0m\u001b[1;33m\u001b[0m\u001b[0m\n\u001b[1;32m---> 69\u001b[1;33m         \u001b[0mnew_pbest_pos\u001b[0m \u001b[1;33m=\u001b[0m \u001b[0mnp\u001b[0m\u001b[1;33m.\u001b[0m\u001b[0mwhere\u001b[0m\u001b[1;33m(\u001b[0m\u001b[1;33m~\u001b[0m\u001b[0mmask_pos\u001b[0m\u001b[1;33m,\u001b[0m \u001b[0mswarm\u001b[0m\u001b[1;33m.\u001b[0m\u001b[0mpbest_pos\u001b[0m\u001b[1;33m,\u001b[0m \u001b[0mswarm\u001b[0m\u001b[1;33m.\u001b[0m\u001b[0mposition\u001b[0m\u001b[1;33m)\u001b[0m\u001b[1;33m\u001b[0m\u001b[1;33m\u001b[0m\u001b[0m\n\u001b[0m\u001b[0;32m     70\u001b[0m         new_pbest_cost = np.where(\n\u001b[0;32m     71\u001b[0m             \u001b[1;33m~\u001b[0m\u001b[0mmask_cost\u001b[0m\u001b[1;33m,\u001b[0m \u001b[0mswarm\u001b[0m\u001b[1;33m.\u001b[0m\u001b[0mpbest_cost\u001b[0m\u001b[1;33m,\u001b[0m \u001b[0mswarm\u001b[0m\u001b[1;33m.\u001b[0m\u001b[0mcurrent_cost\u001b[0m\u001b[1;33m\u001b[0m\u001b[1;33m\u001b[0m\u001b[0m\n",
      "\u001b[1;31mKeyboardInterrupt\u001b[0m: "
     ]
    }
   ],
   "source": [
    "dim = 100\n",
    "n_particles = 500\n",
    "my_topology = ps.backend.topology.Star()\n",
    "options = {'c1': 1.49445, 'c2': 1.49445, 'w': 0.2}\n",
    "print(\"In dimension %d for %d particles\" %(dim,n_particles))\n",
    "x_max = 5.12 * np.ones(dim)\n",
    "x_min = -1 * x_max\n",
    "bounds = (x_min,x_max)\n",
    "for i in range(5):\n",
    "    optimizer = ps.single.GeneralOptimizerPSO(n_particles=n_particles, dimensions=dim, options=options, topology=my_topology)\n",
    "    cost, pos = optimizer.optimize(rastrigin_pso, iters=2000 , verbose = False)\n",
    "    print(\"%d - The minimum find is %.3f\"%(i+1,cost))"
   ]
  },
  {
   "cell_type": "markdown",
   "metadata": {},
   "source": [
    "### VonNeumann topology"
   ]
  },
  {
   "cell_type": "code",
   "execution_count": 28,
   "metadata": {},
   "outputs": [
    {
     "name": "stdout",
     "output_type": "stream",
     "text": [
      "In dimension 100 for 1000 particles\n",
      "1 - The minimum find is 55.718\n",
      "2 - The minimum find is 54.723\n",
      "3 - The minimum find is 34.824\n",
      "4 - The minimum find is 50.743\n",
      "5 - The minimum find is 63.677\n"
     ]
    }
   ],
   "source": [
    "dim = 100\n",
    "n_particles = 1000\n",
    "my_topology = ps.backend.topology.VonNeumann(static=True)\n",
    "options = {'c1': 1.49445, 'c2': 1.49445, 'w': 0.729, 'p' : 1 , 'r' : 1}\n",
    "print(\"In dimension %d for %d particles\" %(dim,n_particles))\n",
    "x_max = 5.12 * np.ones(dim)\n",
    "x_min = -1 * x_max\n",
    "bounds = (x_min,x_max)\n",
    "for i in range(5):\n",
    "    optimizer = ps.single.GeneralOptimizerPSO(n_particles=n_particles, dimensions=dim, options=options, topology=my_topology)\n",
    "    cost, pos = optimizer.optimize(rastrigin_pso, iters=10000 , verbose = False)\n",
    "    print(\"%d - The minimum find is %.3f\"%(i+1,cost))"
   ]
  },
  {
   "cell_type": "markdown",
   "metadata": {},
   "source": [
    "### Pyramid topology"
   ]
  },
  {
   "cell_type": "code",
   "execution_count": 1,
   "metadata": {},
   "outputs": [
    {
     "ename": "NameError",
     "evalue": "name 'ps' is not defined",
     "output_type": "error",
     "traceback": [
      "\u001b[1;31m---------------------------------------------------------------------------\u001b[0m",
      "\u001b[1;31mNameError\u001b[0m                                 Traceback (most recent call last)",
      "\u001b[1;32m<ipython-input-1-c956fba75408>\u001b[0m in \u001b[0;36m<module>\u001b[1;34m\u001b[0m\n\u001b[0;32m      1\u001b[0m \u001b[0mdim\u001b[0m \u001b[1;33m=\u001b[0m \u001b[1;36m100\u001b[0m\u001b[1;33m\u001b[0m\u001b[1;33m\u001b[0m\u001b[0m\n\u001b[0;32m      2\u001b[0m \u001b[0mn_particles\u001b[0m \u001b[1;33m=\u001b[0m \u001b[1;36m100\u001b[0m\u001b[1;33m\u001b[0m\u001b[1;33m\u001b[0m\u001b[0m\n\u001b[1;32m----> 3\u001b[1;33m \u001b[0mmy_topology\u001b[0m \u001b[1;33m=\u001b[0m \u001b[0mps\u001b[0m\u001b[1;33m.\u001b[0m\u001b[0mbackend\u001b[0m\u001b[1;33m.\u001b[0m\u001b[0mtopology\u001b[0m\u001b[1;33m.\u001b[0m\u001b[0mPyramid\u001b[0m\u001b[1;33m(\u001b[0m\u001b[0mstatic\u001b[0m\u001b[1;33m=\u001b[0m\u001b[1;32mTrue\u001b[0m\u001b[1;33m)\u001b[0m\u001b[1;33m\u001b[0m\u001b[1;33m\u001b[0m\u001b[0m\n\u001b[0m\u001b[0;32m      4\u001b[0m \u001b[0moptions\u001b[0m \u001b[1;33m=\u001b[0m \u001b[1;33m{\u001b[0m\u001b[1;34m'c1'\u001b[0m\u001b[1;33m:\u001b[0m \u001b[1;36m1.49445\u001b[0m\u001b[1;33m,\u001b[0m \u001b[1;34m'c2'\u001b[0m\u001b[1;33m:\u001b[0m \u001b[1;36m1.49445\u001b[0m\u001b[1;33m,\u001b[0m \u001b[1;34m'w'\u001b[0m\u001b[1;33m:\u001b[0m \u001b[1;36m0.729\u001b[0m\u001b[1;33m,\u001b[0m \u001b[1;34m'p'\u001b[0m \u001b[1;33m:\u001b[0m \u001b[1;36m1\u001b[0m \u001b[1;33m,\u001b[0m \u001b[1;34m'r'\u001b[0m \u001b[1;33m:\u001b[0m \u001b[1;36m1\u001b[0m\u001b[1;33m}\u001b[0m\u001b[1;33m\u001b[0m\u001b[1;33m\u001b[0m\u001b[0m\n\u001b[0;32m      5\u001b[0m \u001b[0mprint\u001b[0m\u001b[1;33m(\u001b[0m\u001b[1;34m\"In dimension %d for %d particles\"\u001b[0m \u001b[1;33m%\u001b[0m\u001b[1;33m(\u001b[0m\u001b[0mdim\u001b[0m\u001b[1;33m,\u001b[0m\u001b[0mn_particles\u001b[0m\u001b[1;33m)\u001b[0m\u001b[1;33m)\u001b[0m\u001b[1;33m\u001b[0m\u001b[1;33m\u001b[0m\u001b[0m\n",
      "\u001b[1;31mNameError\u001b[0m: name 'ps' is not defined"
     ]
    }
   ],
   "source": [
    "dim = 100\n",
    "n_particles = 100\n",
    "my_topology = ps.backend.topology.Pyramid(static=True)\n",
    "options = {'c1': 1.49445, 'c2': 1.49445, 'w': 0.729, 'p' : 1 , 'r' : 1}\n",
    "print(\"In dimension %d for %d particles\" %(dim,n_particles))\n",
    "x_max = 5.12 * np.ones(dim)\n",
    "x_min = -1 * x_max\n",
    "bounds = (x_min,x_max)\n",
    "for i in range(5):\n",
    "    optimizer = ps.single.GeneralOptimizerPSO(n_particles=n_particles, dimensions=dim, options=options, topology=my_topology)\n",
    "    cost, pos = optimizer.optimize(rastrigin_pso, iters=2000 , verbose = False)\n",
    "    print(\"%d - The minimum find is %.3f\"%(i+1,cost))"
   ]
  },
  {
   "cell_type": "markdown",
   "metadata": {},
   "source": [
    "### Random topology"
   ]
  },
  {
   "cell_type": "code",
   "execution_count": null,
   "metadata": {},
   "outputs": [],
   "source": [
    "dim = 100\n",
    "n_particles = 500\n",
    "my_topology = ps.backend.topology.Random()\n",
    "options = {'c1': 1.49445, 'c2': 1.49445, 'w': 0.729, 'k' : }\n",
    "print(\"In dimension %d for %d particles\" %(dim,n_particles))\n",
    "x_max = 5.12 * np.ones(dim)\n",
    "x_min = -1 * x_max\n",
    "bounds = (x_min,x_max)\n",
    "for i in range(5):\n",
    "    optimizer = ps.single.GeneralOptimizerPSO(n_particles=n_particles, dimensions=dim, options=options, topology=my_topology)\n",
    "    cost, pos = optimizer.optimize(rastrigin_pso, iters=2000 , verbose = False)\n",
    "    print(\"%d - The minimum find is %.3f\"%(i+1,cost))"
   ]
  },
  {
   "cell_type": "markdown",
   "metadata": {},
   "source": [
    "### Scipy optimizer"
   ]
  },
  {
   "cell_type": "code",
   "execution_count": 312,
   "metadata": {},
   "outputs": [
    {
     "name": "stdout",
     "output_type": "stream",
     "text": [
      " Nelder-Mead\n"
     ]
    },
    {
     "name": "stderr",
     "output_type": "stream",
     "text": [
      "C:\\ProgramData\\Anaconda3\\lib\\site-packages\\scipy\\optimize\\_minimize.py:517: RuntimeWarning: Method Nelder-Mead cannot handle constraints nor bounds.\n",
      "  RuntimeWarning)\n"
     ]
    },
    {
     "name": "stdout",
     "output_type": "stream",
     "text": [
      "Maximum number of function evaluations has been exceeded.\n",
      "979.5625442007494\n",
      " BFGS\n"
     ]
    },
    {
     "name": "stderr",
     "output_type": "stream",
     "text": [
      "C:\\ProgramData\\Anaconda3\\lib\\site-packages\\scipy\\optimize\\_minimize.py:517: RuntimeWarning: Method BFGS cannot handle constraints nor bounds.\n",
      "  RuntimeWarning)\n"
     ]
    },
    {
     "name": "stdout",
     "output_type": "stream",
     "text": [
      "Desired error not necessarily achieved due to precision loss.\n",
      "764.124515338407\n",
      " COBYLA\n"
     ]
    },
    {
     "name": "stderr",
     "output_type": "stream",
     "text": [
      "C:\\ProgramData\\Anaconda3\\lib\\site-packages\\scipy\\optimize\\_minimize.py:523: RuntimeWarning: Method COBYLA cannot handle bounds.\n",
      "  RuntimeWarning)\n"
     ]
    },
    {
     "name": "stdout",
     "output_type": "stream",
     "text": [
      "Maximum number of function evaluations has been exceeded.\n",
      "744.6271185694566\n"
     ]
    }
   ],
   "source": [
    "dim = 100\n",
    "for solver in ['Nelder-Mead','BFGS', 'COBYLA']:\n",
    "    print('\\033[1m ' + solver + '\\033[1m')\n",
    "    x0 = np.random.uniform(-5.12,5.12,dim)\n",
    "    opts = {'disp' : False}\n",
    "    res = minimize(rastrigin_scipy,x0, method=solver, options = opts , bounds = bounds)\n",
    "    print(res.message)\n",
    "    print(rastrigin_classic(res.x))"
   ]
  },
  {
   "cell_type": "markdown",
   "metadata": {},
   "source": [
    "## Dimension 1000"
   ]
  },
  {
   "cell_type": "code",
   "execution_count": 33,
   "metadata": {
    "ExecuteTime": {
     "end_time": "2022-03-04T14:33:27.254716Z",
     "start_time": "2022-03-04T14:27:33.542692Z"
    }
   },
   "outputs": [
    {
     "name": "stdout",
     "output_type": "stream",
     "text": [
      "In dimension 1000 for 100 particles\n"
     ]
    },
    {
     "ename": "MemoryError",
     "evalue": "",
     "output_type": "error",
     "traceback": [
      "\u001b[1;31m---------------------------------------------------------------------------\u001b[0m",
      "\u001b[1;31mMemoryError\u001b[0m                               Traceback (most recent call last)",
      "\u001b[1;32m<ipython-input-33-a0cb73de0a80>\u001b[0m in \u001b[0;36m<module>\u001b[1;34m\u001b[0m\n\u001b[0;32m      9\u001b[0m \u001b[1;32mfor\u001b[0m \u001b[0mi\u001b[0m \u001b[1;32min\u001b[0m \u001b[0mrange\u001b[0m\u001b[1;33m(\u001b[0m\u001b[1;36m1\u001b[0m\u001b[1;33m)\u001b[0m\u001b[1;33m:\u001b[0m\u001b[1;33m\u001b[0m\u001b[1;33m\u001b[0m\u001b[0m\n\u001b[0;32m     10\u001b[0m     \u001b[0moptimizer\u001b[0m \u001b[1;33m=\u001b[0m \u001b[0mps\u001b[0m\u001b[1;33m.\u001b[0m\u001b[0msingle\u001b[0m\u001b[1;33m.\u001b[0m\u001b[0mGeneralOptimizerPSO\u001b[0m\u001b[1;33m(\u001b[0m\u001b[0mn_particles\u001b[0m\u001b[1;33m=\u001b[0m\u001b[0mn_particles\u001b[0m\u001b[1;33m,\u001b[0m \u001b[0mdimensions\u001b[0m\u001b[1;33m=\u001b[0m\u001b[0mdim\u001b[0m\u001b[1;33m,\u001b[0m \u001b[0moptions\u001b[0m\u001b[1;33m=\u001b[0m\u001b[0moptions\u001b[0m\u001b[1;33m,\u001b[0m \u001b[0mtopology\u001b[0m\u001b[1;33m=\u001b[0m\u001b[0mmy_topology\u001b[0m\u001b[1;33m)\u001b[0m\u001b[1;33m\u001b[0m\u001b[1;33m\u001b[0m\u001b[0m\n\u001b[1;32m---> 11\u001b[1;33m     \u001b[0mcost\u001b[0m\u001b[1;33m,\u001b[0m \u001b[0mpos\u001b[0m \u001b[1;33m=\u001b[0m \u001b[0moptimizer\u001b[0m\u001b[1;33m.\u001b[0m\u001b[0moptimize\u001b[0m\u001b[1;33m(\u001b[0m\u001b[0mrastrigin_pso\u001b[0m\u001b[1;33m,\u001b[0m \u001b[0miters\u001b[0m\u001b[1;33m=\u001b[0m\u001b[1;36m30000\u001b[0m \u001b[1;33m,\u001b[0m \u001b[0mverbose\u001b[0m \u001b[1;33m=\u001b[0m \u001b[1;32mFalse\u001b[0m\u001b[1;33m)\u001b[0m\u001b[1;33m\u001b[0m\u001b[1;33m\u001b[0m\u001b[0m\n\u001b[0m\u001b[0;32m     12\u001b[0m     \u001b[0mprint\u001b[0m\u001b[1;33m(\u001b[0m\u001b[1;34m\"%d - The minimum find is %.3f\"\u001b[0m\u001b[1;33m%\u001b[0m\u001b[1;33m(\u001b[0m\u001b[0mi\u001b[0m\u001b[1;33m+\u001b[0m\u001b[1;36m1\u001b[0m\u001b[1;33m,\u001b[0m\u001b[0mcost\u001b[0m\u001b[1;33m)\u001b[0m\u001b[1;33m)\u001b[0m\u001b[1;33m\u001b[0m\u001b[1;33m\u001b[0m\u001b[0m\n",
      "\u001b[1;32mC:\\ProgramData\\Anaconda3\\lib\\site-packages\\pyswarms\\single\\general_optimizer.py\u001b[0m in \u001b[0;36moptimize\u001b[1;34m(self, objective_func, iters, n_processes, verbose, **kwargs)\u001b[0m\n\u001b[0;32m    282\u001b[0m             \u001b[1;31m# Perform velocity and position updates\u001b[0m\u001b[1;33m\u001b[0m\u001b[1;33m\u001b[0m\u001b[1;33m\u001b[0m\u001b[0m\n\u001b[0;32m    283\u001b[0m             self.swarm.velocity = self.top.compute_velocity(\n\u001b[1;32m--> 284\u001b[1;33m                 \u001b[0mself\u001b[0m\u001b[1;33m.\u001b[0m\u001b[0mswarm\u001b[0m\u001b[1;33m,\u001b[0m \u001b[0mself\u001b[0m\u001b[1;33m.\u001b[0m\u001b[0mvelocity_clamp\u001b[0m\u001b[1;33m,\u001b[0m \u001b[0mself\u001b[0m\u001b[1;33m.\u001b[0m\u001b[0mvh\u001b[0m\u001b[1;33m,\u001b[0m \u001b[0mself\u001b[0m\u001b[1;33m.\u001b[0m\u001b[0mbounds\u001b[0m\u001b[1;33m\u001b[0m\u001b[1;33m\u001b[0m\u001b[0m\n\u001b[0m\u001b[0;32m    285\u001b[0m             )\n\u001b[0;32m    286\u001b[0m             self.swarm.position = self.top.compute_position(\n",
      "\u001b[1;32mC:\\ProgramData\\Anaconda3\\lib\\site-packages\\pyswarms\\backend\\topology\\ring.py\u001b[0m in \u001b[0;36mcompute_velocity\u001b[1;34m(self, swarm, clamp, vh, bounds)\u001b[0m\n\u001b[0;32m    142\u001b[0m             \u001b[0mUpdated\u001b[0m \u001b[0mvelocity\u001b[0m \u001b[0mmatrix\u001b[0m\u001b[1;33m\u001b[0m\u001b[1;33m\u001b[0m\u001b[0m\n\u001b[0;32m    143\u001b[0m         \"\"\"\n\u001b[1;32m--> 144\u001b[1;33m         \u001b[1;32mreturn\u001b[0m \u001b[0mops\u001b[0m\u001b[1;33m.\u001b[0m\u001b[0mcompute_velocity\u001b[0m\u001b[1;33m(\u001b[0m\u001b[0mswarm\u001b[0m\u001b[1;33m,\u001b[0m \u001b[0mclamp\u001b[0m\u001b[1;33m,\u001b[0m \u001b[0mvh\u001b[0m\u001b[1;33m,\u001b[0m \u001b[0mbounds\u001b[0m\u001b[1;33m)\u001b[0m\u001b[1;33m\u001b[0m\u001b[1;33m\u001b[0m\u001b[0m\n\u001b[0m\u001b[0;32m    145\u001b[0m \u001b[1;33m\u001b[0m\u001b[0m\n\u001b[0;32m    146\u001b[0m     def compute_position(\n",
      "\u001b[1;32mC:\\ProgramData\\Anaconda3\\lib\\site-packages\\pyswarms\\backend\\operators.py\u001b[0m in \u001b[0;36mcompute_velocity\u001b[1;34m(swarm, clamp, vh, bounds)\u001b[0m\n\u001b[0;32m    138\u001b[0m             \u001b[0mc2\u001b[0m\u001b[1;33m\u001b[0m\u001b[1;33m\u001b[0m\u001b[0m\n\u001b[0;32m    139\u001b[0m             \u001b[1;33m*\u001b[0m \u001b[0mnp\u001b[0m\u001b[1;33m.\u001b[0m\u001b[0mrandom\u001b[0m\u001b[1;33m.\u001b[0m\u001b[0muniform\u001b[0m\u001b[1;33m(\u001b[0m\u001b[1;36m0\u001b[0m\u001b[1;33m,\u001b[0m \u001b[1;36m1\u001b[0m\u001b[1;33m,\u001b[0m \u001b[0mswarm_size\u001b[0m\u001b[1;33m)\u001b[0m\u001b[1;33m\u001b[0m\u001b[1;33m\u001b[0m\u001b[0m\n\u001b[1;32m--> 140\u001b[1;33m             \u001b[1;33m*\u001b[0m \u001b[1;33m(\u001b[0m\u001b[0mswarm\u001b[0m\u001b[1;33m.\u001b[0m\u001b[0mbest_pos\u001b[0m \u001b[1;33m-\u001b[0m \u001b[0mswarm\u001b[0m\u001b[1;33m.\u001b[0m\u001b[0mposition\u001b[0m\u001b[1;33m)\u001b[0m\u001b[1;33m\u001b[0m\u001b[1;33m\u001b[0m\u001b[0m\n\u001b[0m\u001b[0;32m    141\u001b[0m         )\n\u001b[0;32m    142\u001b[0m         \u001b[1;31m# Compute temp velocity (subject to clamping if possible)\u001b[0m\u001b[1;33m\u001b[0m\u001b[1;33m\u001b[0m\u001b[1;33m\u001b[0m\u001b[0m\n",
      "\u001b[1;31mMemoryError\u001b[0m: "
     ]
    }
   ],
   "source": [
    "dim = 1000\n",
    "n_particles = 100\n",
    "my_topology = ps.backend.topology.Ring(static=True)\n",
    "options = {'c1': 1.49445, 'c2': 1.49445, 'w': 0.7 , 'p' : 2 , 'k' : 10}\n",
    "print(\"In dimension %d for %d particles\" %(dim,n_particles))\n",
    "x_max = 5.12 * np.ones(dim)\n",
    "x_min = -1 * x_max\n",
    "bounds = (x_min,x_max)\n",
    "for i in range(1):\n",
    "    optimizer = ps.single.GeneralOptimizerPSO(n_particles=n_particles, dimensions=dim, options=options, topology=my_topology)\n",
    "    cost, pos = optimizer.optimize(rastrigin_pso, iters=30000 , verbose = False)\n",
    "    print(\"%d - The minimum find is %.3f\"%(i+1,cost))"
   ]
  },
  {
   "cell_type": "markdown",
   "metadata": {},
   "source": [
    "Best achive is 591 with 100 particles and options : \n",
    "\n",
    "*options = {'c1': 1.49445, 'c2': 1.49445, 'w': 0.7 , 'p' : 2 , 'k' : 10}*"
   ]
  },
  {
   "cell_type": "code",
   "execution_count": 74,
   "metadata": {
    "ExecuteTime": {
     "end_time": "2022-03-04T09:43:11.663451Z",
     "start_time": "2022-03-04T09:43:11.649448Z"
    }
   },
   "outputs": [
    {
     "name": "stdout",
     "output_type": "stream",
     "text": [
      "0.0\n"
     ]
    }
   ],
   "source": [
    "x_best = np.zeros(dim)\n",
    "print(rastrigin(x_best))"
   ]
  },
  {
   "cell_type": "markdown",
   "metadata": {},
   "source": [
    "# Gomez and Levy function"
   ]
  },
  {
   "cell_type": "markdown",
   "metadata": {},
   "source": [
    "Dimension 2 function\n",
    "\n",
    "minimum is at $(x^*,y^*)$ such that $f(x^*,y^*)=f(0.08984201,-0.7126564)=-1.031628453$"
   ]
  },
  {
   "cell_type": "code",
   "execution_count": 39,
   "metadata": {
    "ExecuteTime": {
     "end_time": "2022-03-04T09:24:44.762954Z",
     "start_time": "2022-03-04T09:24:44.750432Z"
    }
   },
   "outputs": [],
   "source": [
    "def g(x):\n",
    "    x_ = x[0]\n",
    "    y_ = x[1]\n",
    "    pi = np.pi\n",
    "    f = -np.sin(4 * pi * x_) + 2 * np.sin ( 2 * pi * y_)**2\n",
    "    return f"
   ]
  },
  {
   "cell_type": "code",
   "execution_count": 4,
   "metadata": {
    "ExecuteTime": {
     "end_time": "2022-03-08T15:17:51.125689Z",
     "start_time": "2022-03-08T15:17:51.108128Z"
    }
   },
   "outputs": [],
   "source": [
    "def gomez_and_levy_pso(x):\n",
    "    x_ = x[:,0]\n",
    "    y_ = x[:,1]\n",
    "    penalty = 1000\n",
    "    f = 4*x_**2 - 2.1 * x_ ** 4 + 1/3 * x_ **6 + x_ * y_ - 4 * y_** 2 + 4 * y_ ** 4\n",
    "    g = np.array(( -np.sin(4 * np.pi * x_) + 2 * np.sin(2 * np.pi * y_ )**2 ) > 1.5).astype(int)\n",
    "    #print(g)\n",
    "    return f + g * penalty\n",
    "\n",
    "def gomez_and_levy(x):\n",
    "    x_ = x[0]\n",
    "    y_ = x[1]\n",
    "    penalty = 1000\n",
    "    f = 4*x_**2 - 2.1 * x_ ** 4 + 1/3 * x_ **6 + x_ * y_ - 4 * y_** 2 + 4 * y_ ** 4\n",
    "    g = np.array(( -np.sin(4 * np.pi * x_) + 2 * np.sin(2 * np.pi * y_ )**2 ) > 1.5).astype(int)\n",
    "    return f + g * penalty"
   ]
  },
  {
   "cell_type": "code",
   "execution_count": 5,
   "metadata": {
    "ExecuteTime": {
     "end_time": "2022-03-08T15:17:57.188303Z",
     "start_time": "2022-03-08T15:17:55.717390Z"
    }
   },
   "outputs": [
    {
     "name": "stdout",
     "output_type": "stream",
     "text": [
      "In dimension 2 for 30 particles\n",
      "1 - The minimum find is -1.032\n",
      "2 - The minimum find is -1.032\n",
      "3 - The minimum find is -1.032\n",
      "4 - The minimum find is -1.032\n",
      "5 - The minimum find is -1.032\n"
     ]
    }
   ],
   "source": [
    "dim = 2\n",
    "options = {'c1': 1.49445, 'c2': 1.49445, 'w': 0.729 }\n",
    "n_particles = 30\n",
    "print(\"In dimension %d for %d particles\" %(dim,n_particles))\n",
    "x_max = [0.75,1]\n",
    "x_min = [-1,-1]\n",
    "bounds = (x_min,x_max)\n",
    "for i in range(5):\n",
    "    optimizer = ps.single.GlobalBestPSO(n_particles=n_particles, dimensions=dim, options = options , bounds = bounds)\n",
    "    cost, pos = optimizer.optimize(gomez_and_levy_pso, iters=2000 , verbose = False)\n",
    "    print(\"%d - The minimum find is %.3f\"%(i+1,cost))"
   ]
  },
  {
   "cell_type": "code",
   "execution_count": 6,
   "metadata": {
    "ExecuteTime": {
     "end_time": "2022-03-08T15:17:57.220349Z",
     "start_time": "2022-03-08T15:17:57.206380Z"
    }
   },
   "outputs": [
    {
     "name": "stdout",
     "output_type": "stream",
     "text": [
      "Value obtain with PSO\n",
      "-1.0316284534898779\n",
      "Best value possible\n",
      "-1.031628453489877\n"
     ]
    }
   ],
   "source": [
    "print(\"Value obtain with PSO\")\n",
    "print(gomez_and_levy(pos))\n",
    "print(\"Best value possible\")\n",
    "print(gomez_and_levy([0.08984201,-0.7126564]))"
   ]
  },
  {
   "cell_type": "code",
   "execution_count": 11,
   "metadata": {
    "ExecuteTime": {
     "end_time": "2022-03-08T15:19:04.211063Z",
     "start_time": "2022-03-08T15:19:04.180515Z"
    }
   },
   "outputs": [
    {
     "name": "stdout",
     "output_type": "stream",
     "text": [
      "-0.9146059327541689\n"
     ]
    }
   ],
   "source": [
    "x0 = [1,1]\n",
    "res = minimize(gomez_and_levy ,x0 , method='Nelder-Mead')\n",
    "print(res.fun)"
   ]
  },
  {
   "cell_type": "markdown",
   "metadata": {
    "ExecuteTime": {
     "end_time": "2022-03-04T10:46:23.894491Z",
     "start_time": "2022-03-04T10:46:23.883074Z"
    }
   },
   "source": [
    "# Utilities"
   ]
  },
  {
   "cell_type": "code",
   "execution_count": 15,
   "metadata": {
    "ExecuteTime": {
     "end_time": "2022-03-04T10:47:24.968717Z",
     "start_time": "2022-03-04T10:47:24.833357Z"
    }
   },
   "outputs": [
    {
     "data": {
      "text/plain": [
       "[<matplotlib.lines.Line2D at 0x287edc23d30>]"
      ]
     },
     "execution_count": 15,
     "metadata": {},
     "output_type": "execute_result"
    },
    {
     "data": {
      "image/png": "[encoded data removed]",
      "text/plain": [
       "<Figure size 432x288 with 1 Axes>"
      ]
     },
     "metadata": {
      "needs_background": "light"
     },
     "output_type": "display_data"
    }
   ],
   "source": [
    "phi = np.linspace(-100,100,1000)\n",
    "\n",
    "def f(x):\n",
    "    return x**2 - 4 * x\n",
    "\n",
    "y = f(phi)\n",
    "plt.figure()\n",
    "plt.plot(phi,y)"
   ]
  },
  {
   "cell_type": "code",
   "execution_count": 1,
   "metadata": {
    "ExecuteTime": {
     "end_time": "2022-03-08T15:17:15.859132Z",
     "start_time": "2022-03-08T15:17:15.714977Z"
    }
   },
   "outputs": [
    {
     "ename": "NameError",
     "evalue": "name 'minimize' is not defined",
     "output_type": "error",
     "traceback": [
      "\u001b[1;31m---------------------------------------------------------------------------\u001b[0m",
      "\u001b[1;31mNameError\u001b[0m                                 Traceback (most recent call last)",
      "\u001b[1;32m<ipython-input-1-b41806aaf7ae>\u001b[0m in \u001b[0;36m<module>\u001b[1;34m\u001b[0m\n\u001b[0;32m      1\u001b[0m \u001b[0mx0\u001b[0m \u001b[1;33m=\u001b[0m \u001b[1;33m[\u001b[0m\u001b[1;36m1\u001b[0m\u001b[1;33m,\u001b[0m\u001b[1;36m1\u001b[0m\u001b[1;33m]\u001b[0m\u001b[1;33m\u001b[0m\u001b[1;33m\u001b[0m\u001b[0m\n\u001b[1;32m----> 2\u001b[1;33m \u001b[0mminimize\u001b[0m\u001b[1;33m(\u001b[0m\u001b[0mgomez\u001b[0m\u001b[1;33m)\u001b[0m\u001b[1;33m\u001b[0m\u001b[1;33m\u001b[0m\u001b[0m\n\u001b[0m",
      "\u001b[1;31mNameError\u001b[0m: name 'minimize' is not defined"
     ]
    }
   ],
   "source": [
    "x0 = [1,1]\n",
    "minimize(gomez)"
   ]
  },
  {
   "cell_type": "code",
   "execution_count": 15,
   "metadata": {
    "ExecuteTime": {
     "end_time": "2022-03-08T16:27:19.702601Z",
     "start_time": "2022-03-08T16:27:19.692913Z"
    }
   },
   "outputs": [
    {
     "data": {
      "text/plain": [
       "4"
      ]
     },
     "execution_count": 15,
     "metadata": {},
     "output_type": "execute_result"
    }
   ],
   "source": [
    "x = [1,3,7,15]\n",
    "x0 = x[0]\n",
    "for i in range(1,len(x)):\n",
    "    x1 = x[i]\n",
    "    not()"
   ]
  },
  {
   "cell_type": "code",
   "execution_count": 18,
   "metadata": {
    "ExecuteTime": {
     "end_time": "2022-03-08T17:01:16.203955Z",
     "start_time": "2022-03-08T17:01:16.186995Z"
    }
   },
   "outputs": [
    {
     "data": {
      "text/plain": [
       "-7"
      ]
     },
     "execution_count": 18,
     "metadata": {},
     "output_type": "execute_result"
    }
   ],
   "source": []
  },
  {
   "cell_type": "code",
   "execution_count": null,
   "metadata": {},
   "outputs": [],
   "source": []
  }
 ],
 "metadata": {
  "kernelspec": {
   "display_name": "Python 3",
   "language": "python",
   "name": "python3"
  },
  "language_info": {
   "codemirror_mode": {
    "name": "ipython",
    "version": 3
   },
   "file_extension": ".py",
   "mimetype": "text/x-python",
   "name": "python",
   "nbconvert_exporter": "python",
   "pygments_lexer": "ipython3",
   "version": "3.7.3"
  },
  "toc": {
   "base_numbering": 1,
   "nav_menu": {},
   "number_sections": true,
   "sideBar": true,
   "skip_h1_title": false,
   "title_cell": "Table of Contents",
   "title_sidebar": "Contents",
   "toc_cell": true,
   "toc_position": {
    "height": "calc(100% - 180px)",
    "left": "10px",
    "top": "150px",
    "width": "170px"
   },
   "toc_section_display": true,
   "toc_window_display": true
  },
  "varInspector": {
   "cols": {
    "lenName": 16,
    "lenType": 16,
    "lenVar": 40
   },
   "kernels_config": {
    "python": {
     "delete_cmd_postfix": "",
     "delete_cmd_prefix": "del ",
     "library": "var_list.py",
     "varRefreshCmd": "print(var_dic_list())"
    },
    "r": {
     "delete_cmd_postfix": ") ",
     "delete_cmd_prefix": "rm(",
     "library": "var_list.r",
     "varRefreshCmd": "cat(var_dic_list()) "
    }
   },
   "types_to_exclude": [
    "module",
    "function",
    "builtin_function_or_method",
    "instance",
    "_Feature"
   ],
   "window_display": false
  }
 },
 "nbformat": 4,
 "nbformat_minor": 2
}
