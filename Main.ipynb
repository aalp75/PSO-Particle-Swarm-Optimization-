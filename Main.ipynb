{
 "cells": [
  {
   "cell_type": "markdown",
   "metadata": {
    "toc": true
   },
   "source": [
    "<h1>Table of Contents<span class=\"tocSkip\"></span></h1>\n",
    "<div class=\"toc\"><ul class=\"toc-item\"><li><span><a href=\"#Sphere-function\" data-toc-modified-id=\"Sphere-function-1\"><span class=\"toc-item-num\">1&nbsp;&nbsp;</span>Sphere function</a></span><ul class=\"toc-item\"><li><span><a href=\"#In-dimension-10\" data-toc-modified-id=\"In-dimension-10-1.1\"><span class=\"toc-item-num\">1.1&nbsp;&nbsp;</span>In dimension 10</a></span></li><li><span><a href=\"#Dimension-100\" data-toc-modified-id=\"Dimension-100-1.2\"><span class=\"toc-item-num\">1.2&nbsp;&nbsp;</span>Dimension 100</a></span></li></ul></li><li><span><a href=\"#Rastrigin-function\" data-toc-modified-id=\"Rastrigin-function-2\"><span class=\"toc-item-num\">2&nbsp;&nbsp;</span>Rastrigin function</a></span><ul class=\"toc-item\"><li><span><a href=\"#Dimension-10\" data-toc-modified-id=\"Dimension-10-2.1\"><span class=\"toc-item-num\">2.1&nbsp;&nbsp;</span>Dimension 10</a></span></li><li><span><a href=\"#Dimension-20\" data-toc-modified-id=\"Dimension-20-2.2\"><span class=\"toc-item-num\">2.2&nbsp;&nbsp;</span>Dimension 20</a></span><ul class=\"toc-item\"><li><span><a href=\"#Local-PSO---Ring-topology\" data-toc-modified-id=\"Local-PSO---Ring-topology-2.2.1\"><span class=\"toc-item-num\">2.2.1&nbsp;&nbsp;</span>Local PSO - Ring topology</a></span></li></ul></li><li><span><a href=\"#Dimension-100\" data-toc-modified-id=\"Dimension-100-2.3\"><span class=\"toc-item-num\">2.3&nbsp;&nbsp;</span>Dimension 100</a></span><ul class=\"toc-item\"><li><span><a href=\"#Global-PSO\" data-toc-modified-id=\"Global-PSO-2.3.1\"><span class=\"toc-item-num\">2.3.1&nbsp;&nbsp;</span>Global PSO</a></span></li><li><span><a href=\"#Local-PSO\" data-toc-modified-id=\"Local-PSO-2.3.2\"><span class=\"toc-item-num\">2.3.2&nbsp;&nbsp;</span>Local PSO</a></span></li><li><span><a href=\"#Ring-topology\" data-toc-modified-id=\"Ring-topology-2.3.3\"><span class=\"toc-item-num\">2.3.3&nbsp;&nbsp;</span>Ring topology</a></span></li><li><span><a href=\"#Star-topology\" data-toc-modified-id=\"Star-topology-2.3.4\"><span class=\"toc-item-num\">2.3.4&nbsp;&nbsp;</span>Star topology</a></span></li><li><span><a href=\"#VonNeumann-topology\" data-toc-modified-id=\"VonNeumann-topology-2.3.5\"><span class=\"toc-item-num\">2.3.5&nbsp;&nbsp;</span>VonNeumann topology</a></span></li><li><span><a href=\"#Pyramid-topology\" data-toc-modified-id=\"Pyramid-topology-2.3.6\"><span class=\"toc-item-num\">2.3.6&nbsp;&nbsp;</span>Pyramid topology</a></span></li><li><span><a href=\"#Random-topology\" data-toc-modified-id=\"Random-topology-2.3.7\"><span class=\"toc-item-num\">2.3.7&nbsp;&nbsp;</span>Random topology</a></span></li><li><span><a href=\"#Scipy-optimizer\" data-toc-modified-id=\"Scipy-optimizer-2.3.8\"><span class=\"toc-item-num\">2.3.8&nbsp;&nbsp;</span>Scipy optimizer</a></span></li><li><span><a href=\"#Graphe\" data-toc-modified-id=\"Graphe-2.3.9\"><span class=\"toc-item-num\">2.3.9&nbsp;&nbsp;</span>Graphe</a></span></li></ul></li><li><span><a href=\"#Dimension-1000\" data-toc-modified-id=\"Dimension-1000-2.4\"><span class=\"toc-item-num\">2.4&nbsp;&nbsp;</span>Dimension 1000</a></span></li></ul></li><li><span><a href=\"#Ackley-function\" data-toc-modified-id=\"Ackley-function-3\"><span class=\"toc-item-num\">3&nbsp;&nbsp;</span>Ackley function</a></span><ul class=\"toc-item\"><li><span><a href=\"#Dimension-10\" data-toc-modified-id=\"Dimension-10-3.1\"><span class=\"toc-item-num\">3.1&nbsp;&nbsp;</span>Dimension 10</a></span><ul class=\"toc-item\"><li><span><a href=\"#Local-PSO---Ring-Topology\" data-toc-modified-id=\"Local-PSO---Ring-Topology-3.1.1\"><span class=\"toc-item-num\">3.1.1&nbsp;&nbsp;</span>Local PSO - Ring Topology</a></span></li></ul></li><li><span><a href=\"#Dimension-100\" data-toc-modified-id=\"Dimension-100-3.2\"><span class=\"toc-item-num\">3.2&nbsp;&nbsp;</span>Dimension 100</a></span></li></ul></li><li><span><a href=\"#Gomez-and-Levy-function\" data-toc-modified-id=\"Gomez-and-Levy-function-4\"><span class=\"toc-item-num\">4&nbsp;&nbsp;</span>Gomez and Levy function</a></span></li><li><span><a href=\"#Sensibility-to-hyperparameters\" data-toc-modified-id=\"Sensibility-to-hyperparameters-5\"><span class=\"toc-item-num\">5&nbsp;&nbsp;</span>Sensibility to hyperparameters</a></span><ul class=\"toc-item\"><li><span><a href=\"#Inertia-and-accelaration-parameters\" data-toc-modified-id=\"Inertia-and-accelaration-parameters-5.1\"><span class=\"toc-item-num\">5.1&nbsp;&nbsp;</span>Inertia and accelaration parameters</a></span></li><li><span><a href=\"#Swarm-size-and-iterations\" data-toc-modified-id=\"Swarm-size-and-iterations-5.2\"><span class=\"toc-item-num\">5.2&nbsp;&nbsp;</span>Swarm size and iterations</a></span><ul class=\"toc-item\"><li><span><a href=\"#Iterations-vs-Particles\" data-toc-modified-id=\"Iterations-vs-Particles-5.2.1\"><span class=\"toc-item-num\">5.2.1&nbsp;&nbsp;</span>Iterations vs Particles</a></span></li></ul></li></ul></li><li><span><a href=\"#Utilities\" data-toc-modified-id=\"Utilities-6\"><span class=\"toc-item-num\">6&nbsp;&nbsp;</span>Utilities</a></span></li></ul></div>"
   ]
  },
  {
   "cell_type": "code",
   "execution_count": 3,
   "metadata": {
    "ExecuteTime": {
     "end_time": "2022-03-21T16:49:26.330738Z",
     "start_time": "2022-03-21T16:49:03.455064Z"
    }
   },
   "outputs": [],
   "source": [
    "import numpy as np\n",
    "import matplotlib.pyplot as plt\n",
    "import pyswarms as ps\n",
    "from scipy.optimize import minimize\n",
    "import math\n",
    "from mpl_toolkits import mplot3d"
   ]
  },
  {
   "cell_type": "markdown",
   "metadata": {},
   "source": [
    "We compare the power of the PSO method compare to usual scipy minimizer on classic test functions for optimization.\n",
    "Firstly in dimension 1 then in high dimensions (more than 100)."
   ]
  },
  {
   "cell_type": "markdown",
   "metadata": {},
   "source": [
    "# Sphere function"
   ]
  },
  {
   "cell_type": "markdown",
   "metadata": {},
   "source": [
    "https://www.sfu.ca/~ssurjano/spheref.html\n",
    "\n",
    "The minimum is at $x=(0,0,0,\\dots,0)$"
   ]
  },
  {
   "cell_type": "code",
   "execution_count": null,
   "metadata": {
    "ExecuteTime": {
     "start_time": "2022-03-21T14:41:41.450Z"
    }
   },
   "outputs": [],
   "source": [
    "#In dimension 1\n",
    "def sphere_dim1(x):\n",
    "    return x**2\n",
    "\n",
    "#Sphere for PSO\n",
    "def sphere_pso(x):\n",
    "    n = len(x[0,:])\n",
    "    f = 0\n",
    "    for i in range(n):\n",
    "        f += x[:,i]**2\n",
    "    return f"
   ]
  },
  {
   "cell_type": "code",
   "execution_count": null,
   "metadata": {
    "ExecuteTime": {
     "start_time": "2022-03-21T14:41:41.981Z"
    }
   },
   "outputs": [],
   "source": [
    "#In dimension 1\n",
    "x = np.linspace(-10,10,100)\n",
    "y= sphere_dim1(x)\n",
    "plt.figure()\n",
    "plt.title(\"Sphere\")\n",
    "plt.plot(x,y)"
   ]
  },
  {
   "cell_type": "markdown",
   "metadata": {},
   "source": [
    "## In dimension 10"
   ]
  },
  {
   "cell_type": "code",
   "execution_count": 4,
   "metadata": {
    "ExecuteTime": {
     "end_time": "2022-03-18T08:59:08.614075Z",
     "start_time": "2022-03-18T08:59:08.288863Z"
    }
   },
   "outputs": [
    {
     "name": "stdout",
     "output_type": "stream",
     "text": [
      "In dimension 10 for 30 particles\n",
      "The minimum find is 0.000\n",
      "The minimum find is 0.001\n",
      "The minimum find is 0.001\n",
      "The minimum find is 0.000\n",
      "The minimum find is 0.002\n",
      "The minimum find is 0.000\n",
      "The minimum find is 0.002\n",
      "The minimum find is 0.003\n",
      "The minimum find is 0.001\n",
      "The minimum find is 0.001\n"
     ]
    }
   ],
   "source": [
    "options = {'c1': 1.49445, 'c2': 1.49445, 'w': 0.729 }\n",
    "dim = 10\n",
    "n_particles = 30\n",
    "print(\"In dimension %d for %d particles\" %(dim,n_particles))\n",
    "x_max = 5.12 * np.ones(dim)\n",
    "x_min = -1 * x_max\n",
    "bounds = (x_min,x_max)\n",
    "for i in range(10):\n",
    "    optimizer = ps.single.GlobalBestPSO(n_particles=n_particles, dimensions=dim, options = options , bounds = bounds)\n",
    "    cost, pos = optimizer.optimize(sphere_pso, iters=100 , verbose = False)\n",
    "    print(\"The minimum find is %.3f\"%(cost))"
   ]
  },
  {
   "cell_type": "markdown",
   "metadata": {},
   "source": [
    "## Dimension 100"
   ]
  },
  {
   "cell_type": "code",
   "execution_count": 92,
   "metadata": {
    "ExecuteTime": {
     "end_time": "2022-03-16T16:52:57.286774Z",
     "start_time": "2022-03-16T16:52:41.531691Z"
    }
   },
   "outputs": [
    {
     "name": "stdout",
     "output_type": "stream",
     "text": [
      "In dimension 100 for 30 particles\n",
      "The minimum find is 2.896\n",
      "The minimum find is 0.273\n",
      "The minimum find is 0.082\n",
      "The minimum find is 0.012\n",
      "The minimum find is 1.561\n",
      "The minimum find is 0.563\n",
      "The minimum find is 3.362\n",
      "The minimum find is 0.101\n",
      "The minimum find is 0.279\n",
      "The minimum find is 1.940\n"
     ]
    }
   ],
   "source": [
    "options = {'c1': 1.49445, 'c2': 1.49445, 'w': 0.729 }\n",
    "dim = 100\n",
    "n_particles = 30\n",
    "print(\"In dimension %d for %d particles\" %(dim,n_particles))\n",
    "x_max = 5.12 * np.ones(dim)\n",
    "x_min = -1 * x_max\n",
    "bounds = (x_min,x_max)\n",
    "for i in range(10):\n",
    "    optimizer = ps.single.GlobalBestPSO(n_particles=n_particles, dimensions=dim, options = options , bounds = bounds)\n",
    "    cost, pos = optimizer.optimize(sphere_pso, iters=2000 , verbose = False)\n",
    "    print(\"The minimum find is %.3f\"%(cost))"
   ]
  },
  {
   "cell_type": "markdown",
   "metadata": {},
   "source": [
    "# Rastrigin function"
   ]
  },
  {
   "cell_type": "markdown",
   "metadata": {},
   "source": [
    "https://en.wikipedia.org/wiki/Rastrigin_function\n",
    "\n",
    "The minimum is at $x = (0,0,0 \\dots , 0 )$"
   ]
  },
  {
   "cell_type": "code",
   "execution_count": 1,
   "metadata": {
    "ExecuteTime": {
     "end_time": "2022-03-21T16:48:58.740485Z",
     "start_time": "2022-03-21T16:48:58.720629Z"
    }
   },
   "outputs": [],
   "source": [
    "#In dimension 1\n",
    "def rastrigin_dim1(x):\n",
    "    A = 10\n",
    "    return x**2 - A *np.cos(2*np.pi*x)\n",
    "\n",
    "#Rastrigin for PSO\n",
    "def rastrigin_pso(x):\n",
    "    n = len(x[0,:])\n",
    "    f = 0\n",
    "    A = 10\n",
    "    for i in range(n):\n",
    "        x_ = x[:,i]\n",
    "        f += x_**2 - A * np.cos(2*np.pi*x_)\n",
    "    f += A * n\n",
    "    return f\n",
    "\n",
    "def rastrigin(x):\n",
    "    A = 10\n",
    "    n = len(x)\n",
    "    f = 0\n",
    "    for i in range(n):\n",
    "        f += x[i]**2 - A * np.cos(2*np.pi*x[i])\n",
    "    f += A * n\n",
    "    return f"
   ]
  },
  {
   "cell_type": "code",
   "execution_count": 2,
   "metadata": {
    "ExecuteTime": {
     "end_time": "2022-03-21T16:48:58.961118Z",
     "start_time": "2022-03-21T16:48:58.944119Z"
    }
   },
   "outputs": [
    {
     "name": "stdout",
     "output_type": "stream",
     "text": [
      "0.0\n"
     ]
    }
   ],
   "source": [
    "print(rastrigin([0,0]))"
   ]
  },
  {
   "cell_type": "code",
   "execution_count": 66,
   "metadata": {
    "ExecuteTime": {
     "end_time": "2022-03-16T16:16:33.044150Z",
     "start_time": "2022-03-16T16:16:32.837184Z"
    }
   },
   "outputs": [
    {
     "data": {
      "text/plain": [
       "[<matplotlib.lines.Line2D at 0x1aef6190470>]"
      ]
     },
     "execution_count": 66,
     "metadata": {},
     "output_type": "execute_result"
    },
    {
     "data": {
      "image/png": "[encoded data removed]",
      "text/plain": [
       "<Figure size 432x288 with 1 Axes>"
      ]
     },
     "metadata": {
      "needs_background": "light"
     },
     "output_type": "display_data"
    }
   ],
   "source": [
    "#In dimension 1\n",
    "x = np.linspace(-5.12,5.12,100)\n",
    "y= rastrigin_dim1(x)\n",
    "plt.figure()\n",
    "plt.title(\"Rastrigin\")\n",
    "plt.plot(x,y)"
   ]
  },
  {
   "cell_type": "markdown",
   "metadata": {},
   "source": [
    "## Dimension 10"
   ]
  },
  {
   "cell_type": "code",
   "execution_count": 84,
   "metadata": {
    "ExecuteTime": {
     "end_time": "2022-03-16T16:39:34.511949Z",
     "start_time": "2022-03-16T16:39:31.963598Z"
    }
   },
   "outputs": [
    {
     "name": "stdout",
     "output_type": "stream",
     "text": [
      "In dimension 10 for 30 particles\n",
      "The minimum find is 2.985\n",
      "The minimum find is 4.975\n",
      "The minimum find is 3.980\n",
      "The minimum find is 2.985\n",
      "The minimum find is 4.975\n",
      "The minimum find is 4.975\n",
      "The minimum find is 3.980\n",
      "The minimum find is 3.980\n",
      "The minimum find is 2.985\n",
      "The minimum find is 2.985\n",
      "2.9848771712798623\n"
     ]
    }
   ],
   "source": [
    "options = {'c1': 1.49445, 'c2': 1.49445, 'w': 0.729 }\n",
    "dim = 10\n",
    "n_particles = 30\n",
    "print(\"In dimension %d for %d particles\" %(dim,n_particles))\n",
    "x_max = 5.12 * np.ones(dim)\n",
    "x_min = -1 * x_max\n",
    "bounds = (x_min,x_max)\n",
    "for i in range(10):\n",
    "    optimizer = ps.single.GlobalBestPSO(n_particles=n_particles, dimensions=dim, options = options , bounds = bounds)\n",
    "    cost, pos = optimizer.optimize(rastrigin_pso, iters=1000 , verbose = False)\n",
    "    print(\"The minimum find is %.3f\"%(cost))\n",
    "print(cost)"
   ]
  },
  {
   "cell_type": "code",
   "execution_count": 8,
   "metadata": {
    "ExecuteTime": {
     "end_time": "2022-03-15T09:22:55.626971Z",
     "start_time": "2022-03-15T09:22:53.540757Z"
    }
   },
   "outputs": [
    {
     "name": "stdout",
     "output_type": "stream",
     "text": [
      "In dimension 10 for 30 particles\n",
      "The minimum find is 5.970\n",
      "The minimum find is 0.995\n",
      "The minimum find is 0.000\n",
      "The minimum find is 1.990\n",
      "The minimum find is 7.960\n",
      "The minimum find is 3.980\n",
      "The minimum find is 2.985\n",
      "The minimum find is 2.985\n",
      "The minimum find is 0.995\n",
      "The minimum find is 2.985\n"
     ]
    }
   ],
   "source": [
    "options = {'c1': 1.49445, 'c2': 1.49445, 'w': 0.729 }\n",
    "dim = 10\n",
    "n_particles = 30\n",
    "print(\"In dimension %d for %d particles\" %(dim,n_particles))\n",
    "x_max = 5.12 * np.ones(dim)\n",
    "x_min = -1 * x_max\n",
    "bounds = (x_min,x_max)\n",
    "for i in range(10):\n",
    "    optimizer = ps.single.GlobalBestPSO(n_particles=n_particles, dimensions=dim, options = options , bounds = bounds)\n",
    "    cost, pos = optimizer.optimize(rastrigin_pso, iters=1000 , verbose = False)\n",
    "    print(\"The minimum find is %.3f\"%(cost))"
   ]
  },
  {
   "cell_type": "code",
   "execution_count": 11,
   "metadata": {
    "ExecuteTime": {
     "end_time": "2022-03-15T09:23:31.761549Z",
     "start_time": "2022-03-15T09:23:31.631587Z"
    }
   },
   "outputs": [
    {
     "name": "stdout",
     "output_type": "stream",
     "text": [
      "Nelder-Mead\n",
      "Optimization terminated successfully.\n",
      "83.57605851234871\n",
      "\n",
      "\n",
      "BFGS\n",
      "Optimization terminated successfully.\n",
      "85.56608981312918\n",
      "\n",
      "\n",
      "COBYLA\n",
      "Optimization terminated successfully.\n",
      "26.863830471884924\n",
      "\n",
      "\n",
      "SLSQP\n",
      "Optimization terminated successfully.\n",
      "96.51036552795212\n",
      "\n",
      "\n"
     ]
    }
   ],
   "source": [
    "dim = 10\n",
    "for solver in ['Nelder-Mead','BFGS', 'COBYLA' , 'SLSQP']:\n",
    "    print('\\033[1m' + solver + '\\033[1m')\n",
    "    x0 = np.random.uniform(-5.12,5.12,dim)\n",
    "    opts = {'disp' : False}\n",
    "    res = minimize(rastrigin,x0, method=solver, options = opts)\n",
    "    print(res.message)\n",
    "    print(rastrigin(res.x))\n",
    "    print(\"\\n\")"
   ]
  },
  {
   "cell_type": "markdown",
   "metadata": {},
   "source": [
    "Remark that in this kind of problems in high-dimension with lot of local minimum, PSO method performs way better than classic optimizer method"
   ]
  },
  {
   "cell_type": "markdown",
   "metadata": {
    "ExecuteTime": {
     "end_time": "2022-03-15T09:26:37.286553Z",
     "start_time": "2022-03-15T09:26:37.272581Z"
    }
   },
   "source": [
    "## Dimension 20"
   ]
  },
  {
   "cell_type": "markdown",
   "metadata": {
    "ExecuteTime": {
     "end_time": "2022-03-15T09:26:37.317138Z",
     "start_time": "2022-03-15T09:26:37.302883Z"
    }
   },
   "source": [
    "### Local PSO - Ring topology"
   ]
  },
  {
   "cell_type": "code",
   "execution_count": 99,
   "metadata": {
    "ExecuteTime": {
     "end_time": "2022-03-15T10:05:10.117736Z",
     "start_time": "2022-03-15T10:03:11.252950Z"
    }
   },
   "outputs": [
    {
     "name": "stdout",
     "output_type": "stream",
     "text": [
      "In dimension 20 for 30 particles\n",
      "1 - The minimum find is 9.950\n",
      "2 - The minimum find is 11.940\n",
      "3 - The minimum find is 14.924\n",
      "4 - The minimum find is 11.940\n",
      "5 - The minimum find is 9.950\n",
      "6 - The minimum find is 5.970\n",
      "7 - The minimum find is 6.965\n",
      "8 - The minimum find is 13.929\n",
      "9 - The minimum find is 13.929\n",
      "10 - The minimum find is 12.934\n",
      "11 - The minimum find is 8.955\n",
      "12 - The minimum find is 4.975\n",
      "13 - The minimum find is 11.940\n",
      "14 - The minimum find is 16.914\n",
      "15 - The minimum find is 12.934\n",
      "16 - The minimum find is 10.945\n",
      "17 - The minimum find is 18.904\n",
      "18 - The minimum find is 9.950\n",
      "19 - The minimum find is 0.995\n",
      "20 - The minimum find is 18.904\n",
      "21 - The minimum find is 10.945\n",
      "22 - The minimum find is 6.965\n",
      "23 - The minimum find is 2.985\n",
      "24 - The minimum find is 6.965\n",
      "25 - The minimum find is 11.940\n",
      "26 - The minimum find is 6.965\n",
      "27 - The minimum find is 10.945\n",
      "28 - The minimum find is 7.960\n",
      "29 - The minimum find is 11.940\n",
      "30 - The minimum find is 8.955\n",
      "31 - The minimum find is 11.940\n",
      "32 - The minimum find is 5.970\n",
      "33 - The minimum find is 10.945\n",
      "34 - The minimum find is 9.950\n",
      "35 - The minimum find is 4.975\n",
      "36 - The minimum find is 12.934\n",
      "37 - The minimum find is 12.934\n",
      "38 - The minimum find is 14.924\n",
      "39 - The minimum find is 11.940\n",
      "40 - The minimum find is 9.950\n",
      "41 - The minimum find is 13.709\n",
      "42 - The minimum find is 17.909\n",
      "43 - The minimum find is 9.950\n",
      "44 - The minimum find is 6.965\n",
      "45 - The minimum find is 11.940\n",
      "46 - The minimum find is 10.945\n",
      "47 - The minimum find is 18.904\n",
      "48 - The minimum find is 8.955\n",
      "49 - The minimum find is 8.955\n",
      "50 - The minimum find is 9.950\n",
      "Moyenne 10.781\n"
     ]
    }
   ],
   "source": [
    "dim = 20\n",
    "n_particles = 30\n",
    "my_topology = ps.backend.topology.Ring(static=True)\n",
    "options = {'c1': 1.49445, 'c2': 1.49445, 'w': 0.729 ,  'k':5 , 'p':2 }\n",
    "print(\"In dimension %d for %d particles\" %(dim,n_particles))\n",
    "x_max = 5.12 * np.ones(dim)\n",
    "x_min = -1 * x_max\n",
    "bounds = (x_min,x_max)\n",
    "average = 0\n",
    "N = 50\n",
    "for i in range(N):\n",
    "    optimizer = ps.single.GeneralOptimizerPSO(n_particles=n_particles, dimensions=dim, options=options, topology=my_topology)\n",
    "    cost, pos = optimizer.optimize(rastrigin_pso, iters=10000 , verbose = False)\n",
    "    print(\"%d - The minimum find is %.3f\"%(i+1,cost))\n",
    "    average += cost\n",
    "print(\"Moyenne %.3f\"%(average/N))"
   ]
  },
  {
   "cell_type": "code",
   "execution_count": 100,
   "metadata": {
    "ExecuteTime": {
     "end_time": "2022-03-15T10:08:03.964684Z",
     "start_time": "2022-03-15T10:05:10.136704Z"
    },
    "scrolled": true
   },
   "outputs": [
    {
     "name": "stdout",
     "output_type": "stream",
     "text": [
      "In dimension 20 for 100 particles\n",
      "1 - The minimum find is 3.980\n",
      "2 - The minimum find is 4.378\n",
      "3 - The minimum find is 5.970\n",
      "4 - The minimum find is 3.980\n",
      "5 - The minimum find is 2.985\n",
      "6 - The minimum find is 8.955\n",
      "7 - The minimum find is 1.990\n",
      "8 - The minimum find is 3.980\n",
      "9 - The minimum find is 3.980\n",
      "10 - The minimum find is 10.945\n",
      "11 - The minimum find is 4.161\n",
      "12 - The minimum find is 9.950\n",
      "13 - The minimum find is 1.990\n",
      "14 - The minimum find is 5.970\n",
      "15 - The minimum find is 7.960\n",
      "16 - The minimum find is 3.980\n",
      "17 - The minimum find is 5.970\n",
      "18 - The minimum find is 4.975\n",
      "19 - The minimum find is 12.934\n",
      "20 - The minimum find is 8.955\n",
      "21 - The minimum find is 3.980\n",
      "22 - The minimum find is 8.955\n",
      "23 - The minimum find is 6.965\n",
      "24 - The minimum find is 2.985\n",
      "25 - The minimum find is 11.481\n",
      "26 - The minimum find is 4.041\n",
      "27 - The minimum find is 7.960\n",
      "28 - The minimum find is 11.940\n",
      "29 - The minimum find is 8.515\n",
      "30 - The minimum find is 4.975\n",
      "31 - The minimum find is 0.000\n",
      "32 - The minimum find is 8.955\n",
      "33 - The minimum find is 9.105\n",
      "34 - The minimum find is 6.965\n",
      "35 - The minimum find is 4.975\n",
      "36 - The minimum find is 9.950\n",
      "37 - The minimum find is 7.960\n",
      "38 - The minimum find is 4.471\n",
      "39 - The minimum find is 3.980\n",
      "40 - The minimum find is 3.980\n",
      "41 - The minimum find is 4.142\n",
      "42 - The minimum find is 9.950\n",
      "43 - The minimum find is 5.314\n",
      "44 - The minimum find is 2.985\n",
      "45 - The minimum find is 6.965\n",
      "46 - The minimum find is 5.970\n",
      "47 - The minimum find is 5.970\n",
      "48 - The minimum find is 2.985\n",
      "49 - The minimum find is 6.062\n",
      "50 - The minimum find is 7.960\n",
      "Moyenne 6.168\n"
     ]
    }
   ],
   "source": [
    "dim = 20\n",
    "n_particles = 100\n",
    "my_topology = ps.backend.topology.Ring(static=True)\n",
    "options = {'c1': 1.49445, 'c2': 1.49445, 'w': 0.729 ,  'k':5 , 'p':2 }\n",
    "print(\"In dimension %d for %d particles\" %(dim,n_particles))\n",
    "x_max = 5.12 * np.ones(dim)\n",
    "x_min = -1 * x_max\n",
    "bounds = (x_min,x_max)\n",
    "average = 0\n",
    "N = 50\n",
    "for i in range(N):\n",
    "    optimizer = ps.single.GeneralOptimizerPSO(n_particles=n_particles, dimensions=dim, options=options, topology=my_topology)\n",
    "    cost, pos = optimizer.optimize(rastrigin_pso, iters=2000 , verbose = False)\n",
    "    print(\"%d - The minimum find is %.3f\"%(i+1,cost))\n",
    "    average += cost\n",
    "print(\"Moyenne %.3f\"%(average/N))"
   ]
  },
  {
   "cell_type": "code",
   "execution_count": 102,
   "metadata": {
    "ExecuteTime": {
     "end_time": "2022-03-15T10:10:13.779505Z",
     "start_time": "2022-03-15T10:08:54.796800Z"
    }
   },
   "outputs": [
    {
     "name": "stdout",
     "output_type": "stream",
     "text": [
      "In dimension 20 for 10000 particles\n",
      "1 - The minimum find is 0.000\n",
      "2 - The minimum find is 0.000\n",
      "Moyenne 0.000\n"
     ]
    }
   ],
   "source": [
    "dim = 20\n",
    "n_particles = 10000\n",
    "my_topology = ps.backend.topology.Ring(static=True)\n",
    "options = {'c1': 1.49445, 'c2': 1.49445, 'w': 0.729 ,  'k':5 , 'p':2 }\n",
    "print(\"In dimension %d for %d particles\" %(dim,n_particles))\n",
    "x_max = 5.12 * np.ones(dim)\n",
    "x_min = -1 * x_max\n",
    "bounds = (x_min,x_max)\n",
    "average = 0\n",
    "N = 2\n",
    "for i in range(N):\n",
    "    optimizer = ps.single.GeneralOptimizerPSO(n_particles=n_particles, dimensions=dim, options=options, topology=my_topology)\n",
    "    cost, pos = optimizer.optimize(rastrigin_pso, iters=2000 , verbose = False)\n",
    "    print(\"%d - The minimum find is %.3f\"%(i+1,cost))\n",
    "    average += cost\n",
    "print(\"Moyenne %.3f\"%(average/N))"
   ]
  },
  {
   "cell_type": "code",
   "execution_count": 106,
   "metadata": {
    "ExecuteTime": {
     "end_time": "2022-03-15T10:12:01.063368Z",
     "start_time": "2022-03-15T10:11:17.903087Z"
    }
   },
   "outputs": [
    {
     "name": "stdout",
     "output_type": "stream",
     "text": [
      "In dimension 20 for 10000 particles\n",
      "1 - The minimum find is 2.985\n",
      "2 - The minimum find is 0.028\n",
      "Moyenne 1.506\n"
     ]
    }
   ],
   "source": [
    "dim = 20\n",
    "n_particles = 10000\n",
    "my_topology = ps.backend.topology.Ring(static=True)\n",
    "options = {'c1': 1.49445, 'c2': 1.49445, 'w': 0.729 ,  'k':5 , 'p':2 }\n",
    "print(\"In dimension %d for %d particles\" %(dim,n_particles))\n",
    "x_max = 5.12 * np.ones(dim)\n",
    "x_min = -1 * x_max\n",
    "bounds = (x_min,x_max)\n",
    "average = 0\n",
    "N = 2\n",
    "for i in range(N):\n",
    "    optimizer = ps.single.GeneralOptimizerPSO(n_particles=n_particles, dimensions=dim, options=options, topology=my_topology)\n",
    "    cost, pos = optimizer.optimize(rastrigin_pso, iters=1000 , verbose = False)\n",
    "    print(\"%d - The minimum find is %.3f\"%(i+1,cost))\n",
    "    average += cost\n",
    "print(\"Moyenne %.3f\"%(average/N))"
   ]
  },
  {
   "cell_type": "markdown",
   "metadata": {},
   "source": [
    "## Dimension 100"
   ]
  },
  {
   "cell_type": "markdown",
   "metadata": {},
   "source": [
    "### Global PSO"
   ]
  },
  {
   "cell_type": "code",
   "execution_count": 83,
   "metadata": {
    "ExecuteTime": {
     "end_time": "2022-03-16T16:39:15.435319Z",
     "start_time": "2022-03-16T16:39:12.327452Z"
    }
   },
   "outputs": [
    {
     "name": "stdout",
     "output_type": "stream",
     "text": [
      "In dimension 10 for 30 particles\n",
      "1 - The minimum find is 2.985\n",
      "2 - The minimum find is 2.985\n",
      "3 - The minimum find is 2.985\n",
      "4 - The minimum find is 3.980\n",
      "5 - The minimum find is 6.965\n",
      "6 - The minimum find is 1.990\n",
      "7 - The minimum find is 2.985\n",
      "8 - The minimum find is 6.965\n",
      "9 - The minimum find is 4.975\n",
      "10 - The minimum find is 9.950\n",
      "Moyenne 4.676\n"
     ]
    }
   ],
   "source": [
    "dim = 100\n",
    "options = {'c1': 1.49445, 'c2': 1.49445, 'w': 0.729}\n",
    "n_particles = 30\n",
    "print(\"In dimension %d for %d particles\" %(dim,n_particles))\n",
    "x_max = 5.12 * np.ones(dim)\n",
    "x_min = -1 * x_max\n",
    "bounds = (x_min,x_max)\n",
    "average = 0\n",
    "N = 10\n",
    "for i in range(N):\n",
    "    optimizer = ps.single.GlobalBestPSO(n_particles=n_particles, dimensions=dim, options = options , bounds = bounds)\n",
    "    cost, pos = optimizer.optimize(rastrigin_pso, iters=1000 , verbose = False)\n",
    "    print(\"%d - The minimum find is %.3f\"%(i+1,cost))\n",
    "    average += cost\n",
    "print(\"Moyenne %.3f\"%(average/N))"
   ]
  },
  {
   "cell_type": "code",
   "execution_count": 110,
   "metadata": {
    "ExecuteTime": {
     "end_time": "2022-03-15T10:16:53.332592Z",
     "start_time": "2022-03-15T10:15:43.441344Z"
    }
   },
   "outputs": [
    {
     "name": "stdout",
     "output_type": "stream",
     "text": [
      "In dimension 100 for 1000 particles\n",
      "1 - The minimum find is 86.561\n",
      "2 - The minimum find is 58.703\n",
      "Moyenne 72.632\n"
     ]
    }
   ],
   "source": [
    "dim = 100\n",
    "options = {'c1': 1.49445, 'c2': 1.49445, 'w': 0.729}\n",
    "n_particles = 1000\n",
    "print(\"In dimension %d for %d particles\" %(dim,n_particles))\n",
    "x_max = 5.12 * np.ones(dim)\n",
    "x_min = -1 * x_max\n",
    "bounds = (x_min,x_max)\n",
    "average = 0\n",
    "N = 2\n",
    "for i in range(N):\n",
    "    optimizer = ps.single.GlobalBestPSO(n_particles=n_particles, dimensions=dim, options = options , bounds = bounds)\n",
    "    cost, pos = optimizer.optimize(rastrigin_pso, iters=5000 , verbose = False)\n",
    "    print(\"%d - The minimum find is %.3f\"%(i+1,cost))\n",
    "    average += cost\n",
    "print(\"Moyenne %.3f\"%(average/N))"
   ]
  },
  {
   "cell_type": "code",
   "execution_count": 111,
   "metadata": {
    "ExecuteTime": {
     "end_time": "2022-03-15T10:21:28.350491Z",
     "start_time": "2022-03-15T10:16:54.119073Z"
    }
   },
   "outputs": [
    {
     "name": "stdout",
     "output_type": "stream",
     "text": [
      "In dimension 100 for 2000 particles\n",
      "1 - The minimum find is 58.703\n",
      "2 - The minimum find is 57.708\n",
      "Moyenne 58.205\n"
     ]
    }
   ],
   "source": [
    "dim = 100\n",
    "options = {'c1': 1.49445, 'c2': 1.49445, 'w': 0.729}\n",
    "n_particles = 2000\n",
    "print(\"In dimension %d for %d particles\" %(dim,n_particles))\n",
    "x_max = 5.12 * np.ones(dim)\n",
    "x_min = -1 * x_max\n",
    "bounds = (x_min,x_max)\n",
    "average = 0\n",
    "N = 2\n",
    "for i in range(N):\n",
    "    optimizer = ps.single.GlobalBestPSO(n_particles=n_particles, dimensions=dim, options = options , bounds = bounds)\n",
    "    cost, pos = optimizer.optimize(rastrigin_pso, iters=5000 , verbose = False)\n",
    "    print(\"%d - The minimum find is %.3f\"%(i+1,cost))\n",
    "    average += cost\n",
    "print(\"Moyenne %.3f\"%(average/N))"
   ]
  },
  {
   "cell_type": "code",
   "execution_count": null,
   "metadata": {},
   "outputs": [],
   "source": []
  },
  {
   "cell_type": "markdown",
   "metadata": {},
   "source": [
    "### Local PSO"
   ]
  },
  {
   "cell_type": "code",
   "execution_count": 7,
   "metadata": {},
   "outputs": [
    {
     "name": "stdout",
     "output_type": "stream",
     "text": [
      "In dimension 100 for 500 particles\n",
      "1 - The minimum find is 282.954\n",
      "2 - The minimum find is 348.230\n",
      "3 - The minimum find is 350.012\n",
      "4 - The minimum find is 411.205\n",
      "5 - The minimum find is 347.454\n"
     ]
    }
   ],
   "source": [
    "dim = 100\n",
    "n_particles = 500\n",
    "options = {'c1': 1.49445, 'c2': 1.49445, 'w': 0.729 , 'k':2 , 'p':2}\n",
    "print(\"In dimension %d for %d particles\" %(dim,n_particles))\n",
    "x_max = 5.12 * np.ones(dim)\n",
    "x_min = -1 * x_max\n",
    "bounds = (x_min,x_max)\n",
    "for i in range(5):\n",
    "    optimizer = ps.single.LocalBestPSO(n_particles=n_particles, dimensions=dim, options = options , bounds = bounds)\n",
    "    cost, pos = optimizer.optimize(rastrigin_pso, iters=2000 , verbose = False)\n",
    "    print(\"%d - The minimum find is %.3f\"%(i+1, cost))"
   ]
  },
  {
   "cell_type": "markdown",
   "metadata": {},
   "source": [
    "Global optimizer - Different topology\n",
    "\n",
    "### Ring topology"
   ]
  },
  {
   "cell_type": "code",
   "execution_count": 112,
   "metadata": {
    "ExecuteTime": {
     "end_time": "2022-03-15T10:22:39.420950Z",
     "start_time": "2022-03-15T10:21:28.466700Z"
    }
   },
   "outputs": [
    {
     "name": "stdout",
     "output_type": "stream",
     "text": [
      "In dimension 100 for 1000 particles\n",
      "1 - The minimum find is 94.521\n",
      "2 - The minimum find is 35.819\n",
      "3 - The minimum find is 32.834\n",
      "4 - The minimum find is 50.766\n",
      "5 - The minimum find is 59.698\n"
     ]
    }
   ],
   "source": [
    "dim = 100\n",
    "n_particles = 1000\n",
    "my_topology = ps.backend.topology.Ring(static=True)\n",
    "options = {'c1': 1.4, 'c2': 1.4, 'w': 0.7 , 'k' : 5, 'p' : 2}\n",
    "print(\"In dimension %d for %d particles\" %(dim,n_particles))\n",
    "x_max = 5.12 * np.ones(dim)\n",
    "x_min = -1 * x_max\n",
    "bounds = (x_min,x_max)\n",
    "for i in range(5):\n",
    "    optimizer = ps.single.GeneralOptimizerPSO(n_particles=n_particles, dimensions=dim, options=options, topology=my_topology)\n",
    "    cost, pos = optimizer.optimize(rastrigin_pso, iters=2000 , verbose = False)\n",
    "    print(\"%d - The minimum find is %.3f\"%(i+1,cost))"
   ]
  },
  {
   "cell_type": "code",
   "execution_count": 113,
   "metadata": {
    "ExecuteTime": {
     "end_time": "2022-03-15T10:26:08.855482Z",
     "start_time": "2022-03-15T10:22:39.455886Z"
    }
   },
   "outputs": [
    {
     "name": "stdout",
     "output_type": "stream",
     "text": [
      "In dimension 100 for 2000 particles\n",
      "1 - The minimum find is 77.975\n",
      "2 - The minimum find is 34.824\n",
      "3 - The minimum find is 39.046\n",
      "4 - The minimum find is 37.051\n",
      "5 - The minimum find is 37.808\n"
     ]
    }
   ],
   "source": [
    "dim = 100\n",
    "n_particles = 2000\n",
    "my_topology = ps.backend.topology.Ring(static=True)\n",
    "options = {'c1': 1.4, 'c2': 1.4, 'w': 0.7 , 'k' : 5 , 'p' : 2}\n",
    "print(\"In dimension %d for %d particles\" %(dim,n_particles))\n",
    "x_max = 5.12 * np.ones(dim)\n",
    "x_min = -1 * x_max\n",
    "bounds = (x_min,x_max)\n",
    "average = 0\n",
    "N = 2\n",
    "for i in range(N):\n",
    "    optimizer = ps.single.GeneralOptimizerPSO(n_particles=n_particles, dimensions=dim, options=options, topology=my_topology)\n",
    "    cost, pos = optimizer.optimize(rastrigin_pso, iters=2000 , verbose = False)\n",
    "    print(\"%d - The minimum find is %.3f\"%(i+1,cost))\n",
    "    average += cost\n",
    "print(\"Average %.3f\" %(average/N))"
   ]
  },
  {
   "cell_type": "code",
   "execution_count": 117,
   "metadata": {
    "ExecuteTime": {
     "end_time": "2022-03-15T10:32:32.111076Z",
     "start_time": "2022-03-15T10:31:06.770545Z"
    }
   },
   "outputs": [
    {
     "name": "stdout",
     "output_type": "stream",
     "text": [
      "In dimension 100 for 2000 particles\n",
      "1 - The minimum find is 27.624\n",
      "2 - The minimum find is 38.327\n",
      "Average 32.976\n"
     ]
    }
   ],
   "source": [
    "dim = 100\n",
    "n_particles = 2000\n",
    "my_topology = ps.backend.topology.Ring(static=True)\n",
    "options = {'c1': 1.49445, 'c2': 1.49445, 'w': 0.729 , 'k':5 , 'p':2}\n",
    "print(\"In dimension %d for %d particles\" %(dim,n_particles))\n",
    "x_max = 5.12 * np.ones(dim)\n",
    "x_min = -1 * x_max\n",
    "bounds = (x_min,x_max)\n",
    "average = 0\n",
    "N = 2\n",
    "for i in range(N):\n",
    "    optimizer = ps.single.GeneralOptimizerPSO(n_particles=n_particles, dimensions=dim, options=options, topology=my_topology)\n",
    "    cost, pos = optimizer.optimize(rastrigin_pso, iters=2000 , verbose = False)\n",
    "    print(\"%d - The minimum find is %.3f\"%(i+1,cost))\n",
    "    average += cost\n",
    "print(\"Average %.3f\" %(average/N))"
   ]
  },
  {
   "cell_type": "code",
   "execution_count": 118,
   "metadata": {
    "ExecuteTime": {
     "end_time": "2022-03-15T10:34:08.200146Z",
     "start_time": "2022-03-15T10:32:33.979460Z"
    }
   },
   "outputs": [
    {
     "name": "stdout",
     "output_type": "stream",
     "text": [
      "In dimension 100 for 2000 particles\n",
      "1 - The minimum find is 658.486\n",
      "2 - The minimum find is 704.719\n",
      "Average 681.603\n"
     ]
    }
   ],
   "source": [
    "dim = 100\n",
    "n_particles = 2000\n",
    "my_topology = ps.backend.topology.Ring(static=True)\n",
    "options = {'c1': 2, 'c2': 2, 'w': 0.7 , 'k':5 , 'p':2}\n",
    "print(\"In dimension %d for %d particles\" %(dim,n_particles))\n",
    "x_max = 5.12 * np.ones(dim)\n",
    "x_min = -1 * x_max\n",
    "bounds = (x_min,x_max)\n",
    "average = 0\n",
    "N = 2\n",
    "for i in range(N):\n",
    "    optimizer = ps.single.GeneralOptimizerPSO(n_particles=n_particles, dimensions=dim, options=options, topology=my_topology)\n",
    "    cost, pos = optimizer.optimize(rastrigin_pso, iters=2000 , verbose = False)\n",
    "    print(\"%d - The minimum find is %.3f\"%(i+1,cost))\n",
    "    average += cost\n",
    "print(\"Average %.3f\" %(average/N))"
   ]
  },
  {
   "cell_type": "markdown",
   "metadata": {},
   "source": [
    "### Star topology"
   ]
  },
  {
   "cell_type": "code",
   "execution_count": 20,
   "metadata": {
    "ExecuteTime": {
     "end_time": "2022-03-04T13:59:47.194246Z",
     "start_time": "2022-03-04T13:59:38.000422Z"
    }
   },
   "outputs": [
    {
     "name": "stdout",
     "output_type": "stream",
     "text": [
      "In dimension 100 for 500 particles\n",
      "1 - The minimum find is 310.972\n"
     ]
    },
    {
     "ename": "KeyboardInterrupt",
     "evalue": "",
     "output_type": "error",
     "traceback": [
      "\u001b[1;31m---------------------------------------------------------------------------\u001b[0m",
      "\u001b[1;31mKeyboardInterrupt\u001b[0m                         Traceback (most recent call last)",
      "\u001b[1;32m<ipython-input-20-1ef1f6a7904f>\u001b[0m in \u001b[0;36m<module>\u001b[1;34m\u001b[0m\n\u001b[0;32m      9\u001b[0m \u001b[1;32mfor\u001b[0m \u001b[0mi\u001b[0m \u001b[1;32min\u001b[0m \u001b[0mrange\u001b[0m\u001b[1;33m(\u001b[0m\u001b[1;36m5\u001b[0m\u001b[1;33m)\u001b[0m\u001b[1;33m:\u001b[0m\u001b[1;33m\u001b[0m\u001b[1;33m\u001b[0m\u001b[0m\n\u001b[0;32m     10\u001b[0m     \u001b[0moptimizer\u001b[0m \u001b[1;33m=\u001b[0m \u001b[0mps\u001b[0m\u001b[1;33m.\u001b[0m\u001b[0msingle\u001b[0m\u001b[1;33m.\u001b[0m\u001b[0mGeneralOptimizerPSO\u001b[0m\u001b[1;33m(\u001b[0m\u001b[0mn_particles\u001b[0m\u001b[1;33m=\u001b[0m\u001b[0mn_particles\u001b[0m\u001b[1;33m,\u001b[0m \u001b[0mdimensions\u001b[0m\u001b[1;33m=\u001b[0m\u001b[0mdim\u001b[0m\u001b[1;33m,\u001b[0m \u001b[0moptions\u001b[0m\u001b[1;33m=\u001b[0m\u001b[0moptions\u001b[0m\u001b[1;33m,\u001b[0m \u001b[0mtopology\u001b[0m\u001b[1;33m=\u001b[0m\u001b[0mmy_topology\u001b[0m\u001b[1;33m)\u001b[0m\u001b[1;33m\u001b[0m\u001b[1;33m\u001b[0m\u001b[0m\n\u001b[1;32m---> 11\u001b[1;33m     \u001b[0mcost\u001b[0m\u001b[1;33m,\u001b[0m \u001b[0mpos\u001b[0m \u001b[1;33m=\u001b[0m \u001b[0moptimizer\u001b[0m\u001b[1;33m.\u001b[0m\u001b[0moptimize\u001b[0m\u001b[1;33m(\u001b[0m\u001b[0mrastrigin_pso\u001b[0m\u001b[1;33m,\u001b[0m \u001b[0miters\u001b[0m\u001b[1;33m=\u001b[0m\u001b[1;36m2000\u001b[0m \u001b[1;33m,\u001b[0m \u001b[0mverbose\u001b[0m \u001b[1;33m=\u001b[0m \u001b[1;32mFalse\u001b[0m\u001b[1;33m)\u001b[0m\u001b[1;33m\u001b[0m\u001b[1;33m\u001b[0m\u001b[0m\n\u001b[0m\u001b[0;32m     12\u001b[0m     \u001b[0mprint\u001b[0m\u001b[1;33m(\u001b[0m\u001b[1;34m\"%d - The minimum find is %.3f\"\u001b[0m\u001b[1;33m%\u001b[0m\u001b[1;33m(\u001b[0m\u001b[0mi\u001b[0m\u001b[1;33m+\u001b[0m\u001b[1;36m1\u001b[0m\u001b[1;33m,\u001b[0m\u001b[0mcost\u001b[0m\u001b[1;33m)\u001b[0m\u001b[1;33m)\u001b[0m\u001b[1;33m\u001b[0m\u001b[1;33m\u001b[0m\u001b[0m\n",
      "\u001b[1;32mC:\\ProgramData\\Anaconda3\\lib\\site-packages\\pyswarms\\single\\general_optimizer.py\u001b[0m in \u001b[0;36moptimize\u001b[1;34m(self, objective_func, iters, n_processes, verbose, **kwargs)\u001b[0m\n\u001b[0;32m    246\u001b[0m             \u001b[1;31m# fmt: off\u001b[0m\u001b[1;33m\u001b[0m\u001b[1;33m\u001b[0m\u001b[1;33m\u001b[0m\u001b[0m\n\u001b[0;32m    247\u001b[0m             \u001b[0mself\u001b[0m\u001b[1;33m.\u001b[0m\u001b[0mswarm\u001b[0m\u001b[1;33m.\u001b[0m\u001b[0mcurrent_cost\u001b[0m \u001b[1;33m=\u001b[0m \u001b[0mcompute_objective_function\u001b[0m\u001b[1;33m(\u001b[0m\u001b[0mself\u001b[0m\u001b[1;33m.\u001b[0m\u001b[0mswarm\u001b[0m\u001b[1;33m,\u001b[0m \u001b[0mobjective_func\u001b[0m\u001b[1;33m,\u001b[0m \u001b[0mpool\u001b[0m\u001b[1;33m=\u001b[0m\u001b[0mpool\u001b[0m\u001b[1;33m,\u001b[0m \u001b[1;33m**\u001b[0m\u001b[0mkwargs\u001b[0m\u001b[1;33m)\u001b[0m\u001b[1;33m\u001b[0m\u001b[1;33m\u001b[0m\u001b[0m\n\u001b[1;32m--> 248\u001b[1;33m             \u001b[0mself\u001b[0m\u001b[1;33m.\u001b[0m\u001b[0mswarm\u001b[0m\u001b[1;33m.\u001b[0m\u001b[0mpbest_pos\u001b[0m\u001b[1;33m,\u001b[0m \u001b[0mself\u001b[0m\u001b[1;33m.\u001b[0m\u001b[0mswarm\u001b[0m\u001b[1;33m.\u001b[0m\u001b[0mpbest_cost\u001b[0m \u001b[1;33m=\u001b[0m \u001b[0mcompute_pbest\u001b[0m\u001b[1;33m(\u001b[0m\u001b[0mself\u001b[0m\u001b[1;33m.\u001b[0m\u001b[0mswarm\u001b[0m\u001b[1;33m)\u001b[0m\u001b[1;33m\u001b[0m\u001b[1;33m\u001b[0m\u001b[0m\n\u001b[0m\u001b[0;32m    249\u001b[0m             \u001b[0mbest_cost_yet_found\u001b[0m \u001b[1;33m=\u001b[0m \u001b[0mself\u001b[0m\u001b[1;33m.\u001b[0m\u001b[0mswarm\u001b[0m\u001b[1;33m.\u001b[0m\u001b[0mbest_cost\u001b[0m\u001b[1;33m\u001b[0m\u001b[1;33m\u001b[0m\u001b[0m\n\u001b[0;32m    250\u001b[0m             \u001b[1;31m# fmt: on\u001b[0m\u001b[1;33m\u001b[0m\u001b[1;33m\u001b[0m\u001b[1;33m\u001b[0m\u001b[0m\n",
      "\u001b[1;32mC:\\ProgramData\\Anaconda3\\lib\\site-packages\\pyswarms\\backend\\operators.py\u001b[0m in \u001b[0;36mcompute_pbest\u001b[1;34m(swarm)\u001b[0m\n\u001b[0;32m     67\u001b[0m         \u001b[0mmask_pos\u001b[0m \u001b[1;33m=\u001b[0m \u001b[0mnp\u001b[0m\u001b[1;33m.\u001b[0m\u001b[0mrepeat\u001b[0m\u001b[1;33m(\u001b[0m\u001b[0mmask_cost\u001b[0m\u001b[1;33m[\u001b[0m\u001b[1;33m:\u001b[0m\u001b[1;33m,\u001b[0m \u001b[0mnp\u001b[0m\u001b[1;33m.\u001b[0m\u001b[0mnewaxis\u001b[0m\u001b[1;33m]\u001b[0m\u001b[1;33m,\u001b[0m \u001b[0mdimensions\u001b[0m\u001b[1;33m,\u001b[0m \u001b[0maxis\u001b[0m\u001b[1;33m=\u001b[0m\u001b[1;36m1\u001b[0m\u001b[1;33m)\u001b[0m\u001b[1;33m\u001b[0m\u001b[1;33m\u001b[0m\u001b[0m\n\u001b[0;32m     68\u001b[0m         \u001b[1;31m# Apply masks\u001b[0m\u001b[1;33m\u001b[0m\u001b[1;33m\u001b[0m\u001b[1;33m\u001b[0m\u001b[0m\n\u001b[1;32m---> 69\u001b[1;33m         \u001b[0mnew_pbest_pos\u001b[0m \u001b[1;33m=\u001b[0m \u001b[0mnp\u001b[0m\u001b[1;33m.\u001b[0m\u001b[0mwhere\u001b[0m\u001b[1;33m(\u001b[0m\u001b[1;33m~\u001b[0m\u001b[0mmask_pos\u001b[0m\u001b[1;33m,\u001b[0m \u001b[0mswarm\u001b[0m\u001b[1;33m.\u001b[0m\u001b[0mpbest_pos\u001b[0m\u001b[1;33m,\u001b[0m \u001b[0mswarm\u001b[0m\u001b[1;33m.\u001b[0m\u001b[0mposition\u001b[0m\u001b[1;33m)\u001b[0m\u001b[1;33m\u001b[0m\u001b[1;33m\u001b[0m\u001b[0m\n\u001b[0m\u001b[0;32m     70\u001b[0m         new_pbest_cost = np.where(\n\u001b[0;32m     71\u001b[0m             \u001b[1;33m~\u001b[0m\u001b[0mmask_cost\u001b[0m\u001b[1;33m,\u001b[0m \u001b[0mswarm\u001b[0m\u001b[1;33m.\u001b[0m\u001b[0mpbest_cost\u001b[0m\u001b[1;33m,\u001b[0m \u001b[0mswarm\u001b[0m\u001b[1;33m.\u001b[0m\u001b[0mcurrent_cost\u001b[0m\u001b[1;33m\u001b[0m\u001b[1;33m\u001b[0m\u001b[0m\n",
      "\u001b[1;31mKeyboardInterrupt\u001b[0m: "
     ]
    }
   ],
   "source": [
    "dim = 100\n",
    "n_particles = 500\n",
    "my_topology = ps.backend.topology.Star()\n",
    "options = {'c1': 1.49445, 'c2': 1.49445, 'w': 0.2}\n",
    "print(\"In dimension %d for %d particles\" %(dim,n_particles))\n",
    "x_max = 5.12 * np.ones(dim)\n",
    "x_min = -1 * x_max\n",
    "bounds = (x_min,x_max)\n",
    "for i in range(5):\n",
    "    optimizer = ps.single.GeneralOptimizerPSO(n_particles=n_particles, dimensions=dim, options=options, topology=my_topology)\n",
    "    cost, pos = optimizer.optimize(rastrigin_pso, iters=2000 , verbose = False)\n",
    "    print(\"%d - The minimum find is %.3f\"%(i+1,cost))"
   ]
  },
  {
   "cell_type": "markdown",
   "metadata": {},
   "source": [
    "### VonNeumann topology"
   ]
  },
  {
   "cell_type": "code",
   "execution_count": 32,
   "metadata": {
    "ExecuteTime": {
     "end_time": "2022-03-15T09:32:43.558073Z",
     "start_time": "2022-03-15T09:32:43.516282Z"
    }
   },
   "outputs": [
    {
     "name": "stdout",
     "output_type": "stream",
     "text": [
      "In dimension 100 for 30 particles\n"
     ]
    },
    {
     "ename": "IndexError",
     "evalue": "index 30 is out of bounds for axis 0 with size 30",
     "output_type": "error",
     "traceback": [
      "\u001b[1;31m---------------------------------------------------------------------------\u001b[0m",
      "\u001b[1;31mIndexError\u001b[0m                                Traceback (most recent call last)",
      "\u001b[1;32m<ipython-input-32-cfcca6acf5cd>\u001b[0m in \u001b[0;36m<module>\u001b[1;34m\u001b[0m\n\u001b[0;32m      9\u001b[0m \u001b[1;32mfor\u001b[0m \u001b[0mi\u001b[0m \u001b[1;32min\u001b[0m \u001b[0mrange\u001b[0m\u001b[1;33m(\u001b[0m\u001b[1;36m5\u001b[0m\u001b[1;33m)\u001b[0m\u001b[1;33m:\u001b[0m\u001b[1;33m\u001b[0m\u001b[1;33m\u001b[0m\u001b[0m\n\u001b[0;32m     10\u001b[0m     \u001b[0moptimizer\u001b[0m \u001b[1;33m=\u001b[0m \u001b[0mps\u001b[0m\u001b[1;33m.\u001b[0m\u001b[0msingle\u001b[0m\u001b[1;33m.\u001b[0m\u001b[0mGeneralOptimizerPSO\u001b[0m\u001b[1;33m(\u001b[0m\u001b[0mn_particles\u001b[0m\u001b[1;33m=\u001b[0m\u001b[0mn_particles\u001b[0m\u001b[1;33m,\u001b[0m \u001b[0mdimensions\u001b[0m\u001b[1;33m=\u001b[0m\u001b[0mdim\u001b[0m\u001b[1;33m,\u001b[0m \u001b[0moptions\u001b[0m\u001b[1;33m=\u001b[0m\u001b[0moptions\u001b[0m\u001b[1;33m,\u001b[0m \u001b[0mtopology\u001b[0m\u001b[1;33m=\u001b[0m\u001b[0mmy_topology\u001b[0m\u001b[1;33m)\u001b[0m\u001b[1;33m\u001b[0m\u001b[1;33m\u001b[0m\u001b[0m\n\u001b[1;32m---> 11\u001b[1;33m     \u001b[0mcost\u001b[0m\u001b[1;33m,\u001b[0m \u001b[0mpos\u001b[0m \u001b[1;33m=\u001b[0m \u001b[0moptimizer\u001b[0m\u001b[1;33m.\u001b[0m\u001b[0moptimize\u001b[0m\u001b[1;33m(\u001b[0m\u001b[0mrastrigin_pso\u001b[0m\u001b[1;33m,\u001b[0m \u001b[0miters\u001b[0m\u001b[1;33m=\u001b[0m\u001b[1;36m1000\u001b[0m \u001b[1;33m,\u001b[0m \u001b[0mverbose\u001b[0m \u001b[1;33m=\u001b[0m \u001b[1;32mFalse\u001b[0m\u001b[1;33m)\u001b[0m\u001b[1;33m\u001b[0m\u001b[1;33m\u001b[0m\u001b[0m\n\u001b[0m\u001b[0;32m     12\u001b[0m     \u001b[0mprint\u001b[0m\u001b[1;33m(\u001b[0m\u001b[1;34m\"%d - The minimum find is %.3f\"\u001b[0m\u001b[1;33m%\u001b[0m\u001b[1;33m(\u001b[0m\u001b[0mi\u001b[0m\u001b[1;33m+\u001b[0m\u001b[1;36m1\u001b[0m\u001b[1;33m,\u001b[0m\u001b[0mcost\u001b[0m\u001b[1;33m)\u001b[0m\u001b[1;33m)\u001b[0m\u001b[1;33m\u001b[0m\u001b[1;33m\u001b[0m\u001b[0m\n",
      "\u001b[1;32mC:\\ProgramData\\Anaconda3\\lib\\site-packages\\pyswarms\\single\\general_optimizer.py\u001b[0m in \u001b[0;36moptimize\u001b[1;34m(self, objective_func, iters, n_processes, verbose, **kwargs)\u001b[0m\n\u001b[0;32m    251\u001b[0m             \u001b[1;31m# Update swarm\u001b[0m\u001b[1;33m\u001b[0m\u001b[1;33m\u001b[0m\u001b[1;33m\u001b[0m\u001b[0m\n\u001b[0;32m    252\u001b[0m             self.swarm.best_pos, self.swarm.best_cost = self.top.compute_gbest(\n\u001b[1;32m--> 253\u001b[1;33m                 \u001b[0mself\u001b[0m\u001b[1;33m.\u001b[0m\u001b[0mswarm\u001b[0m\u001b[1;33m,\u001b[0m \u001b[1;33m**\u001b[0m\u001b[0mself\u001b[0m\u001b[1;33m.\u001b[0m\u001b[0moptions\u001b[0m\u001b[1;33m\u001b[0m\u001b[1;33m\u001b[0m\u001b[0m\n\u001b[0m\u001b[0;32m    254\u001b[0m             )\n\u001b[0;32m    255\u001b[0m             \u001b[1;31m# Print to console\u001b[0m\u001b[1;33m\u001b[0m\u001b[1;33m\u001b[0m\u001b[1;33m\u001b[0m\u001b[0m\n",
      "\u001b[1;32mC:\\ProgramData\\Anaconda3\\lib\\site-packages\\pyswarms\\backend\\topology\\von_neumann.py\u001b[0m in \u001b[0;36mcompute_gbest\u001b[1;34m(self, swarm, p, r, **kwargs)\u001b[0m\n\u001b[0;32m     48\u001b[0m         \"\"\"\n\u001b[0;32m     49\u001b[0m         \u001b[0mk\u001b[0m \u001b[1;33m=\u001b[0m \u001b[0mVonNeumann\u001b[0m\u001b[1;33m.\u001b[0m\u001b[0mdelannoy\u001b[0m\u001b[1;33m(\u001b[0m\u001b[0mswarm\u001b[0m\u001b[1;33m.\u001b[0m\u001b[0mdimensions\u001b[0m\u001b[1;33m,\u001b[0m \u001b[0mr\u001b[0m\u001b[1;33m)\u001b[0m\u001b[1;33m\u001b[0m\u001b[1;33m\u001b[0m\u001b[0m\n\u001b[1;32m---> 50\u001b[1;33m         \u001b[1;32mreturn\u001b[0m \u001b[0msuper\u001b[0m\u001b[1;33m(\u001b[0m\u001b[0mVonNeumann\u001b[0m\u001b[1;33m,\u001b[0m \u001b[0mself\u001b[0m\u001b[1;33m)\u001b[0m\u001b[1;33m.\u001b[0m\u001b[0mcompute_gbest\u001b[0m\u001b[1;33m(\u001b[0m\u001b[0mswarm\u001b[0m\u001b[1;33m,\u001b[0m \u001b[0mp\u001b[0m\u001b[1;33m,\u001b[0m \u001b[0mk\u001b[0m\u001b[1;33m)\u001b[0m\u001b[1;33m\u001b[0m\u001b[1;33m\u001b[0m\u001b[0m\n\u001b[0m\u001b[0;32m     51\u001b[0m \u001b[1;33m\u001b[0m\u001b[0m\n\u001b[0;32m     52\u001b[0m     \u001b[1;33m@\u001b[0m\u001b[0mstaticmethod\u001b[0m\u001b[1;33m\u001b[0m\u001b[1;33m\u001b[0m\u001b[0m\n",
      "\u001b[1;32mC:\\ProgramData\\Anaconda3\\lib\\site-packages\\pyswarms\\backend\\topology\\ring.py\u001b[0m in \u001b[0;36mcompute_gbest\u001b[1;34m(self, swarm, p, k, **kwargs)\u001b[0m\n\u001b[0;32m     76\u001b[0m                 \u001b[0mbest_neighbor\u001b[0m \u001b[1;33m=\u001b[0m \u001b[0mnp\u001b[0m\u001b[1;33m.\u001b[0m\u001b[0marange\u001b[0m\u001b[1;33m(\u001b[0m\u001b[0mswarm\u001b[0m\u001b[1;33m.\u001b[0m\u001b[0mn_particles\u001b[0m\u001b[1;33m)\u001b[0m\u001b[1;33m\u001b[0m\u001b[1;33m\u001b[0m\u001b[0m\n\u001b[0;32m     77\u001b[0m             \u001b[1;32melse\u001b[0m\u001b[1;33m:\u001b[0m\u001b[1;33m\u001b[0m\u001b[1;33m\u001b[0m\u001b[0m\n\u001b[1;32m---> 78\u001b[1;33m                 \u001b[0midx_min\u001b[0m \u001b[1;33m=\u001b[0m \u001b[0mswarm\u001b[0m\u001b[1;33m.\u001b[0m\u001b[0mpbest_cost\u001b[0m\u001b[1;33m[\u001b[0m\u001b[0mself\u001b[0m\u001b[1;33m.\u001b[0m\u001b[0mneighbor_idx\u001b[0m\u001b[1;33m]\u001b[0m\u001b[1;33m.\u001b[0m\u001b[0margmin\u001b[0m\u001b[1;33m(\u001b[0m\u001b[0maxis\u001b[0m\u001b[1;33m=\u001b[0m\u001b[1;36m1\u001b[0m\u001b[1;33m)\u001b[0m\u001b[1;33m\u001b[0m\u001b[1;33m\u001b[0m\u001b[0m\n\u001b[0m\u001b[0;32m     79\u001b[0m                 best_neighbor = self.neighbor_idx[\n\u001b[0;32m     80\u001b[0m                     \u001b[0mnp\u001b[0m\u001b[1;33m.\u001b[0m\u001b[0marange\u001b[0m\u001b[1;33m(\u001b[0m\u001b[0mlen\u001b[0m\u001b[1;33m(\u001b[0m\u001b[0mself\u001b[0m\u001b[1;33m.\u001b[0m\u001b[0mneighbor_idx\u001b[0m\u001b[1;33m)\u001b[0m\u001b[1;33m)\u001b[0m\u001b[1;33m,\u001b[0m \u001b[0midx_min\u001b[0m\u001b[1;33m\u001b[0m\u001b[1;33m\u001b[0m\u001b[0m\n",
      "\u001b[1;31mIndexError\u001b[0m: index 30 is out of bounds for axis 0 with size 30"
     ]
    }
   ],
   "source": [
    "dim = 100\n",
    "n_particles = 30\n",
    "my_topology = ps.backend.topology.VonNeumann(static=True)\n",
    "options = {'c1': 1.49445, 'c2': 1.49445, 'w': 0.729, 'p' : 1 , 'r' : 1}\n",
    "print(\"In dimension %d for %d particles\" %(dim,n_particles))\n",
    "x_max = 5.12 * np.ones(dim)\n",
    "x_min = -1 * x_max\n",
    "bounds = (x_min,x_max)\n",
    "for i in range(5):\n",
    "    optimizer = ps.single.GeneralOptimizerPSO(n_particles=n_particles, dimensions=dim, options=options, topology=my_topology)\n",
    "    cost, pos = optimizer.optimize(rastrigin_pso, iters=1000 , verbose = False)\n",
    "    print(\"%d - The minimum find is %.3f\"%(i+1,cost))"
   ]
  },
  {
   "cell_type": "markdown",
   "metadata": {},
   "source": [
    "### Pyramid topology"
   ]
  },
  {
   "cell_type": "code",
   "execution_count": 1,
   "metadata": {},
   "outputs": [
    {
     "ename": "NameError",
     "evalue": "name 'ps' is not defined",
     "output_type": "error",
     "traceback": [
      "\u001b[1;31m---------------------------------------------------------------------------\u001b[0m",
      "\u001b[1;31mNameError\u001b[0m                                 Traceback (most recent call last)",
      "\u001b[1;32m<ipython-input-1-c956fba75408>\u001b[0m in \u001b[0;36m<module>\u001b[1;34m\u001b[0m\n\u001b[0;32m      1\u001b[0m \u001b[0mdim\u001b[0m \u001b[1;33m=\u001b[0m \u001b[1;36m100\u001b[0m\u001b[1;33m\u001b[0m\u001b[1;33m\u001b[0m\u001b[0m\n\u001b[0;32m      2\u001b[0m \u001b[0mn_particles\u001b[0m \u001b[1;33m=\u001b[0m \u001b[1;36m100\u001b[0m\u001b[1;33m\u001b[0m\u001b[1;33m\u001b[0m\u001b[0m\n\u001b[1;32m----> 3\u001b[1;33m \u001b[0mmy_topology\u001b[0m \u001b[1;33m=\u001b[0m \u001b[0mps\u001b[0m\u001b[1;33m.\u001b[0m\u001b[0mbackend\u001b[0m\u001b[1;33m.\u001b[0m\u001b[0mtopology\u001b[0m\u001b[1;33m.\u001b[0m\u001b[0mPyramid\u001b[0m\u001b[1;33m(\u001b[0m\u001b[0mstatic\u001b[0m\u001b[1;33m=\u001b[0m\u001b[1;32mTrue\u001b[0m\u001b[1;33m)\u001b[0m\u001b[1;33m\u001b[0m\u001b[1;33m\u001b[0m\u001b[0m\n\u001b[0m\u001b[0;32m      4\u001b[0m \u001b[0moptions\u001b[0m \u001b[1;33m=\u001b[0m \u001b[1;33m{\u001b[0m\u001b[1;34m'c1'\u001b[0m\u001b[1;33m:\u001b[0m \u001b[1;36m1.49445\u001b[0m\u001b[1;33m,\u001b[0m \u001b[1;34m'c2'\u001b[0m\u001b[1;33m:\u001b[0m \u001b[1;36m1.49445\u001b[0m\u001b[1;33m,\u001b[0m \u001b[1;34m'w'\u001b[0m\u001b[1;33m:\u001b[0m \u001b[1;36m0.729\u001b[0m\u001b[1;33m,\u001b[0m \u001b[1;34m'p'\u001b[0m \u001b[1;33m:\u001b[0m \u001b[1;36m1\u001b[0m \u001b[1;33m,\u001b[0m \u001b[1;34m'r'\u001b[0m \u001b[1;33m:\u001b[0m \u001b[1;36m1\u001b[0m\u001b[1;33m}\u001b[0m\u001b[1;33m\u001b[0m\u001b[1;33m\u001b[0m\u001b[0m\n\u001b[0;32m      5\u001b[0m \u001b[0mprint\u001b[0m\u001b[1;33m(\u001b[0m\u001b[1;34m\"In dimension %d for %d particles\"\u001b[0m \u001b[1;33m%\u001b[0m\u001b[1;33m(\u001b[0m\u001b[0mdim\u001b[0m\u001b[1;33m,\u001b[0m\u001b[0mn_particles\u001b[0m\u001b[1;33m)\u001b[0m\u001b[1;33m)\u001b[0m\u001b[1;33m\u001b[0m\u001b[1;33m\u001b[0m\u001b[0m\n",
      "\u001b[1;31mNameError\u001b[0m: name 'ps' is not defined"
     ]
    }
   ],
   "source": [
    "dim = 100\n",
    "n_particles = 100\n",
    "my_topology = ps.backend.topology.Pyramid(static=True)\n",
    "options = {'c1': 1.49445, 'c2': 1.49445, 'w': 0.729, 'p' : 1 , 'r' : 1}\n",
    "print(\"In dimension %d for %d particles\" %(dim,n_particles))\n",
    "x_max = 5.12 * np.ones(dim)\n",
    "x_min = -1 * x_max\n",
    "bounds = (x_min,x_max)\n",
    "for i in range(5):\n",
    "    optimizer = ps.single.GeneralOptimizerPSO(n_particles=n_particles, dimensions=dim, options=options, topology=my_topology)\n",
    "    cost, pos = optimizer.optimize(rastrigin_pso, iters=2000 , verbose = False)\n",
    "    print(\"%d - The minimum find is %.3f\"%(i+1,cost))"
   ]
  },
  {
   "cell_type": "markdown",
   "metadata": {},
   "source": [
    "### Random topology"
   ]
  },
  {
   "cell_type": "code",
   "execution_count": null,
   "metadata": {},
   "outputs": [],
   "source": [
    "dim = 100\n",
    "n_particles = 500\n",
    "my_topology = ps.backend.topology.Random()\n",
    "options = {'c1': 1.49445, 'c2': 1.49445, 'w': 0.729, 'k' : }\n",
    "print(\"In dimension %d for %d particles\" %(dim,n_particles))\n",
    "x_max = 5.12 * np.ones(dim)\n",
    "x_min = -1 * x_max\n",
    "bounds = (x_min,x_max)\n",
    "for i in range(5):\n",
    "    optimizer = ps.single.GeneralOptimizerPSO(n_particles=n_particles, dimensions=dim, options=options, topology=my_topology)\n",
    "    cost, pos = optimizer.optimize(rastrigin_pso, iters=2000 , verbose = False)\n",
    "    print(\"%d - The minimum find is %.3f\"%(i+1,cost))"
   ]
  },
  {
   "cell_type": "markdown",
   "metadata": {},
   "source": [
    "### Scipy optimizer"
   ]
  },
  {
   "cell_type": "code",
   "execution_count": 312,
   "metadata": {},
   "outputs": [
    {
     "name": "stdout",
     "output_type": "stream",
     "text": [
      " Nelder-Mead\n"
     ]
    },
    {
     "name": "stderr",
     "output_type": "stream",
     "text": [
      "C:\\ProgramData\\Anaconda3\\lib\\site-packages\\scipy\\optimize\\_minimize.py:517: RuntimeWarning: Method Nelder-Mead cannot handle constraints nor bounds.\n",
      "  RuntimeWarning)\n"
     ]
    },
    {
     "name": "stdout",
     "output_type": "stream",
     "text": [
      "Maximum number of function evaluations has been exceeded.\n",
      "979.5625442007494\n",
      " BFGS\n"
     ]
    },
    {
     "name": "stderr",
     "output_type": "stream",
     "text": [
      "C:\\ProgramData\\Anaconda3\\lib\\site-packages\\scipy\\optimize\\_minimize.py:517: RuntimeWarning: Method BFGS cannot handle constraints nor bounds.\n",
      "  RuntimeWarning)\n"
     ]
    },
    {
     "name": "stdout",
     "output_type": "stream",
     "text": [
      "Desired error not necessarily achieved due to precision loss.\n",
      "764.124515338407\n",
      " COBYLA\n"
     ]
    },
    {
     "name": "stderr",
     "output_type": "stream",
     "text": [
      "C:\\ProgramData\\Anaconda3\\lib\\site-packages\\scipy\\optimize\\_minimize.py:523: RuntimeWarning: Method COBYLA cannot handle bounds.\n",
      "  RuntimeWarning)\n"
     ]
    },
    {
     "name": "stdout",
     "output_type": "stream",
     "text": [
      "Maximum number of function evaluations has been exceeded.\n",
      "744.6271185694566\n"
     ]
    }
   ],
   "source": [
    "dim = 100\n",
    "for solver in ['Nelder-Mead','BFGS', 'COBYLA']:\n",
    "    print('\\033[1m ' + solver + '\\033[1m')\n",
    "    x0 = np.random.uniform(-5.12,5.12,dim)\n",
    "    opts = {'disp' : False}\n",
    "    res = minimize(rastrigin_scipy,x0, method=solver, options = opts , bounds = bounds)\n",
    "    print(res.message)\n",
    "    print(rastrigin_classic(res.x))"
   ]
  },
  {
   "cell_type": "markdown",
   "metadata": {},
   "source": [
    "### Graphe "
   ]
  },
  {
   "cell_type": "markdown",
   "metadata": {},
   "source": []
  },
  {
   "cell_type": "code",
   "execution_count": null,
   "metadata": {
    "ExecuteTime": {
     "end_time": "2022-03-18T11:07:49.615125Z",
     "start_time": "2022-03-18T11:07:36.633Z"
    }
   },
   "outputs": [],
   "source": [
    "def f(n_particles, nb_iter):\n",
    "    val = 0\n",
    "    for i in range(5):\n",
    "        optimizer = ps.single.GlobalBestPSO(n_particles=n_particles, dimensions=dim, options = options , bounds = bounds)\n",
    "        cost, pos = optimizer.optimize(rastrigin_pso, iters=nb_iter , verbose = False)\n",
    "        val += cost\n",
    "    return val/5"
   ]
  },
  {
   "cell_type": "code",
   "execution_count": 97,
   "metadata": {
    "ExecuteTime": {
     "end_time": "2022-03-18T11:07:49.611900Z",
     "start_time": "2022-03-18T11:05:33.673452Z"
    }
   },
   "outputs": [
    {
     "name": "stdout",
     "output_type": "stream",
     "text": [
      "1 1\n",
      "1000 particles\n"
     ]
    },
    {
     "ename": "KeyboardInterrupt",
     "evalue": "",
     "output_type": "error",
     "traceback": [
      "\u001b[1;31m---------------------------------------------------------------------------\u001b[0m",
      "\u001b[1;31mKeyboardInterrupt\u001b[0m                         Traceback (most recent call last)",
      "\u001b[1;32m<ipython-input-97-d8f03839f8b0>\u001b[0m in \u001b[0;36m<module>\u001b[1;34m\u001b[0m\n\u001b[0;32m     18\u001b[0m     \u001b[0mprint\u001b[0m\u001b[1;33m(\u001b[0m\u001b[1;34m\"%d particles\"\u001b[0m \u001b[1;33m%\u001b[0m\u001b[1;33m(\u001b[0m\u001b[0mx\u001b[0m\u001b[1;33m[\u001b[0m\u001b[0mi\u001b[0m\u001b[1;33m]\u001b[0m\u001b[1;33m)\u001b[0m\u001b[1;33m)\u001b[0m\u001b[1;33m\u001b[0m\u001b[1;33m\u001b[0m\u001b[0m\n\u001b[0;32m     19\u001b[0m     \u001b[1;32mfor\u001b[0m \u001b[0mj\u001b[0m \u001b[1;32min\u001b[0m \u001b[0mrange\u001b[0m\u001b[1;33m(\u001b[0m\u001b[0mlen\u001b[0m\u001b[1;33m(\u001b[0m\u001b[0my\u001b[0m\u001b[1;33m)\u001b[0m\u001b[1;33m)\u001b[0m\u001b[1;33m:\u001b[0m\u001b[1;33m\u001b[0m\u001b[1;33m\u001b[0m\u001b[0m\n\u001b[1;32m---> 20\u001b[1;33m         \u001b[0mZ\u001b[0m\u001b[1;33m[\u001b[0m\u001b[0mi\u001b[0m\u001b[1;33m,\u001b[0m\u001b[0mj\u001b[0m\u001b[1;33m]\u001b[0m \u001b[1;33m=\u001b[0m \u001b[0mf\u001b[0m\u001b[1;33m(\u001b[0m\u001b[0mx\u001b[0m\u001b[1;33m[\u001b[0m\u001b[0mi\u001b[0m\u001b[1;33m]\u001b[0m \u001b[1;33m,\u001b[0m \u001b[0my\u001b[0m\u001b[1;33m[\u001b[0m\u001b[0mj\u001b[0m\u001b[1;33m]\u001b[0m\u001b[1;33m)\u001b[0m\u001b[1;33m\u001b[0m\u001b[1;33m\u001b[0m\u001b[0m\n\u001b[0m",
      "\u001b[1;32m<ipython-input-59-690e89344ef8>\u001b[0m in \u001b[0;36mf\u001b[1;34m(n_particles, nb_iter)\u001b[0m\n\u001b[0;32m      3\u001b[0m     \u001b[1;32mfor\u001b[0m \u001b[0mi\u001b[0m \u001b[1;32min\u001b[0m \u001b[0mrange\u001b[0m\u001b[1;33m(\u001b[0m\u001b[1;36m5\u001b[0m\u001b[1;33m)\u001b[0m\u001b[1;33m:\u001b[0m\u001b[1;33m\u001b[0m\u001b[1;33m\u001b[0m\u001b[0m\n\u001b[0;32m      4\u001b[0m         \u001b[0moptimizer\u001b[0m \u001b[1;33m=\u001b[0m \u001b[0mps\u001b[0m\u001b[1;33m.\u001b[0m\u001b[0msingle\u001b[0m\u001b[1;33m.\u001b[0m\u001b[0mLocalBestPSO\u001b[0m\u001b[1;33m(\u001b[0m\u001b[0mn_particles\u001b[0m\u001b[1;33m=\u001b[0m\u001b[0mn_particles\u001b[0m\u001b[1;33m,\u001b[0m \u001b[0mdimensions\u001b[0m\u001b[1;33m=\u001b[0m\u001b[0mdim\u001b[0m\u001b[1;33m,\u001b[0m \u001b[0moptions\u001b[0m \u001b[1;33m=\u001b[0m \u001b[0moptions\u001b[0m \u001b[1;33m,\u001b[0m \u001b[0mbounds\u001b[0m \u001b[1;33m=\u001b[0m \u001b[0mbounds\u001b[0m\u001b[1;33m)\u001b[0m\u001b[1;33m\u001b[0m\u001b[1;33m\u001b[0m\u001b[0m\n\u001b[1;32m----> 5\u001b[1;33m         \u001b[0mcost\u001b[0m\u001b[1;33m,\u001b[0m \u001b[0mpos\u001b[0m \u001b[1;33m=\u001b[0m \u001b[0moptimizer\u001b[0m\u001b[1;33m.\u001b[0m\u001b[0moptimize\u001b[0m\u001b[1;33m(\u001b[0m\u001b[0mrastrigin_pso\u001b[0m\u001b[1;33m,\u001b[0m \u001b[0miters\u001b[0m\u001b[1;33m=\u001b[0m\u001b[0mnb_iter\u001b[0m \u001b[1;33m,\u001b[0m \u001b[0mverbose\u001b[0m \u001b[1;33m=\u001b[0m \u001b[1;32mFalse\u001b[0m\u001b[1;33m)\u001b[0m\u001b[1;33m\u001b[0m\u001b[1;33m\u001b[0m\u001b[0m\n\u001b[0m\u001b[0;32m      6\u001b[0m         \u001b[0mval\u001b[0m \u001b[1;33m+=\u001b[0m \u001b[0mcost\u001b[0m\u001b[1;33m\u001b[0m\u001b[1;33m\u001b[0m\u001b[0m\n\u001b[0;32m      7\u001b[0m     \u001b[1;32mreturn\u001b[0m \u001b[0mval\u001b[0m\u001b[1;33m/\u001b[0m\u001b[1;36m5\u001b[0m\u001b[1;33m\u001b[0m\u001b[1;33m\u001b[0m\u001b[0m\n",
      "\u001b[1;32mC:\\ProgramData\\Anaconda3\\lib\\site-packages\\pyswarms\\single\\local_best.py\u001b[0m in \u001b[0;36moptimize\u001b[1;34m(self, objective_func, iters, n_processes, verbose, **kwargs)\u001b[0m\n\u001b[0;32m    239\u001b[0m             \u001b[1;31m# Update gbest from neighborhood\u001b[0m\u001b[1;33m\u001b[0m\u001b[1;33m\u001b[0m\u001b[1;33m\u001b[0m\u001b[0m\n\u001b[0;32m    240\u001b[0m             self.swarm.best_pos, self.swarm.best_cost = self.top.compute_gbest(\n\u001b[1;32m--> 241\u001b[1;33m                 \u001b[0mself\u001b[0m\u001b[1;33m.\u001b[0m\u001b[0mswarm\u001b[0m\u001b[1;33m,\u001b[0m \u001b[0mp\u001b[0m\u001b[1;33m=\u001b[0m\u001b[0mself\u001b[0m\u001b[1;33m.\u001b[0m\u001b[0mp\u001b[0m\u001b[1;33m,\u001b[0m \u001b[0mk\u001b[0m\u001b[1;33m=\u001b[0m\u001b[0mself\u001b[0m\u001b[1;33m.\u001b[0m\u001b[0mk\u001b[0m\u001b[1;33m\u001b[0m\u001b[1;33m\u001b[0m\u001b[0m\n\u001b[0m\u001b[0;32m    242\u001b[0m             )\n\u001b[0;32m    243\u001b[0m             \u001b[1;32mif\u001b[0m \u001b[0mverbose\u001b[0m\u001b[1;33m:\u001b[0m\u001b[1;33m\u001b[0m\u001b[1;33m\u001b[0m\u001b[0m\n",
      "\u001b[1;32mC:\\ProgramData\\Anaconda3\\lib\\site-packages\\pyswarms\\backend\\topology\\ring.py\u001b[0m in \u001b[0;36mcompute_gbest\u001b[1;34m(self, swarm, p, k, **kwargs)\u001b[0m\n\u001b[0;32m     66\u001b[0m                 \u001b[1;31m# Obtain the nearest-neighbors for each particle\u001b[0m\u001b[1;33m\u001b[0m\u001b[1;33m\u001b[0m\u001b[1;33m\u001b[0m\u001b[0m\n\u001b[0;32m     67\u001b[0m                 \u001b[0mtree\u001b[0m \u001b[1;33m=\u001b[0m \u001b[0mcKDTree\u001b[0m\u001b[1;33m(\u001b[0m\u001b[0mswarm\u001b[0m\u001b[1;33m.\u001b[0m\u001b[0mposition\u001b[0m\u001b[1;33m)\u001b[0m\u001b[1;33m\u001b[0m\u001b[1;33m\u001b[0m\u001b[0m\n\u001b[1;32m---> 68\u001b[1;33m                 \u001b[0m_\u001b[0m\u001b[1;33m,\u001b[0m \u001b[0mself\u001b[0m\u001b[1;33m.\u001b[0m\u001b[0mneighbor_idx\u001b[0m \u001b[1;33m=\u001b[0m \u001b[0mtree\u001b[0m\u001b[1;33m.\u001b[0m\u001b[0mquery\u001b[0m\u001b[1;33m(\u001b[0m\u001b[0mswarm\u001b[0m\u001b[1;33m.\u001b[0m\u001b[0mposition\u001b[0m\u001b[1;33m,\u001b[0m \u001b[0mp\u001b[0m\u001b[1;33m=\u001b[0m\u001b[0mp\u001b[0m\u001b[1;33m,\u001b[0m \u001b[0mk\u001b[0m\u001b[1;33m=\u001b[0m\u001b[0mk\u001b[0m\u001b[1;33m)\u001b[0m\u001b[1;33m\u001b[0m\u001b[1;33m\u001b[0m\u001b[0m\n\u001b[0m\u001b[0;32m     69\u001b[0m \u001b[1;33m\u001b[0m\u001b[0m\n\u001b[0;32m     70\u001b[0m             \u001b[1;31m# Map the computed costs to the neighbour indices and take the\u001b[0m\u001b[1;33m\u001b[0m\u001b[1;33m\u001b[0m\u001b[1;33m\u001b[0m\u001b[0m\n",
      "\u001b[1;32mckdtree.pyx\u001b[0m in \u001b[0;36mscipy.spatial.ckdtree.cKDTree.query\u001b[1;34m()\u001b[0m\n",
      "\u001b[1;32mC:\\ProgramData\\Anaconda3\\lib\\site-packages\\numpy\\core\\fromnumeric.py\u001b[0m in \u001b[0;36mreshape\u001b[1;34m(a, newshape, order)\u001b[0m\n\u001b[0;32m    195\u001b[0m \u001b[1;33m\u001b[0m\u001b[0m\n\u001b[0;32m    196\u001b[0m \u001b[1;31m# not deprecated --- copy if necessary, view otherwise\u001b[0m\u001b[1;33m\u001b[0m\u001b[1;33m\u001b[0m\u001b[1;33m\u001b[0m\u001b[0m\n\u001b[1;32m--> 197\u001b[1;33m \u001b[1;33m@\u001b[0m\u001b[0marray_function_dispatch\u001b[0m\u001b[1;33m(\u001b[0m\u001b[0m_reshape_dispatcher\u001b[0m\u001b[1;33m)\u001b[0m\u001b[1;33m\u001b[0m\u001b[1;33m\u001b[0m\u001b[0m\n\u001b[0m\u001b[0;32m    198\u001b[0m \u001b[1;32mdef\u001b[0m \u001b[0mreshape\u001b[0m\u001b[1;33m(\u001b[0m\u001b[0ma\u001b[0m\u001b[1;33m,\u001b[0m \u001b[0mnewshape\u001b[0m\u001b[1;33m,\u001b[0m \u001b[0morder\u001b[0m\u001b[1;33m=\u001b[0m\u001b[1;34m'C'\u001b[0m\u001b[1;33m)\u001b[0m\u001b[1;33m:\u001b[0m\u001b[1;33m\u001b[0m\u001b[1;33m\u001b[0m\u001b[0m\n\u001b[0;32m    199\u001b[0m     \"\"\"\n",
      "\u001b[1;31mKeyboardInterrupt\u001b[0m: "
     ]
    }
   ],
   "source": [
    "dim = 10\n",
    "options = {'c1': 1.49445, 'c2': 1.49445, 'w': 0.729 , 'k':2 , 'p':2}\n",
    "x_max = 5.12 * np.ones(dim)\n",
    "x_min = -1 * x_max\n",
    "bounds = (x_min,x_max)\n",
    "\n",
    "x = np.array([10,20,30,50,100,300,500,1000])#Particles\n",
    "y = np.array([10,20,50,100,200,500,1000,5000])#Iterations number\n",
    "\n",
    "x = np.array([1000])#Particles\n",
    "y = np.array([5000])#Iterations number\n",
    "\n",
    "print(len(x),len(y))\n",
    "\n",
    "#X, Y = np.meshgrid(x, y)\n",
    "Z= np.zeros((len(x),len(y)))\n",
    "for i in range(len(x)):\n",
    "    print(\"%d particles\" %(x[i]))\n",
    "    for j in range(len(y)):\n",
    "        Z[i,j] = f(x[i] , y[j])"
   ]
  },
  {
   "cell_type": "code",
   "execution_count": null,
   "metadata": {
    "ExecuteTime": {
     "end_time": "2022-03-18T11:05:08.357445Z",
     "start_time": "2022-03-18T11:05:04.129Z"
    }
   },
   "outputs": [],
   "source": [
    "print(Z.shape)\n",
    "print(Z)"
   ]
  },
  {
   "cell_type": "code",
   "execution_count": 95,
   "metadata": {
    "ExecuteTime": {
     "end_time": "2022-03-18T10:51:32.471356Z",
     "start_time": "2022-03-18T10:51:32.297494Z"
    }
   },
   "outputs": [
    {
     "data": {
      "text/plain": [
       "Text(0.5, 0, 'Iterations')"
      ]
     },
     "execution_count": 95,
     "metadata": {},
     "output_type": "execute_result"
    },
    {
     "data": {
      "image/png": "[encoded data removed]",
      "text/plain": [
       "<Figure size 432x288 with 1 Axes>"
      ]
     },
     "metadata": {
      "needs_background": "light"
     },
     "output_type": "display_data"
    }
   ],
   "source": [
    "fig = plt.figure()\n",
    "ax = plt.axes(projection='3d')\n",
    "ax.plot_surface(x,y,Z)\n",
    "#ax.contour3D(x, y, Z)\n",
    "ax.set_xlabel('Particles')\n",
    "ax.set_ylabel('Iterations')"
   ]
  },
  {
   "cell_type": "code",
   "execution_count": 36,
   "metadata": {
    "ExecuteTime": {
     "end_time": "2022-03-18T09:49:27.186675Z",
     "start_time": "2022-03-18T09:49:27.161639Z"
    }
   },
   "outputs": [
    {
     "data": {
      "text/plain": [
       "array([-6.        , -5.5862069 , -5.17241379, -4.75862069, -4.34482759,\n",
       "       -3.93103448, -3.51724138, -3.10344828, -2.68965517, -2.27586207,\n",
       "       -1.86206897, -1.44827586, -1.03448276, -0.62068966, -0.20689655,\n",
       "        0.20689655,  0.62068966,  1.03448276,  1.44827586,  1.86206897,\n",
       "        2.27586207,  2.68965517,  3.10344828,  3.51724138,  3.93103448,\n",
       "        4.34482759,  4.75862069,  5.17241379,  5.5862069 ,  6.        ])"
      ]
     },
     "execution_count": 36,
     "metadata": {},
     "output_type": "execute_result"
    }
   ],
   "source": [
    "np.linspace(-6, 6, 30)"
   ]
  },
  {
   "cell_type": "code",
   "execution_count": 37,
   "metadata": {
    "ExecuteTime": {
     "end_time": "2022-03-18T09:50:03.847462Z",
     "start_time": "2022-03-18T09:50:03.837415Z"
    }
   },
   "outputs": [],
   "source": [
    "x = np.array([[10,20,30,50,100,200,300,500]])\n",
    "y = np.array([10,20,30,50,100,200,300,500])"
   ]
  },
  {
   "cell_type": "code",
   "execution_count": 35,
   "metadata": {
    "ExecuteTime": {
     "end_time": "2022-03-18T09:47:41.991286Z",
     "start_time": "2022-03-18T09:47:41.821367Z"
    }
   },
   "outputs": [
    {
     "data": {
      "text/plain": [
       "Text(0.5, 0, 'Iterations')"
      ]
     },
     "execution_count": 35,
     "metadata": {},
     "output_type": "execute_result"
    },
    {
     "data": {
      "image/png": "[encoded data removed]",
      "text/plain": [
       "<Figure size 432x288 with 1 Axes>"
      ]
     },
     "metadata": {
      "needs_background": "light"
     },
     "output_type": "display_data"
    }
   ],
   "source": [
    "fig = plt.figure()\n",
    "ax = plt.axes(projection='3d')\n",
    "X, Y = np.meshgrid(y, x)\n",
    "ax.contour3D(X, Y, cross_val)\n",
    "ax.set_xlabel('Particles')\n",
    "ax.set_ylabel('Iterations')\n",
    "#ax.set_zlabel('z');"
   ]
  },
  {
   "cell_type": "code",
   "execution_count": 38,
   "metadata": {
    "ExecuteTime": {
     "end_time": "2022-03-18T09:50:15.415036Z",
     "start_time": "2022-03-18T09:50:15.092796Z"
    }
   },
   "outputs": [
    {
     "data": {
      "text/plain": [
       "Text(0.5, 0, 'z')"
      ]
     },
     "execution_count": 38,
     "metadata": {},
     "output_type": "execute_result"
    },
    {
     "data": {
      "image/png": "[encoded data removed]",
      "text/plain": [
       "<Figure size 432x288 with 1 Axes>"
      ]
     },
     "metadata": {
      "needs_background": "light"
     },
     "output_type": "display_data"
    }
   ],
   "source": [
    "def f(x, y):\n",
    "    return np.sin(np.sqrt(x ** 2 + y ** 2))\n",
    "\n",
    "x = np.array([[10,20,30,50,100,200,300,500]])\n",
    "y = np.array([10,20,30,50,100,200,300,500])\n",
    "\n",
    "X, Y = np.meshgrid(x, y)\n",
    "Z = f(X, Y)\n",
    "\n",
    "fig = plt.figure()\n",
    "ax = plt.axes(projection='3d')\n",
    "ax.contour3D(X, Y, Z, 50, cmap='binary')\n",
    "ax.set_xlabel('x')\n",
    "ax.set_ylabel('y')\n",
    "ax.set_zlabel('z')"
   ]
  },
  {
   "cell_type": "code",
   "execution_count": 28,
   "metadata": {
    "ExecuteTime": {
     "end_time": "2022-03-18T09:45:06.258469Z",
     "start_time": "2022-03-18T09:45:06.237435Z"
    }
   },
   "outputs": [
    {
     "name": "stdout",
     "output_type": "stream",
     "text": [
      "[-6.         -5.5862069  -5.17241379 -4.75862069 -4.34482759 -3.93103448\n",
      " -3.51724138 -3.10344828 -2.68965517 -2.27586207 -1.86206897 -1.44827586\n",
      " -1.03448276 -0.62068966 -0.20689655  0.20689655  0.62068966  1.03448276\n",
      "  1.44827586  1.86206897  2.27586207  2.68965517  3.10344828  3.51724138\n",
      "  3.93103448  4.34482759  4.75862069  5.17241379  5.5862069   6.        ]\n"
     ]
    }
   ],
   "source": [
    "print(x)"
   ]
  },
  {
   "cell_type": "code",
   "execution_count": 27,
   "metadata": {
    "ExecuteTime": {
     "end_time": "2022-03-18T09:45:02.979776Z",
     "start_time": "2022-03-18T09:45:02.966778Z"
    }
   },
   "outputs": [
    {
     "name": "stdout",
     "output_type": "stream",
     "text": [
      "(30, 30)\n"
     ]
    }
   ],
   "source": [
    "print(Z.shape)"
   ]
  },
  {
   "cell_type": "markdown",
   "metadata": {},
   "source": [
    "## Dimension 1000"
   ]
  },
  {
   "cell_type": "code",
   "execution_count": 4,
   "metadata": {
    "ExecuteTime": {
     "end_time": "2022-03-10T08:53:05.965381Z",
     "start_time": "2022-03-10T08:53:05.895320Z"
    }
   },
   "outputs": [
    {
     "name": "stdout",
     "output_type": "stream",
     "text": [
      "In dimension 1000 for 300 particles\n"
     ]
    },
    {
     "ename": "NameError",
     "evalue": "name 'rastrigin_pso' is not defined",
     "output_type": "error",
     "traceback": [
      "\u001b[1;31m---------------------------------------------------------------------------\u001b[0m",
      "\u001b[1;31mNameError\u001b[0m                                 Traceback (most recent call last)",
      "\u001b[1;32m<ipython-input-4-fa72c04b9d48>\u001b[0m in \u001b[0;36m<module>\u001b[1;34m\u001b[0m\n\u001b[0;32m      9\u001b[0m \u001b[1;32mfor\u001b[0m \u001b[0mi\u001b[0m \u001b[1;32min\u001b[0m \u001b[0mrange\u001b[0m\u001b[1;33m(\u001b[0m\u001b[1;36m1\u001b[0m\u001b[1;33m)\u001b[0m\u001b[1;33m:\u001b[0m\u001b[1;33m\u001b[0m\u001b[1;33m\u001b[0m\u001b[0m\n\u001b[0;32m     10\u001b[0m     \u001b[0moptimizer\u001b[0m \u001b[1;33m=\u001b[0m \u001b[0mps\u001b[0m\u001b[1;33m.\u001b[0m\u001b[0msingle\u001b[0m\u001b[1;33m.\u001b[0m\u001b[0mGeneralOptimizerPSO\u001b[0m\u001b[1;33m(\u001b[0m\u001b[0mn_particles\u001b[0m\u001b[1;33m=\u001b[0m\u001b[0mn_particles\u001b[0m\u001b[1;33m,\u001b[0m \u001b[0mdimensions\u001b[0m\u001b[1;33m=\u001b[0m\u001b[0mdim\u001b[0m\u001b[1;33m,\u001b[0m \u001b[0moptions\u001b[0m\u001b[1;33m=\u001b[0m\u001b[0moptions\u001b[0m\u001b[1;33m,\u001b[0m \u001b[0mtopology\u001b[0m\u001b[1;33m=\u001b[0m\u001b[0mmy_topology\u001b[0m\u001b[1;33m)\u001b[0m\u001b[1;33m\u001b[0m\u001b[1;33m\u001b[0m\u001b[0m\n\u001b[1;32m---> 11\u001b[1;33m     \u001b[0mcost\u001b[0m\u001b[1;33m,\u001b[0m \u001b[0mpos\u001b[0m \u001b[1;33m=\u001b[0m \u001b[0moptimizer\u001b[0m\u001b[1;33m.\u001b[0m\u001b[0moptimize\u001b[0m\u001b[1;33m(\u001b[0m\u001b[0mrastrigin_pso\u001b[0m\u001b[1;33m,\u001b[0m \u001b[0miters\u001b[0m\u001b[1;33m=\u001b[0m\u001b[1;36m30000\u001b[0m \u001b[1;33m,\u001b[0m \u001b[0mverbose\u001b[0m \u001b[1;33m=\u001b[0m \u001b[1;32mFalse\u001b[0m\u001b[1;33m)\u001b[0m\u001b[1;33m\u001b[0m\u001b[1;33m\u001b[0m\u001b[0m\n\u001b[0m\u001b[0;32m     12\u001b[0m     \u001b[0mprint\u001b[0m\u001b[1;33m(\u001b[0m\u001b[1;34m\"%d - The minimum find is %.3f\"\u001b[0m\u001b[1;33m%\u001b[0m\u001b[1;33m(\u001b[0m\u001b[0mi\u001b[0m\u001b[1;33m+\u001b[0m\u001b[1;36m1\u001b[0m\u001b[1;33m,\u001b[0m\u001b[0mcost\u001b[0m\u001b[1;33m)\u001b[0m\u001b[1;33m)\u001b[0m\u001b[1;33m\u001b[0m\u001b[1;33m\u001b[0m\u001b[0m\n",
      "\u001b[1;31mNameError\u001b[0m: name 'rastrigin_pso' is not defined"
     ]
    }
   ],
   "source": [
    "dim = 1000\n",
    "n_particles = 300\n",
    "my_topology = ps.backend.topology.Ring(static=True)\n",
    "options = {'c1': 1.49445, 'c2': 1.49445, 'w': 0.7 , 'p' : 2 , 'k' : 10}\n",
    "print(\"In dimension %d for %d particles\" %(dim,n_particles))\n",
    "x_max = 5.12 * np.ones(dim)\n",
    "x_min = -1 * x_max\n",
    "bounds = (x_min,x_max)\n",
    "for i in range(1):\n",
    "    optimizer = ps.single.GeneralOptimizerPSO(n_particles=n_particles, dimensions=dim, options=options, topology=my_topology)\n",
    "    cost, pos = optimizer.optimize(rastrigin_pso, iters=30000 , verbose = False)\n",
    "    print(\"%d - The minimum find is %.3f\"%(i+1,cost))"
   ]
  },
  {
   "cell_type": "markdown",
   "metadata": {},
   "source": [
    "Best achive is 591 with 100 particles and options : \n",
    "\n",
    "*options = {'c1': 1.49445, 'c2': 1.49445, 'w': 0.7 , 'p' : 2 , 'k' : 10}*"
   ]
  },
  {
   "cell_type": "code",
   "execution_count": 74,
   "metadata": {
    "ExecuteTime": {
     "end_time": "2022-03-04T09:43:11.663451Z",
     "start_time": "2022-03-04T09:43:11.649448Z"
    }
   },
   "outputs": [
    {
     "name": "stdout",
     "output_type": "stream",
     "text": [
      "0.0\n"
     ]
    }
   ],
   "source": [
    "x_best = np.zeros(dim)\n",
    "print(rastrigin(x_best))"
   ]
  },
  {
   "cell_type": "markdown",
   "metadata": {},
   "source": [
    "# Ackley function"
   ]
  },
  {
   "cell_type": "markdown",
   "metadata": {},
   "source": [
    "https://www.sfu.ca/~ssurjano/ackley.html"
   ]
  },
  {
   "cell_type": "markdown",
   "metadata": {},
   "source": [
    "$ f(x) = - a * \\exp (-b \\sqrt{A} )  - \\exp( \\frac{1}{d} B) + a + \\exp(1)$ \n",
    "\n",
    "with $a = 20$, $b=0.2$, $c=2\\pi$, $A = \\frac{1}{d}\\sum_{i=1}^d x_i^2$, $B=\\sum_{i=1}^d \\cos(cx_i)$ and $d$ the dimension\n",
    "\n",
    "The minimum is at $x^*=(0,0,\\dots,0)$"
   ]
  },
  {
   "cell_type": "code",
   "execution_count": 84,
   "metadata": {
    "ExecuteTime": {
     "end_time": "2022-03-15T09:57:06.547836Z",
     "start_time": "2022-03-15T09:57:06.516358Z"
    }
   },
   "outputs": [],
   "source": [
    "#In dimension 1\n",
    "def ackley_dim1(x):\n",
    "    a = 20\n",
    "    b = 0.2\n",
    "    c = 2*np.pi\n",
    "    return -a * np.exp(-b * abs(x)) - np.exp(np.cos(c*x)) + a + np.exp(1)\n",
    "\n",
    "#Rastrigin for PSO\n",
    "def ackley_pso(x):\n",
    "    a = 20\n",
    "    b = 0.2\n",
    "    c = 2*np.pi\n",
    "    d = len(x[0,:])\n",
    "    A = 0\n",
    "    B = 0\n",
    "    for i in range(d):\n",
    "        x_ = x[:,i]\n",
    "        A += x**2\n",
    "        B += np.cos(c*x)\n",
    "    f = -a * np.exp(-b * np.sqrt(1/d * A)) - np.exp(1/d * B) + a + np.exp(1)\n",
    "    return f\n",
    "\n",
    "def ackley(x):\n",
    "    a = 20\n",
    "    b = 0.2\n",
    "    c = 2*np.pi\n",
    "    d = 1\n",
    "    A = 0\n",
    "    B = 0\n",
    "    for i in range(d):\n",
    "        A += x**2\n",
    "        B += np.cos(c*x)\n",
    "    f = -a * np.exp(-b * np.sqrt(1/d * A)) - np.exp(1/d * B) + a + np.exp(1)\n",
    "    return f"
   ]
  },
  {
   "cell_type": "code",
   "execution_count": 85,
   "metadata": {
    "ExecuteTime": {
     "end_time": "2022-03-15T09:57:08.973255Z",
     "start_time": "2022-03-15T09:57:08.826682Z"
    }
   },
   "outputs": [
    {
     "data": {
      "text/plain": [
       "[<matplotlib.lines.Line2D at 0x16b4b1d0828>]"
      ]
     },
     "execution_count": 85,
     "metadata": {},
     "output_type": "execute_result"
    },
    {
     "data": {
      "image/png": "[encoded data removed]",
      "text/plain": [
       "<Figure size 432x288 with 1 Axes>"
      ]
     },
     "metadata": {
      "needs_background": "light"
     },
     "output_type": "display_data"
    }
   ],
   "source": [
    "#In dimension 1\n",
    "x = np.linspace(-32,32,100)\n",
    "y= ackley_dim1(x)\n",
    "plt.figure()\n",
    "plt.title(\"Ackley\")\n",
    "plt.plot(x,y)"
   ]
  },
  {
   "cell_type": "code",
   "execution_count": 86,
   "metadata": {
    "ExecuteTime": {
     "end_time": "2022-03-15T09:57:09.238746Z",
     "start_time": "2022-03-15T09:57:09.079547Z"
    }
   },
   "outputs": [
    {
     "data": {
      "text/plain": [
       "[<matplotlib.lines.Line2D at 0x16b4b25b860>]"
      ]
     },
     "execution_count": 86,
     "metadata": {},
     "output_type": "execute_result"
    },
    {
     "data": {
      "image/png": "[encoded data removed]",
      "text/plain": [
       "<Figure size 432x288 with 1 Axes>"
      ]
     },
     "metadata": {
      "needs_background": "light"
     },
     "output_type": "display_data"
    }
   ],
   "source": [
    "#In dimension 1\n",
    "x = np.linspace(-32,32,100)\n",
    "y = []\n",
    "for i in range(len(x)):\n",
    "    y.append(ackley(x[i]))\n",
    "plt.figure()\n",
    "plt.title(\"Ackley\")\n",
    "plt.plot(x,y)"
   ]
  },
  {
   "cell_type": "markdown",
   "metadata": {},
   "source": [
    "## Dimension 10"
   ]
  },
  {
   "cell_type": "markdown",
   "metadata": {},
   "source": [
    "### Local PSO - Ring Topology"
   ]
  },
  {
   "cell_type": "code",
   "execution_count": 97,
   "metadata": {
    "ExecuteTime": {
     "end_time": "2022-03-15T10:00:48.798925Z",
     "start_time": "2022-03-15T09:59:38.063378Z"
    }
   },
   "outputs": [
    {
     "name": "stdout",
     "output_type": "stream",
     "text": [
      "In dimension 10 for 30 particles\n",
      "1 - The minimum find is 2.985\n",
      "2 - The minimum find is 0.000\n",
      "3 - The minimum find is 2.985\n",
      "4 - The minimum find is 1.990\n",
      "5 - The minimum find is 2.985\n",
      "6 - The minimum find is 4.077\n",
      "7 - The minimum find is 3.980\n",
      "8 - The minimum find is 4.975\n",
      "9 - The minimum find is 2.985\n",
      "10 - The minimum find is 1.990\n",
      "11 - The minimum find is 0.995\n",
      "12 - The minimum find is 2.985\n",
      "13 - The minimum find is 3.980\n",
      "14 - The minimum find is 1.154\n",
      "15 - The minimum find is 5.970\n",
      "16 - The minimum find is 1.990\n",
      "17 - The minimum find is 0.000\n",
      "18 - The minimum find is 3.980\n",
      "19 - The minimum find is 2.985\n",
      "20 - The minimum find is 4.975\n",
      "21 - The minimum find is 2.985\n",
      "22 - The minimum find is 1.990\n",
      "23 - The minimum find is 2.985\n",
      "24 - The minimum find is 0.000\n",
      "25 - The minimum find is 5.970\n",
      "26 - The minimum find is 4.975\n",
      "27 - The minimum find is 1.222\n",
      "28 - The minimum find is 7.960\n",
      "29 - The minimum find is 0.995\n",
      "30 - The minimum find is 0.995\n",
      "31 - The minimum find is 1.428\n",
      "32 - The minimum find is 4.975\n",
      "33 - The minimum find is 2.985\n",
      "34 - The minimum find is 0.995\n",
      "35 - The minimum find is 0.995\n",
      "36 - The minimum find is 1.990\n",
      "37 - The minimum find is 1.990\n",
      "38 - The minimum find is 2.985\n",
      "39 - The minimum find is 3.980\n",
      "40 - The minimum find is 0.995\n",
      "41 - The minimum find is 2.985\n",
      "42 - The minimum find is 0.995\n",
      "43 - The minimum find is 4.975\n",
      "44 - The minimum find is 2.985\n",
      "45 - The minimum find is 2.985\n",
      "46 - The minimum find is 3.980\n",
      "47 - The minimum find is 1.990\n",
      "48 - The minimum find is 3.980\n",
      "49 - The minimum find is 2.985\n",
      "50 - The minimum find is 1.990\n",
      "Moyenne 2.824\n"
     ]
    }
   ],
   "source": [
    "dim = 10\n",
    "n_particles = 30\n",
    "my_topology = ps.backend.topology.Ring(static=True)\n",
    "options = {'c1': 1.49445, 'c2': 1.49445, 'w': 0.729 ,  'k':5 , 'p':2 }\n",
    "print(\"In dimension %d for %d particles\" %(dim,n_particles))\n",
    "x_max = 32.7 * np.ones(dim)\n",
    "x_min = -1 * x_max\n",
    "bounds = (x_min,x_max)\n",
    "average = 0\n",
    "N = 50\n",
    "for i in range(N):\n",
    "    optimizer = ps.single.GeneralOptimizerPSO(n_particles=n_particles, dimensions=dim, options=options, topology=my_topology)\n",
    "    cost, pos = optimizer.optimize(rastrigin_pso, iters=10000 , verbose = False)\n",
    "    print(\"%d - The minimum find is %.3f\"%(i+1,cost))\n",
    "    average += cost\n",
    "print(\"Moyenne %.3f\"%(average/N))"
   ]
  },
  {
   "cell_type": "code",
   "execution_count": 98,
   "metadata": {
    "ExecuteTime": {
     "end_time": "2022-03-15T10:02:21.657202Z",
     "start_time": "2022-03-15T10:00:48.817890Z"
    }
   },
   "outputs": [
    {
     "name": "stdout",
     "output_type": "stream",
     "text": [
      "In dimension 10 for 100 particles\n",
      "1 - The minimum find is 1.990\n",
      "2 - The minimum find is 0.995\n",
      "3 - The minimum find is 0.000\n",
      "4 - The minimum find is 0.000\n",
      "5 - The minimum find is 1.990\n",
      "6 - The minimum find is 2.305\n",
      "7 - The minimum find is 0.000\n",
      "8 - The minimum find is 0.995\n",
      "9 - The minimum find is 0.995\n",
      "10 - The minimum find is 0.000\n",
      "11 - The minimum find is 0.995\n",
      "12 - The minimum find is 0.000\n",
      "13 - The minimum find is 0.000\n",
      "14 - The minimum find is 0.000\n",
      "15 - The minimum find is 0.000\n",
      "16 - The minimum find is 0.995\n",
      "17 - The minimum find is 0.000\n",
      "18 - The minimum find is 0.995\n",
      "19 - The minimum find is 0.995\n",
      "20 - The minimum find is 0.000\n",
      "21 - The minimum find is 0.000\n",
      "22 - The minimum find is 0.000\n",
      "23 - The minimum find is 0.000\n",
      "24 - The minimum find is 0.000\n",
      "25 - The minimum find is 1.990\n",
      "26 - The minimum find is 3.282\n",
      "27 - The minimum find is 0.000\n",
      "28 - The minimum find is 0.000\n",
      "29 - The minimum find is 0.000\n",
      "30 - The minimum find is 0.000\n",
      "31 - The minimum find is 1.148\n",
      "32 - The minimum find is 0.000\n",
      "33 - The minimum find is 0.996\n",
      "34 - The minimum find is 0.000\n",
      "35 - The minimum find is 0.000\n",
      "36 - The minimum find is 0.995\n",
      "37 - The minimum find is 0.000\n",
      "38 - The minimum find is 0.995\n",
      "39 - The minimum find is 0.000\n",
      "40 - The minimum find is 0.995\n",
      "41 - The minimum find is 1.990\n",
      "42 - The minimum find is 0.000\n",
      "43 - The minimum find is 0.000\n",
      "44 - The minimum find is 0.000\n",
      "45 - The minimum find is 0.000\n",
      "46 - The minimum find is 0.000\n",
      "47 - The minimum find is 0.000\n",
      "48 - The minimum find is 0.995\n",
      "49 - The minimum find is 0.000\n",
      "50 - The minimum find is 1.990\n",
      "Moyenne 0.572\n"
     ]
    }
   ],
   "source": [
    "dim = 10\n",
    "n_particles = 100\n",
    "my_topology = ps.backend.topology.Ring(static=True)\n",
    "options = {'c1': 1.49445, 'c2': 1.49445, 'w': 0.729 ,  'k':5 , 'p':2 }\n",
    "print(\"In dimension %d for %d particles\" %(dim,n_particles))\n",
    "x_max = 32.7 * np.ones(dim)\n",
    "x_min = -1 * x_max\n",
    "bounds = (x_min,x_max)\n",
    "average = 0\n",
    "N = 50\n",
    "for i in range(N):\n",
    "    optimizer = ps.single.GeneralOptimizerPSO(n_particles=n_particles, dimensions=dim, options=options, topology=my_topology)\n",
    "    cost, pos = optimizer.optimize(rastrigin_pso, iters=10000 , verbose = False)\n",
    "    print(\"%d - The minimum find is %.3f\"%(i+1,cost))\n",
    "    average += cost\n",
    "print(\"Moyenne %.3f\"%(average/N))"
   ]
  },
  {
   "cell_type": "markdown",
   "metadata": {},
   "source": [
    "## Dimension 100"
   ]
  },
  {
   "cell_type": "code",
   "execution_count": null,
   "metadata": {
    "ExecuteTime": {
     "end_time": "2022-03-15T11:00:02.372443Z",
     "start_time": "2022-03-15T11:00:01.213Z"
    }
   },
   "outputs": [],
   "source": [
    "dim = 100\n",
    "n_particles = 100\n",
    "my_topology = ps.backend.topology.Ring(static=True)\n",
    "options = {'c1': 1.49445, 'c2': 1.49445, 'w': 0.729 ,  'k':5 , 'p':2 }\n",
    "print(\"In dimension %d for %d particles\" %(dim,n_particles))\n",
    "x_max = 32.7 * np.ones(dim)\n",
    "x_min = -1 * x_max\n",
    "bounds = (x_min,x_max)\n",
    "average = 0\n",
    "N = 10\n",
    "for i in range(N):\n",
    "    optimizer = ps.single.GeneralOptimizerPSO(n_particles=n_particles, dimensions=dim, options=options, topology=my_topology)\n",
    "    cost, pos = optimizer.optimize(rastrigin_pso, iters=5000 , verbose = False)\n",
    "    print(\"%d - The minimum find is %.3f\"%(i+1,cost))\n",
    "    average += cost\n",
    "print(\"Moyenne %.3f\"%(average/N))"
   ]
  },
  {
   "cell_type": "code",
   "execution_count": 125,
   "metadata": {
    "ExecuteTime": {
     "end_time": "2022-03-15T14:15:32.546646Z",
     "start_time": "2022-03-15T14:06:16.598723Z"
    }
   },
   "outputs": [
    {
     "name": "stdout",
     "output_type": "stream",
     "text": [
      "In dimension 100 for 2000 particles\n",
      "1 - The minimum find is 76.923\n",
      "2 - The minimum find is 47.758\n",
      "3 - The minimum find is 49.748\n",
      "4 - The minimum find is 33.829\n",
      "5 - The minimum find is 30.844\n",
      "Moyenne 47.820\n"
     ]
    }
   ],
   "source": [
    "dim = 100\n",
    "n_particles = 2000\n",
    "my_topology = ps.backend.topology.Ring(static=True)\n",
    "options = {'c1': 1.49445, 'c2': 1.49445, 'w': 0.729 ,  'k':5 , 'p':2 }\n",
    "print(\"In dimension %d for %d particles\" %(dim,n_particles))\n",
    "x_max = 32.7 * np.ones(dim)\n",
    "x_min = -1 * x_max\n",
    "bounds = (x_min,x_max)\n",
    "average = 0\n",
    "N = 5\n",
    "for i in range(N):\n",
    "    optimizer = ps.single.GeneralOptimizerPSO(n_particles=n_particles, dimensions=dim, options=options, topology=my_topology)\n",
    "    cost, pos = optimizer.optimize(rastrigin_pso, iters=5000 , verbose = False)\n",
    "    print(\"%d - The minimum find is %.3f\"%(i+1,cost))\n",
    "    average += cost\n",
    "print(\"Moyenne %.3f\"%(average/N))"
   ]
  },
  {
   "cell_type": "markdown",
   "metadata": {},
   "source": [
    "Best score is 30.2"
   ]
  },
  {
   "cell_type": "markdown",
   "metadata": {},
   "source": [
    "# Gomez and Levy function"
   ]
  },
  {
   "cell_type": "markdown",
   "metadata": {},
   "source": [
    "https://en.wikipedia.org/wiki/Test_functions_for_optimization"
   ]
  },
  {
   "cell_type": "markdown",
   "metadata": {},
   "source": [
    "Dimension 2 function\n",
    "\n",
    "minimum is at $(x^*,y^*)$ such that $f(x^*,y^*)=f(0.08984201,-0.7126564)=-1.031628453$"
   ]
  },
  {
   "cell_type": "code",
   "execution_count": 39,
   "metadata": {
    "ExecuteTime": {
     "end_time": "2022-03-04T09:24:44.762954Z",
     "start_time": "2022-03-04T09:24:44.750432Z"
    }
   },
   "outputs": [],
   "source": [
    "def g(x):\n",
    "    x_ = x[0]\n",
    "    y_ = x[1]\n",
    "    pi = np.pi\n",
    "    f = -np.sin(4 * pi * x_) + 2 * np.sin ( 2 * pi * y_)**2\n",
    "    return f"
   ]
  },
  {
   "cell_type": "code",
   "execution_count": 4,
   "metadata": {
    "ExecuteTime": {
     "end_time": "2022-03-08T15:17:51.125689Z",
     "start_time": "2022-03-08T15:17:51.108128Z"
    }
   },
   "outputs": [],
   "source": [
    "def gomez_and_levy_pso(x):\n",
    "    x_ = x[:,0]\n",
    "    y_ = x[:,1]\n",
    "    penalty = 1000\n",
    "    f = 4*x_**2 - 2.1 * x_ ** 4 + 1/3 * x_ **6 + x_ * y_ - 4 * y_** 2 + 4 * y_ ** 4\n",
    "    g = np.array(( -np.sin(4 * np.pi * x_) + 2 * np.sin(2 * np.pi * y_ )**2 ) > 1.5).astype(int)\n",
    "    #print(g)\n",
    "    return f + g * penalty\n",
    "\n",
    "def gomez_and_levy(x):\n",
    "    x_ = x[0]\n",
    "    y_ = x[1]\n",
    "    penalty = 1000\n",
    "    f = 4*x_**2 - 2.1 * x_ ** 4 + 1/3 * x_ **6 + x_ * y_ - 4 * y_** 2 + 4 * y_ ** 4\n",
    "    g = np.array(( -np.sin(4 * np.pi * x_) + 2 * np.sin(2 * np.pi * y_ )**2 ) > 1.5).astype(int)\n",
    "    return f + g * penalty"
   ]
  },
  {
   "cell_type": "code",
   "execution_count": 5,
   "metadata": {
    "ExecuteTime": {
     "end_time": "2022-03-08T15:17:57.188303Z",
     "start_time": "2022-03-08T15:17:55.717390Z"
    }
   },
   "outputs": [
    {
     "name": "stdout",
     "output_type": "stream",
     "text": [
      "In dimension 2 for 30 particles\n",
      "1 - The minimum find is -1.032\n",
      "2 - The minimum find is -1.032\n",
      "3 - The minimum find is -1.032\n",
      "4 - The minimum find is -1.032\n",
      "5 - The minimum find is -1.032\n"
     ]
    }
   ],
   "source": [
    "dim = 2\n",
    "options = {'c1': 1.49445, 'c2': 1.49445, 'w': 0.729 }\n",
    "n_particles = 30\n",
    "print(\"In dimension %d for %d particles\" %(dim,n_particles))\n",
    "x_max = [0.75,1]\n",
    "x_min = [-1,-1]\n",
    "bounds = (x_min,x_max)\n",
    "for i in range(5):\n",
    "    optimizer = ps.single.GlobalBestPSO(n_particles=n_particles, dimensions=dim, options = options , bounds = bounds)\n",
    "    cost, pos = optimizer.optimize(gomez_and_levy_pso, iters=2000 , verbose = False)\n",
    "    print(\"%d - The minimum find is %.3f\"%(i+1,cost))"
   ]
  },
  {
   "cell_type": "code",
   "execution_count": 6,
   "metadata": {
    "ExecuteTime": {
     "end_time": "2022-03-08T15:17:57.220349Z",
     "start_time": "2022-03-08T15:17:57.206380Z"
    }
   },
   "outputs": [
    {
     "name": "stdout",
     "output_type": "stream",
     "text": [
      "Value obtain with PSO\n",
      "-1.0316284534898779\n",
      "Best value possible\n",
      "-1.031628453489877\n"
     ]
    }
   ],
   "source": [
    "print(\"Value obtain with PSO\")\n",
    "print(gomez_and_levy(pos))\n",
    "print(\"Best value possible\")\n",
    "print(gomez_and_levy([0.08984201,-0.7126564]))"
   ]
  },
  {
   "cell_type": "code",
   "execution_count": 11,
   "metadata": {
    "ExecuteTime": {
     "end_time": "2022-03-08T15:19:04.211063Z",
     "start_time": "2022-03-08T15:19:04.180515Z"
    }
   },
   "outputs": [
    {
     "name": "stdout",
     "output_type": "stream",
     "text": [
      "-0.9146059327541689\n"
     ]
    }
   ],
   "source": [
    "x0 = [1,1]\n",
    "res = minimize(gomez_and_levy ,x0 , method='Nelder-Mead')\n",
    "print(res.fun)"
   ]
  },
  {
   "cell_type": "markdown",
   "metadata": {},
   "source": [
    "# Sensibility to hyperparameters"
   ]
  },
  {
   "cell_type": "markdown",
   "metadata": {},
   "source": [
    "## Inertia and accelaration parameters"
   ]
  },
  {
   "cell_type": "markdown",
   "metadata": {},
   "source": [
    "I need to restrict the search in dimension 10 due to the low power of my computer"
   ]
  },
  {
   "cell_type": "code",
   "execution_count": 6,
   "metadata": {
    "ExecuteTime": {
     "end_time": "2022-03-18T15:39:00.955488Z",
     "start_time": "2022-03-18T15:39:00.939408Z"
    }
   },
   "outputs": [],
   "source": [
    "def f(w, c):\n",
    "    val = 0\n",
    "    for i in range(5):\n",
    "        optimizer = ps.single.GlobalBestPSO(n_particles=n_particles, dimensions=dim, options = options , bounds = bounds)\n",
    "        cost, pos = optimizer.optimize(rastrigin_pso, iters=nb_iter , verbose = False)\n",
    "        val += cost\n",
    "    return val/5"
   ]
  },
  {
   "cell_type": "code",
   "execution_count": 124,
   "metadata": {
    "ExecuteTime": {
     "end_time": "2022-03-18T11:18:04.083492Z",
     "start_time": "2022-03-18T11:17:43.000157Z"
    },
    "collapsed": true
   },
   "outputs": [
    {
     "name": "stdout",
     "output_type": "stream",
     "text": [
      "12 12\n",
      "0\n",
      "1\n",
      "2\n",
      "3\n",
      "4\n",
      "5\n",
      "6\n",
      "7\n",
      "8\n",
      "9\n",
      "10\n",
      "11\n"
     ]
    }
   ],
   "source": [
    "dim = 10\n",
    "options = {'c1': 1.49445, 'c2': 1.49445, 'w': 0.729}\n",
    "x_max = 5.12 * np.ones(dim)\n",
    "x_min = -1 * x_max\n",
    "bounds = (x_min,x_max)\n",
    "\n",
    "nb_iter = 100\n",
    "n_particles=30\n",
    "\n",
    "x = np.array([1,1.2,1.4,1.49445,1.6,1.8,2,2.2,2.4,2.6,2.8,3])#Particles\n",
    "y = np.array([0.1,0.2,0.3,0.4,0.5,0.6,0.65,0.7,0.75,0.8,0.9,1])#Iterations number\n",
    "\n",
    "print(len(x),len(y))\n",
    "\n",
    "Z= np.zeros((len(x),len(y)))\n",
    "for i in range(len(x)):\n",
    "    for j in range(len(y)):\n",
    "        Z[i,j] = f(x[i] , y[j])"
   ]
  },
  {
   "cell_type": "code",
   "execution_count": 125,
   "metadata": {
    "ExecuteTime": {
     "end_time": "2022-03-18T11:18:14.368362Z",
     "start_time": "2022-03-18T11:18:14.183074Z"
    }
   },
   "outputs": [
    {
     "data": {
      "text/plain": [
       "Text(0.5, 0, 'w')"
      ]
     },
     "execution_count": 125,
     "metadata": {},
     "output_type": "execute_result"
    },
    {
     "data": {
      "image/png": "[encoded data removed]",
      "text/plain": [
       "<Figure size 432x288 with 1 Axes>"
      ]
     },
     "metadata": {
      "needs_background": "light"
     },
     "output_type": "display_data"
    }
   ],
   "source": [
    "fig = plt.figure()\n",
    "ax = plt.axes(projection='3d')\n",
    "ax.plot_surface(x,y,Z)\n",
    "#ax.contour3D(x, y, Z)\n",
    "ax.set_xlabel('c')\n",
    "ax.set_ylabel('w')"
   ]
  },
  {
   "cell_type": "code",
   "execution_count": 140,
   "metadata": {
    "ExecuteTime": {
     "end_time": "2022-03-18T11:20:38.971696Z",
     "start_time": "2022-03-18T11:20:38.944929Z"
    }
   },
   "outputs": [
    {
     "name": "stdout",
     "output_type": "stream",
     "text": [
      "Best parameters c = 1.6 w = 0.9 \n",
      "z = 10.264\n"
     ]
    }
   ],
   "source": [
    "index = np.where(Z == np.min(Z))\n",
    "print(\"Best parameters c = %.1f w = %.1f \" %(x[index[0][0]] , y[index[1][0]]))\n",
    "print(\"z = %.3f\" % (np.min(Z) ))"
   ]
  },
  {
   "cell_type": "markdown",
   "metadata": {},
   "source": [
    "## Swarm size and iterations"
   ]
  },
  {
   "cell_type": "code",
   "execution_count": 5,
   "metadata": {
    "ExecuteTime": {
     "end_time": "2022-03-21T16:49:38.847195Z",
     "start_time": "2022-03-21T16:49:38.836367Z"
    }
   },
   "outputs": [],
   "source": [
    "def f(n_particles, nb_iter):\n",
    "    val = 0\n",
    "    for i in range(5):\n",
    "        optimizer = ps.single.GlobalBestPSO(n_particles=n_particles, dimensions=dim, options = options , bounds = bounds)\n",
    "        cost, pos = optimizer.optimize(rastrigin_pso, iters=nb_iter , verbose = False)\n",
    "        val += cost\n",
    "    return val/5"
   ]
  },
  {
   "cell_type": "code",
   "execution_count": 15,
   "metadata": {
    "ExecuteTime": {
     "end_time": "2022-03-18T15:45:15.001108Z",
     "start_time": "2022-03-18T15:41:48.055191Z"
    }
   },
   "outputs": [
    {
     "name": "stdout",
     "output_type": "stream",
     "text": [
      "6 6\n",
      "20 particles\n",
      "30 particles\n",
      "50 particles\n",
      "100 particles\n",
      "300 particles\n",
      "500 particles\n"
     ]
    }
   ],
   "source": [
    "dim = 100\n",
    "options = {'c1': 1.49445, 'c2': 1.49445, 'w': 0.729}\n",
    "x_max = 5.12 * np.ones(dim)\n",
    "x_min = -1 * x_max\n",
    "bounds = (x_min,x_max)\n",
    "\n",
    "x = np.array([20,30,50,100,300,500])#Particles\n",
    "y = np.array([50,100,200,500,1000,2000])#Iterations number\n",
    "\n",
    "print(len(x),len(y))\n",
    "\n",
    "Z= np.zeros((len(x),len(y)))\n",
    "for i in range(len(x)):\n",
    "    print(\"%d particles\" %(x[i]))\n",
    "    for j in range(len(y)):\n",
    "        Z[i,j] = f(x[i] , y[j])"
   ]
  },
  {
   "cell_type": "code",
   "execution_count": 19,
   "metadata": {
    "ExecuteTime": {
     "end_time": "2022-03-18T15:47:22.118530Z",
     "start_time": "2022-03-18T15:47:21.953633Z"
    },
    "scrolled": true
   },
   "outputs": [
    {
     "data": {
      "text/plain": [
       "Text(0.5, 0.92, 'Value')"
      ]
     },
     "execution_count": 19,
     "metadata": {},
     "output_type": "execute_result"
    },
    {
     "data": {
      "image/png": "[encoded data removed]",
      "text/plain": [
       "<Figure size 432x288 with 1 Axes>"
      ]
     },
     "metadata": {
      "needs_background": "light"
     },
     "output_type": "display_data"
    }
   ],
   "source": [
    "fig = plt.figure()\n",
    "ax = plt.axes(projection='3d')\n",
    "ax.plot_surface(x,y,Z)\n",
    "#ax.contour3D(x, y, Z)\n",
    "ax.set_xlabel('Particles')\n",
    "ax.set_ylabel('Iterations')se\n",
    "plt.title(\"Value\")"
   ]
  },
  {
   "cell_type": "markdown",
   "metadata": {
    "ExecuteTime": {
     "end_time": "2022-03-18T11:11:10.169069Z",
     "start_time": "2022-03-18T11:11:10.144872Z"
    }
   },
   "source": [
    "From a number of particles and iterations (respectively around 300 and 1000 iterations) the improvment is really low"
   ]
  },
  {
   "cell_type": "markdown",
   "metadata": {},
   "source": [
    "### Iterations vs Particles"
   ]
  },
  {
   "cell_type": "markdown",
   "metadata": {},
   "source": [
    "Low iterations and large swarm"
   ]
  },
  {
   "cell_type": "code",
   "execution_count": 6,
   "metadata": {
    "ExecuteTime": {
     "end_time": "2022-03-21T16:54:29.770119Z",
     "start_time": "2022-03-21T16:49:45.350893Z"
    }
   },
   "outputs": [
    {
     "name": "stdout",
     "output_type": "stream",
     "text": [
      "20 particles\n",
      "13148.77015251123\n",
      "30 particles\n",
      "12759.800629881855\n",
      "50 particles\n",
      "12556.317983801922\n",
      "100 particles\n",
      "12723.42615092359\n",
      "300 particles\n",
      "12333.610930655272\n",
      "500 particles\n",
      "12438.890601045252\n",
      "1000 particles\n",
      "11939.37312911452\n",
      "2000 particles\n",
      "12017.503443148678\n",
      "[13148.77015251123, 12759.800629881855, 12556.317983801922, 12723.42615092359, 12333.610930655272, 12438.890601045252, 11939.37312911452, 12017.503443148678]\n"
     ]
    }
   ],
   "source": [
    "y_val= []\n",
    "dim = 1000\n",
    "options = {'c1': 1.49445, 'c2': 1.49445, 'w': 0.729}\n",
    "x_max = 5.12 * np.ones(dim)\n",
    "x_min = -1 * x_max\n",
    "bounds = (x_min,x_max)\n",
    "\n",
    "iters = 100\n",
    "x = [20,30,50,100,300,500,1000,2000]\n",
    "for i in range(len(x)):\n",
    "    print(\"%d particles\" %(x[i]))\n",
    "    y_val.append(f(x[i],iters))\n",
    "    print(y_val[i])\n",
    "print(y_val)"
   ]
  },
  {
   "cell_type": "code",
   "execution_count": 8,
   "metadata": {
    "ExecuteTime": {
     "end_time": "2022-03-22T16:00:07.174939Z",
     "start_time": "2022-03-22T16:00:07.004800Z"
    }
   },
   "outputs": [
    {
     "data": {
      "image/png": "[encoded data removed]",
      "text/plain": [
       "<Figure size 432x288 with 1 Axes>"
      ]
     },
     "metadata": {
      "needs_background": "light"
     },
     "output_type": "display_data"
    }
   ],
   "source": [
    "plt.figure()\n",
    "plt.plot(x,y_val) \n",
    "plt.xlabel(\"Particles\")\n",
    "plt.ylabel(\"Optimization value\")\n",
    "plt.title(\"Dimension 1000 and 100 Iterations\")\n",
    "plt.show()"
   ]
  },
  {
   "cell_type": "code",
   "execution_count": 55,
   "metadata": {
    "ExecuteTime": {
     "end_time": "2022-03-18T16:00:52.680916Z",
     "start_time": "2022-03-18T16:00:36.524557Z"
    }
   },
   "outputs": [
    {
     "name": "stdout",
     "output_type": "stream",
     "text": [
      "20 particles\n",
      "1287.4469979585388\n",
      "30 particles\n",
      "1206.6951413743209\n",
      "50 particles\n",
      "1122.4239162444358\n",
      "100 particles\n",
      "936.9637060836545\n",
      "300 particles\n",
      "625.6649789103374\n",
      "500 particles\n",
      "458.34247041834107\n",
      "1000 particles\n",
      "227.1310509888293\n",
      "2000 particles\n",
      "136.2705380267018\n"
     ]
    },
    {
     "data": {
      "image/png": "[encoded data removed]",
      "text/plain": [
       "<Figure size 432x288 with 1 Axes>"
      ]
     },
     "metadata": {
      "needs_background": "light"
     },
     "output_type": "display_data"
    }
   ],
   "source": [
    "y_val= []\n",
    "dim = 100\n",
    "options = {'c1': 1.49445, 'c2': 1.49445, 'w': 0.729}\n",
    "x_max = 5.12 * np.ones(dim)\n",
    "x_min = -1 * x_max\n",
    "bounds = (x_min,x_max)\n",
    "\n",
    "iters = 100\n",
    "n_particles = 30\n",
    "x = [20,30,50,100,300,500,1000,2000]\n",
    "\n",
    "for i in range(len(x)):\n",
    "    print(\"%d particles\" %(x[i]))\n",
    "    y_val.append(f(n_particles,x[i]))\n",
    "    print(y_val[i])\n",
    "\n",
    "plt.figure()\n",
    "plt.plot(x,y_val) \n",
    "plt.xlabel(\"Iterations\")\n",
    "plt.ylabel(\"Optimization value\")\n",
    "plt.title(\"Dimension 100 and 30 Particles\")\n",
    "plt.show()"
   ]
  },
  {
   "cell_type": "code",
   "execution_count": 57,
   "metadata": {
    "ExecuteTime": {
     "end_time": "2022-03-18T16:05:13.170620Z",
     "start_time": "2022-03-18T16:03:18.619384Z"
    }
   },
   "outputs": [
    {
     "name": "stdout",
     "output_type": "stream",
     "text": [
      "20 particles\n",
      "1266.831580007734\n",
      "30 particles\n",
      "1197.6388111596084\n",
      "50 particles\n",
      "1062.8154794833056\n",
      "100 particles\n",
      "948.9371938458614\n",
      "300 particles\n",
      "580.0443411617296\n",
      "500 particles\n",
      "262.42650763557776\n",
      "1000 particles\n",
      "79.83708970089859\n",
      "2000 particles\n",
      "69.2491261922828\n"
     ]
    },
    {
     "data": {
      "image/png": "[encoded data removed]",
      "text/plain": [
       "<Figure size 432x288 with 1 Axes>"
      ]
     },
     "metadata": {
      "needs_background": "light"
     },
     "output_type": "display_data"
    }
   ],
   "source": [
    "y_val= []\n",
    "dim = 100\n",
    "options = {'c1': 1.49445, 'c2': 1.49445, 'w': 0.729}\n",
    "x_max = 5.12 * np.ones(dim)\n",
    "x_min = -1 * x_max\n",
    "bounds = (x_min,x_max)\n",
    "\n",
    "iters = 100\n",
    "n_particles = [20,30,50,100,200,300,500,1000]\n",
    "nb_iters = [20,30,50,100,300,500,1000,2000]\n",
    "for i in range(len(n_particles)):\n",
    "    print(\"%d particles\" %(x[i]))\n",
    "    y_val.append(f(n_particles[i],nb_iters[i]))\n",
    "    print(y_val[i])\n",
    "\n",
    "plt.figure()\n",
    "plt.plot(n_particles,y_val) \n",
    "plt.xlabel(\"Iterations and Particles\")\n",
    "plt.ylabel(\"Optimization value\")\n",
    "plt.title(\"Dimension 100\")\n",
    "plt.show()"
   ]
  },
  {
   "cell_type": "markdown",
   "metadata": {
    "ExecuteTime": {
     "end_time": "2022-03-04T10:46:23.894491Z",
     "start_time": "2022-03-04T10:46:23.883074Z"
    }
   },
   "source": [
    "# Utilities"
   ]
  },
  {
   "cell_type": "code",
   "execution_count": 15,
   "metadata": {
    "ExecuteTime": {
     "end_time": "2022-03-04T10:47:24.968717Z",
     "start_time": "2022-03-04T10:47:24.833357Z"
    }
   },
   "outputs": [
    {
     "data": {
      "text/plain": [
       "[<matplotlib.lines.Line2D at 0x287edc23d30>]"
      ]
     },
     "execution_count": 15,
     "metadata": {},
     "output_type": "execute_result"
    },
    {
     "data": {
      "image/png": "[encoded data removed]",
      "text/plain": [
       "<Figure size 432x288 with 1 Axes>"
      ]
     },
     "metadata": {
      "needs_background": "light"
     },
     "output_type": "display_data"
    }
   ],
   "source": [
    "phi = np.linspace(-100,100,1000)\n",
    "\n",
    "def f(x):\n",
    "    return x**2 - 4 * x\n",
    "\n",
    "y = f(phi)\n",
    "plt.figure()\n",
    "plt.plot(phi,y)"
   ]
  },
  {
   "cell_type": "code",
   "execution_count": 1,
   "metadata": {
    "ExecuteTime": {
     "end_time": "2022-03-08T15:17:15.859132Z",
     "start_time": "2022-03-08T15:17:15.714977Z"
    }
   },
   "outputs": [
    {
     "ename": "NameError",
     "evalue": "name 'minimize' is not defined",
     "output_type": "error",
     "traceback": [
      "\u001b[1;31m---------------------------------------------------------------------------\u001b[0m",
      "\u001b[1;31mNameError\u001b[0m                                 Traceback (most recent call last)",
      "\u001b[1;32m<ipython-input-1-b41806aaf7ae>\u001b[0m in \u001b[0;36m<module>\u001b[1;34m\u001b[0m\n\u001b[0;32m      1\u001b[0m \u001b[0mx0\u001b[0m \u001b[1;33m=\u001b[0m \u001b[1;33m[\u001b[0m\u001b[1;36m1\u001b[0m\u001b[1;33m,\u001b[0m\u001b[1;36m1\u001b[0m\u001b[1;33m]\u001b[0m\u001b[1;33m\u001b[0m\u001b[1;33m\u001b[0m\u001b[0m\n\u001b[1;32m----> 2\u001b[1;33m \u001b[0mminimize\u001b[0m\u001b[1;33m(\u001b[0m\u001b[0mgomez\u001b[0m\u001b[1;33m)\u001b[0m\u001b[1;33m\u001b[0m\u001b[1;33m\u001b[0m\u001b[0m\n\u001b[0m",
      "\u001b[1;31mNameError\u001b[0m: name 'minimize' is not defined"
     ]
    }
   ],
   "source": [
    "x0 = [1,1]\n",
    "minimize(gomez)"
   ]
  },
  {
   "cell_type": "code",
   "execution_count": 15,
   "metadata": {
    "ExecuteTime": {
     "end_time": "2022-03-08T16:27:19.702601Z",
     "start_time": "2022-03-08T16:27:19.692913Z"
    }
   },
   "outputs": [
    {
     "data": {
      "text/plain": [
       "4"
      ]
     },
     "execution_count": 15,
     "metadata": {},
     "output_type": "execute_result"
    }
   ],
   "source": [
    "x = [1,3,7,15]\n",
    "x0 = x[0]\n",
    "for i in range(1,len(x)):\n",
    "    x1 = x[i]\n",
    "    not()"
   ]
  },
  {
   "cell_type": "code",
   "execution_count": 18,
   "metadata": {
    "ExecuteTime": {
     "end_time": "2022-03-08T17:01:16.203955Z",
     "start_time": "2022-03-08T17:01:16.186995Z"
    }
   },
   "outputs": [
    {
     "data": {
      "text/plain": [
       "-7"
      ]
     },
     "execution_count": 18,
     "metadata": {},
     "output_type": "execute_result"
    }
   ],
   "source": []
  },
  {
   "cell_type": "code",
   "execution_count": 7,
   "metadata": {
    "ExecuteTime": {
     "end_time": "2022-03-10T13:05:28.404880Z",
     "start_time": "2022-03-10T13:05:27.306288Z"
    }
   },
   "outputs": [],
   "source": [
    "size = 10000\n",
    "A = np.random.randint(100, size=(size, size))"
   ]
  },
  {
   "cell_type": "code",
   "execution_count": 8,
   "metadata": {
    "ExecuteTime": {
     "end_time": "2022-03-10T13:11:58.052291Z",
     "start_time": "2022-03-10T13:05:28.470630Z"
    }
   },
   "outputs": [
    {
     "data": {
      "text/plain": [
       "(array([ 4.95045231e+05   +0.j        ,  2.36003021e+03+1683.585336j  ,\n",
       "         2.36003021e+03-1683.585336j  , ...,\n",
       "        -2.81607495e+01   +0.j        ,  4.59960062e+01  +21.44281658j,\n",
       "         4.59960062e+01  -21.44281658j]),\n",
       " array([[ 0.00994738+0.j        ,  0.0011851 -0.00773993j,\n",
       "          0.0011851 +0.00773993j, ..., -0.00409997+0.j        ,\n",
       "         -0.01648398+0.00521038j, -0.01648398-0.00521038j],\n",
       "        [ 0.01000076+0.j        ,  0.00887996+0.01266023j,\n",
       "          0.00887996-0.01266023j, ...,  0.00330198+0.j        ,\n",
       "         -0.00323462-0.00715104j, -0.00323462+0.00715104j],\n",
       "        [ 0.01006143+0.j        ,  0.0035152 +0.00901805j,\n",
       "          0.0035152 -0.00901805j, ..., -0.00780893+0.j        ,\n",
       "          0.00328412-0.0009001j ,  0.00328412+0.0009001j ],\n",
       "        ...,\n",
       "        [ 0.0100216 +0.j        , -0.00105865-0.01067837j,\n",
       "         -0.00105865+0.01067837j, ..., -0.0001607 +0.j        ,\n",
       "         -0.00387082+0.00629547j, -0.00387082-0.00629547j],\n",
       "        [ 0.00997242+0.j        ,  0.01003308+0.00018208j,\n",
       "          0.01003308-0.00018208j, ...,  0.01298993+0.j        ,\n",
       "          0.00148542-0.00069042j,  0.00148542+0.00069042j],\n",
       "        [ 0.01003987+0.j        ,  0.00446949+0.01083929j,\n",
       "          0.00446949-0.01083929j, ..., -0.02283949+0.j        ,\n",
       "         -0.00126849-0.00377513j, -0.00126849+0.00377513j]]))"
      ]
     },
     "execution_count": 8,
     "metadata": {},
     "output_type": "execute_result"
    }
   ],
   "source": [
    "np.linalg.eig(A)"
   ]
  },
  {
   "cell_type": "code",
   "execution_count": 121,
   "metadata": {
    "ExecuteTime": {
     "end_time": "2022-03-15T10:48:38.324210Z",
     "start_time": "2022-03-15T10:48:38.296423Z"
    }
   },
   "outputs": [
    {
     "data": {
      "text/plain": [
       "-21"
      ]
     },
     "execution_count": 121,
     "metadata": {},
     "output_type": "execute_result"
    }
   ],
   "source": [
    "-6 -1 -2 + 4 -6 -1 -4 + 4 -5 -4"
   ]
  },
  {
   "cell_type": "code",
   "execution_count": 129,
   "metadata": {
    "ExecuteTime": {
     "end_time": "2022-03-15T14:49:22.988347Z",
     "start_time": "2022-03-15T14:49:22.972783Z"
    }
   },
   "outputs": [
    {
     "data": {
      "text/plain": [
       "0.4137931034482758"
      ]
     },
     "execution_count": 129,
     "metadata": {},
     "output_type": "execute_result"
    }
   ],
   "source": [
    "(0.8*0.15) / (0.15*0.8 + 0.2 * 0.85)"
   ]
  },
  {
   "cell_type": "code",
   "execution_count": 134,
   "metadata": {
    "ExecuteTime": {
     "end_time": "2022-03-15T15:03:42.952938Z",
     "start_time": "2022-03-15T15:03:42.932850Z"
    }
   },
   "outputs": [
    {
     "data": {
      "text/plain": [
       "1.0986122886681096"
      ]
     },
     "execution_count": 134,
     "metadata": {},
     "output_type": "execute_result"
    }
   ],
   "source": [
    "np.log(1.5) - np.log(0.5)"
   ]
  },
  {
   "cell_type": "code",
   "execution_count": 136,
   "metadata": {
    "ExecuteTime": {
     "end_time": "2022-03-15T15:04:20.938480Z",
     "start_time": "2022-03-15T15:04:20.923490Z"
    }
   },
   "outputs": [
    {
     "data": {
      "text/plain": [
       "164.04173592857896"
      ]
     },
     "execution_count": 136,
     "metadata": {},
     "output_type": "execute_result"
    }
   ],
   "source": [
    "-260 * np.log(0.5) / (np.log(1.5) - np.log(0.5))"
   ]
  },
  {
   "cell_type": "code",
   "execution_count": 137,
   "metadata": {
    "ExecuteTime": {
     "end_time": "2022-03-15T15:16:39.075113Z",
     "start_time": "2022-03-15T15:16:35.225575Z"
    }
   },
   "outputs": [],
   "source": [
    "from scipy.stats import binom"
   ]
  },
  {
   "cell_type": "code",
   "execution_count": 139,
   "metadata": {
    "ExecuteTime": {
     "end_time": "2022-03-15T15:17:11.632798Z",
     "start_time": "2022-03-15T15:17:11.618165Z"
    }
   },
   "outputs": [
    {
     "name": "stdout",
     "output_type": "stream",
     "text": [
      "0.14078709611090345\n"
     ]
    }
   ],
   "source": [
    "print(1-binom.cdf(164,n=260,p=0.6))"
   ]
  },
  {
   "cell_type": "code",
   "execution_count": 141,
   "metadata": {
    "ExecuteTime": {
     "end_time": "2022-03-15T16:09:05.305285Z",
     "start_time": "2022-03-15T16:09:05.282461Z"
    }
   },
   "outputs": [
    {
     "data": {
      "text/plain": [
       "15"
      ]
     },
     "execution_count": 141,
     "metadata": {},
     "output_type": "execute_result"
    }
   ],
   "source": [
    "(1+2+3+4+5)"
   ]
  },
  {
   "cell_type": "code",
   "execution_count": 144,
   "metadata": {
    "ExecuteTime": {
     "end_time": "2022-03-15T16:16:02.209345Z",
     "start_time": "2022-03-15T16:16:02.195132Z"
    }
   },
   "outputs": [],
   "source": [
    "import random"
   ]
  },
  {
   "cell_type": "code",
   "execution_count": 148,
   "metadata": {
    "ExecuteTime": {
     "end_time": "2022-03-15T16:16:21.787373Z",
     "start_time": "2022-03-15T16:16:21.763483Z"
    }
   },
   "outputs": [
    {
     "data": {
      "text/plain": [
       "6"
      ]
     },
     "execution_count": 148,
     "metadata": {},
     "output_type": "execute_result"
    }
   ],
   "source": [
    "random.randint(1,6)"
   ]
  },
  {
   "cell_type": "code",
   "execution_count": 162,
   "metadata": {
    "ExecuteTime": {
     "end_time": "2022-03-15T16:19:10.268936Z",
     "start_time": "2022-03-15T16:19:05.846344Z"
    }
   },
   "outputs": [
    {
     "name": "stdout",
     "output_type": "stream",
     "text": [
      "6.164204\n"
     ]
    }
   ],
   "source": [
    "E = 0\n",
    "N = 1000000\n",
    "for i in range(N):\n",
    "    S = 0\n",
    "    while (S<15):\n",
    "        dice = random.randint(1,6)\n",
    "        if (dice == 6):\n",
    "            S = 0\n",
    "            break\n",
    "        else:\n",
    "            S += dice\n",
    "    E += S\n",
    "print(E/N)"
   ]
  },
  {
   "cell_type": "code",
   "execution_count": null,
   "metadata": {},
   "outputs": [],
   "source": []
  },
  {
   "cell_type": "code",
   "execution_count": 27,
   "metadata": {
    "ExecuteTime": {
     "end_time": "2022-03-16T09:56:26.434944Z",
     "start_time": "2022-03-16T09:56:26.418808Z"
    }
   },
   "outputs": [],
   "source": [
    "def f(x):\n",
    "    return 4 * np.sqrt(x**2 + 1/4) +1 - 2 * x"
   ]
  },
  {
   "cell_type": "code",
   "execution_count": 28,
   "metadata": {
    "ExecuteTime": {
     "end_time": "2022-03-16T09:56:26.731428Z",
     "start_time": "2022-03-16T09:56:26.713428Z"
    }
   },
   "outputs": [
    {
     "name": "stdout",
     "output_type": "stream",
     "text": [
      "2.8284271247461903\n"
     ]
    }
   ],
   "source": [
    "print(f(1/2))"
   ]
  },
  {
   "cell_type": "code",
   "execution_count": 29,
   "metadata": {
    "ExecuteTime": {
     "end_time": "2022-03-16T09:56:26.889496Z",
     "start_time": "2022-03-16T09:56:26.873069Z"
    }
   },
   "outputs": [
    {
     "data": {
      "text/plain": [
       "2.8284271247461903"
      ]
     },
     "execution_count": 29,
     "metadata": {},
     "output_type": "execute_result"
    }
   ],
   "source": [
    "2 * np.sqrt(2)"
   ]
  },
  {
   "cell_type": "code",
   "execution_count": 30,
   "metadata": {
    "ExecuteTime": {
     "end_time": "2022-03-16T09:56:27.046697Z",
     "start_time": "2022-03-16T09:56:27.023973Z"
    }
   },
   "outputs": [
    {
     "name": "stdout",
     "output_type": "stream",
     "text": [
      "3.267949192431123\n"
     ]
    }
   ],
   "source": [
    "x0 = np.sqrt(3/4)\n",
    "print(f(x0))"
   ]
  },
  {
   "cell_type": "code",
   "execution_count": 31,
   "metadata": {
    "ExecuteTime": {
     "end_time": "2022-03-16T09:56:27.999136Z",
     "start_time": "2022-03-16T09:56:27.818122Z"
    }
   },
   "outputs": [
    {
     "name": "stdout",
     "output_type": "stream",
     "text": [
      "[0.         0.00505051 0.01010101 0.01515152 0.02020202 0.02525253\n",
      " 0.03030303 0.03535354 0.04040404 0.04545455 0.05050505 0.05555556\n",
      " 0.06060606 0.06565657 0.07070707 0.07575758 0.08080808 0.08585859\n",
      " 0.09090909 0.0959596  0.1010101  0.10606061 0.11111111 0.11616162\n",
      " 0.12121212 0.12626263 0.13131313 0.13636364 0.14141414 0.14646465\n",
      " 0.15151515 0.15656566 0.16161616 0.16666667 0.17171717 0.17676768\n",
      " 0.18181818 0.18686869 0.19191919 0.1969697  0.2020202  0.20707071\n",
      " 0.21212121 0.21717172 0.22222222 0.22727273 0.23232323 0.23737374\n",
      " 0.24242424 0.24747475 0.25252525 0.25757576 0.26262626 0.26767677\n",
      " 0.27272727 0.27777778 0.28282828 0.28787879 0.29292929 0.2979798\n",
      " 0.3030303  0.30808081 0.31313131 0.31818182 0.32323232 0.32828283\n",
      " 0.33333333 0.33838384 0.34343434 0.34848485 0.35353535 0.35858586\n",
      " 0.36363636 0.36868687 0.37373737 0.37878788 0.38383838 0.38888889\n",
      " 0.39393939 0.3989899  0.4040404  0.40909091 0.41414141 0.41919192\n",
      " 0.42424242 0.42929293 0.43434343 0.43939394 0.44444444 0.44949495\n",
      " 0.45454545 0.45959596 0.46464646 0.46969697 0.47474747 0.47979798\n",
      " 0.48484848 0.48989899 0.49494949 0.5       ]\n"
     ]
    },
    {
     "data": {
      "text/plain": [
       "[<matplotlib.lines.Line2D at 0x1aef6114668>]"
      ]
     },
     "execution_count": 31,
     "metadata": {},
     "output_type": "execute_result"
    },
    {
     "data": {
      "image/png": "[encoded data removed]",
      "text/plain": [
       "<Figure size 432x288 with 1 Axes>"
      ]
     },
     "metadata": {
      "needs_background": "light"
     },
     "output_type": "display_data"
    }
   ],
   "source": [
    "x = np.linspace(0,0.5,100)\n",
    "print(x)\n",
    "y = f(x)\n",
    "plt.figure()\n",
    "plt.plot(x,y)"
   ]
  },
  {
   "cell_type": "code",
   "execution_count": 41,
   "metadata": {
    "ExecuteTime": {
     "end_time": "2022-03-16T10:05:31.212879Z",
     "start_time": "2022-03-16T10:05:31.195744Z"
    }
   },
   "outputs": [
    {
     "data": {
      "text/plain": [
       "0.2886751345948129"
      ]
     },
     "execution_count": 41,
     "metadata": {},
     "output_type": "execute_result"
    }
   ],
   "source": [
    "1/(2*np.sqrt(3))"
   ]
  },
  {
   "cell_type": "code",
   "execution_count": 36,
   "metadata": {
    "ExecuteTime": {
     "end_time": "2022-03-16T10:04:47.033374Z",
     "start_time": "2022-03-16T10:04:47.026286Z"
    }
   },
   "outputs": [
    {
     "data": {
      "text/plain": [
       "0.28867513459481287"
      ]
     },
     "execution_count": 36,
     "metadata": {},
     "output_type": "execute_result"
    }
   ],
   "source": [
    "np.sqrt(1/12)"
   ]
  },
  {
   "cell_type": "code",
   "execution_count": 37,
   "metadata": {
    "ExecuteTime": {
     "end_time": "2022-03-16T10:05:02.205627Z",
     "start_time": "2022-03-16T10:05:02.187551Z"
    }
   },
   "outputs": [
    {
     "data": {
      "text/plain": [
       "3.4641016151377544"
      ]
     },
     "execution_count": 37,
     "metadata": {},
     "output_type": "execute_result"
    }
   ],
   "source": [
    "np.sqrt(12)"
   ]
  },
  {
   "cell_type": "code",
   "execution_count": 39,
   "metadata": {
    "ExecuteTime": {
     "end_time": "2022-03-16T10:05:08.812351Z",
     "start_time": "2022-03-16T10:05:08.795202Z"
    }
   },
   "outputs": [
    {
     "data": {
      "text/plain": [
       "3.4641016151377544"
      ]
     },
     "execution_count": 39,
     "metadata": {},
     "output_type": "execute_result"
    }
   ],
   "source": [
    "2*np.sqrt(3)"
   ]
  },
  {
   "cell_type": "code",
   "execution_count": 45,
   "metadata": {
    "ExecuteTime": {
     "end_time": "2022-03-16T13:20:54.765102Z",
     "start_time": "2022-03-16T13:20:54.754913Z"
    }
   },
   "outputs": [
    {
     "data": {
      "text/plain": [
       "0.3535533905932738"
      ]
     },
     "execution_count": 45,
     "metadata": {},
     "output_type": "execute_result"
    }
   ],
   "source": [
    "np.sqrt(2)/4"
   ]
  },
  {
   "cell_type": "code",
   "execution_count": 44,
   "metadata": {
    "ExecuteTime": {
     "end_time": "2022-03-16T11:11:53.357366Z",
     "start_time": "2022-03-16T11:11:53.335156Z"
    }
   },
   "outputs": [
    {
     "data": {
      "text/plain": [
       "0.21895141649746008"
      ]
     },
     "execution_count": 44,
     "metadata": {},
     "output_type": "execute_result"
    }
   ],
   "source": [
    "(-1 + np.sqrt(2))**2 + 2/3 * pow(3-2*np.sqrt(2),3/2)"
   ]
  },
  {
   "cell_type": "code",
   "execution_count": 46,
   "metadata": {
    "ExecuteTime": {
     "end_time": "2022-03-16T13:23:48.485376Z",
     "start_time": "2022-03-16T13:23:48.471339Z"
    }
   },
   "outputs": [
    {
     "data": {
      "text/plain": [
       "0.7071067811865476"
      ]
     },
     "execution_count": 46,
     "metadata": {},
     "output_type": "execute_result"
    }
   ],
   "source": [
    "np.sqrt(2)/2"
   ]
  },
  {
   "cell_type": "code",
   "execution_count": 54,
   "metadata": {
    "ExecuteTime": {
     "end_time": "2022-03-16T13:28:05.215145Z",
     "start_time": "2022-03-16T13:28:05.194152Z"
    }
   },
   "outputs": [
    {
     "name": "stdout",
     "output_type": "stream",
     "text": [
      "0.11533755592703572\n",
      "0.23067511185407144\n"
     ]
    }
   ],
   "source": [
    "ans = 1/16 + 1/3 * pow(1-np.sqrt(2)/2,3/2)\n",
    "print(ans)\n",
    "print(ans*8/4)"
   ]
  },
  {
   "cell_type": "code",
   "execution_count": 52,
   "metadata": {
    "ExecuteTime": {
     "end_time": "2022-03-16T13:27:53.549941Z",
     "start_time": "2022-03-16T13:27:53.530828Z"
    }
   },
   "outputs": [
    {
     "data": {
      "text/plain": [
       "0.23"
      ]
     },
     "execution_count": 52,
     "metadata": {},
     "output_type": "execute_result"
    }
   ],
   "source": [
    "0.92/4"
   ]
  },
  {
   "cell_type": "code",
   "execution_count": 58,
   "metadata": {
    "ExecuteTime": {
     "end_time": "2022-03-16T13:37:53.241560Z",
     "start_time": "2022-03-16T13:37:53.230895Z"
    }
   },
   "outputs": [],
   "source": [
    "def y1(x):\n",
    "    return 0.5 * (1 - x**2)\n",
    "\n",
    "def y2(x):\n",
    "    return np.sqrt(1-2*x)\n"
   ]
  },
  {
   "cell_type": "code",
   "execution_count": 61,
   "metadata": {
    "ExecuteTime": {
     "end_time": "2022-03-16T13:39:10.741500Z",
     "start_time": "2022-03-16T13:39:10.518141Z"
    }
   },
   "outputs": [
    {
     "name": "stderr",
     "output_type": "stream",
     "text": [
      "C:\\ProgramData\\Anaconda3\\lib\\site-packages\\ipykernel_launcher.py:5: RuntimeWarning: invalid value encountered in sqrt\n",
      "  \"\"\"\n"
     ]
    },
    {
     "data": {
      "text/plain": [
       "<matplotlib.legend.Legend at 0x1aef6232748>"
      ]
     },
     "execution_count": 61,
     "metadata": {},
     "output_type": "execute_result"
    },
    {
     "data": {
      "image/png": "[encoded data removed]",
      "text/plain": [
       "<Figure size 432x288 with 1 Axes>"
      ]
     },
     "metadata": {
      "needs_background": "light"
     },
     "output_type": "display_data"
    }
   ],
   "source": [
    "x = np.linspace(0,1,100)\n",
    "y1_val = y1(x)\n",
    "y2_val = y2(x)\n",
    "plt.figure()\n",
    "plt.plot(x,y1_val,label='y1')\n",
    "plt.plot(x,y2_val,label='y2')\n",
    "plt.legend()"
   ]
  },
  {
   "cell_type": "code",
   "execution_count": 62,
   "metadata": {
    "ExecuteTime": {
     "end_time": "2022-03-16T13:41:02.282581Z",
     "start_time": "2022-03-16T13:41:02.262583Z"
    }
   },
   "outputs": [],
   "source": [
    "x0 = (-2 + np.sqrt(8))/2"
   ]
  },
  {
   "cell_type": "code",
   "execution_count": 63,
   "metadata": {
    "ExecuteTime": {
     "end_time": "2022-03-16T13:41:11.351637Z",
     "start_time": "2022-03-16T13:41:11.326572Z"
    }
   },
   "outputs": [
    {
     "name": "stdout",
     "output_type": "stream",
     "text": [
      "0.41421356237309503\n",
      "0.4142135623730948\n"
     ]
    }
   ],
   "source": [
    "print(y1(x0))\n",
    "print(y2(x0))"
   ]
  },
  {
   "cell_type": "code",
   "execution_count": null,
   "metadata": {},
   "outputs": [],
   "source": []
  }
 ],
 "metadata": {
  "kernelspec": {
   "display_name": "Python 3",
   "language": "python",
   "name": "python3"
  },
  "language_info": {
   "codemirror_mode": {
    "name": "ipython",
    "version": 3
   },
   "file_extension": ".py",
   "mimetype": "text/x-python",
   "name": "python",
   "nbconvert_exporter": "python",
   "pygments_lexer": "ipython3",
   "version": "3.7.3"
  },
  "toc": {
   "base_numbering": 1,
   "nav_menu": {},
   "number_sections": true,
   "sideBar": true,
   "skip_h1_title": false,
   "title_cell": "Table of Contents",
   "title_sidebar": "Contents",
   "toc_cell": true,
   "toc_position": {
    "height": "calc(100% - 180px)",
    "left": "10px",
    "top": "150px",
    "width": "256px"
   },
   "toc_section_display": true,
   "toc_window_display": true
  },
  "varInspector": {
   "cols": {
    "lenName": 16,
    "lenType": 16,
    "lenVar": 40
   },
   "kernels_config": {
    "python": {
     "delete_cmd_postfix": "",
     "delete_cmd_prefix": "del ",
     "library": "var_list.py",
     "varRefreshCmd": "print(var_dic_list())"
    },
    "r": {
     "delete_cmd_postfix": ") ",
     "delete_cmd_prefix": "rm(",
     "library": "var_list.r",
     "varRefreshCmd": "cat(var_dic_list()) "
    }
   },
   "types_to_exclude": [
    "module",
    "function",
    "builtin_function_or_method",
    "instance",
    "_Feature"
   ],
   "window_display": false
  }
 },
 "nbformat": 4,
 "nbformat_minor": 2
}
