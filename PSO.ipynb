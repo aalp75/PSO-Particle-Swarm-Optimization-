{
 "cells": [
  {
   "cell_type": "markdown",
   "metadata": {
    "toc": true
   },
   "source": [
    "<h1>Table of Contents<span class=\"tocSkip\"></span></h1>\n",
    "<div class=\"toc\"><ul class=\"toc-item\"><li><span><a href=\"#Library\" data-toc-modified-id=\"Library-1\"><span class=\"toc-item-num\">1&nbsp;&nbsp;</span>Library</a></span></li><li><span><a href=\"#Sphere-function\" data-toc-modified-id=\"Sphere-function-2\"><span class=\"toc-item-num\">2&nbsp;&nbsp;</span>Sphere function</a></span><ul class=\"toc-item\"><li><span><a href=\"#In-dimension-10\" data-toc-modified-id=\"In-dimension-10-2.1\"><span class=\"toc-item-num\">2.1&nbsp;&nbsp;</span>In dimension 10</a></span></li><li><span><a href=\"#Dimension-100\" data-toc-modified-id=\"Dimension-100-2.2\"><span class=\"toc-item-num\">2.2&nbsp;&nbsp;</span>Dimension 100</a></span></li></ul></li><li><span><a href=\"#Rastrigin-function\" data-toc-modified-id=\"Rastrigin-function-3\"><span class=\"toc-item-num\">3&nbsp;&nbsp;</span>Rastrigin function</a></span><ul class=\"toc-item\"><li><span><a href=\"#Dimension-10\" data-toc-modified-id=\"Dimension-10-3.1\"><span class=\"toc-item-num\">3.1&nbsp;&nbsp;</span>Dimension 10</a></span></li><li><span><a href=\"#Scipy-optimizer\" data-toc-modified-id=\"Scipy-optimizer-3.2\"><span class=\"toc-item-num\">3.2&nbsp;&nbsp;</span>Scipy optimizer</a></span></li><li><span><a href=\"#Dimension-20\" data-toc-modified-id=\"Dimension-20-3.3\"><span class=\"toc-item-num\">3.3&nbsp;&nbsp;</span>Dimension 20</a></span><ul class=\"toc-item\"><li><span><a href=\"#Local-PSO---Ring-topology\" data-toc-modified-id=\"Local-PSO---Ring-topology-3.3.1\"><span class=\"toc-item-num\">3.3.1&nbsp;&nbsp;</span>Local PSO - Ring topology</a></span></li></ul></li><li><span><a href=\"#Dimension-100\" data-toc-modified-id=\"Dimension-100-3.4\"><span class=\"toc-item-num\">3.4&nbsp;&nbsp;</span>Dimension 100</a></span><ul class=\"toc-item\"><li><span><a href=\"#Global-PSO\" data-toc-modified-id=\"Global-PSO-3.4.1\"><span class=\"toc-item-num\">3.4.1&nbsp;&nbsp;</span>Global PSO</a></span></li><li><span><a href=\"#Local-PSO\" data-toc-modified-id=\"Local-PSO-3.4.2\"><span class=\"toc-item-num\">3.4.2&nbsp;&nbsp;</span>Local PSO</a></span></li><li><span><a href=\"#Ring-topology\" data-toc-modified-id=\"Ring-topology-3.4.3\"><span class=\"toc-item-num\">3.4.3&nbsp;&nbsp;</span>Ring topology</a></span></li><li><span><a href=\"#Star-topology\" data-toc-modified-id=\"Star-topology-3.4.4\"><span class=\"toc-item-num\">3.4.4&nbsp;&nbsp;</span>Star topology</a></span></li><li><span><a href=\"#VonNeumann-topology\" data-toc-modified-id=\"VonNeumann-topology-3.4.5\"><span class=\"toc-item-num\">3.4.5&nbsp;&nbsp;</span>VonNeumann topology</a></span></li><li><span><a href=\"#Pyramid-topology\" data-toc-modified-id=\"Pyramid-topology-3.4.6\"><span class=\"toc-item-num\">3.4.6&nbsp;&nbsp;</span>Pyramid topology</a></span></li><li><span><a href=\"#Random-topology\" data-toc-modified-id=\"Random-topology-3.4.7\"><span class=\"toc-item-num\">3.4.7&nbsp;&nbsp;</span>Random topology</a></span></li></ul></li><li><span><a href=\"#Dimension-1000\" data-toc-modified-id=\"Dimension-1000-3.5\"><span class=\"toc-item-num\">3.5&nbsp;&nbsp;</span>Dimension 1000</a></span></li></ul></li><li><span><a href=\"#Ackley-function\" data-toc-modified-id=\"Ackley-function-4\"><span class=\"toc-item-num\">4&nbsp;&nbsp;</span>Ackley function</a></span><ul class=\"toc-item\"><li><span><a href=\"#Dimension-10\" data-toc-modified-id=\"Dimension-10-4.1\"><span class=\"toc-item-num\">4.1&nbsp;&nbsp;</span>Dimension 10</a></span><ul class=\"toc-item\"><li><span><a href=\"#Local-PSO---Ring-Topology\" data-toc-modified-id=\"Local-PSO---Ring-Topology-4.1.1\"><span class=\"toc-item-num\">4.1.1&nbsp;&nbsp;</span>Local PSO - Ring Topology</a></span></li></ul></li><li><span><a href=\"#Dimension-100\" data-toc-modified-id=\"Dimension-100-4.2\"><span class=\"toc-item-num\">4.2&nbsp;&nbsp;</span>Dimension 100</a></span></li></ul></li><li><span><a href=\"#Gomez-and-Levy-function\" data-toc-modified-id=\"Gomez-and-Levy-function-5\"><span class=\"toc-item-num\">5&nbsp;&nbsp;</span>Gomez and Levy function</a></span></li><li><span><a href=\"#Sensibility-to-hyperparameters\" data-toc-modified-id=\"Sensibility-to-hyperparameters-6\"><span class=\"toc-item-num\">6&nbsp;&nbsp;</span>Sensibility to hyperparameters</a></span><ul class=\"toc-item\"><li><span><a href=\"#Inertia-and-accelaration-parameters\" data-toc-modified-id=\"Inertia-and-accelaration-parameters-6.1\"><span class=\"toc-item-num\">6.1&nbsp;&nbsp;</span>Inertia and accelaration parameters</a></span></li><li><span><a href=\"#Swarm-size-and-iterations-parameters\" data-toc-modified-id=\"Swarm-size-and-iterations-parameters-6.2\"><span class=\"toc-item-num\">6.2&nbsp;&nbsp;</span>Swarm size and iterations parameters</a></span><ul class=\"toc-item\"><li><span><a href=\"#Iterations-vs-Particles\" data-toc-modified-id=\"Iterations-vs-Particles-6.2.1\"><span class=\"toc-item-num\">6.2.1&nbsp;&nbsp;</span>Iterations vs Particles</a></span></li></ul></li><li><span><a href=\"#Complexity-with-respect-to-particles\" data-toc-modified-id=\"Complexity-with-respect-to-particles-6.3\"><span class=\"toc-item-num\">6.3&nbsp;&nbsp;</span>Complexity with respect to particles</a></span></li></ul></li></ul></div>"
   ]
  },
  {
   "cell_type": "markdown",
   "metadata": {},
   "source": [
    "# Library"
   ]
  },
  {
   "cell_type": "code",
   "execution_count": 1,
   "metadata": {
    "ExecuteTime": {
     "end_time": "2022-03-31T07:57:03.008450Z",
     "start_time": "2022-03-31T07:56:40.906543Z"
    }
   },
   "outputs": [],
   "source": [
    "import numpy as np\n",
    "import matplotlib.pyplot as plt\n",
    "import pyswarms as ps\n",
    "from scipy.optimize import minimize\n",
    "import math\n",
    "from mpl_toolkits import mplot3d\n",
    "import time"
   ]
  },
  {
   "cell_type": "markdown",
   "metadata": {},
   "source": [
    "We compare the power of the PSO method compare to usual scipy minimizer on classic test functions for optimization.\n",
    "Firstly in dimension 1 then in high dimensions (more than 100)."
   ]
  },
  {
   "cell_type": "markdown",
   "metadata": {},
   "source": [
    "# Sphere function"
   ]
  },
  {
   "cell_type": "markdown",
   "metadata": {},
   "source": [
    "https://www.sfu.ca/~ssurjano/spheref.html\n",
    "\n",
    "The minimum is at $x=(0,0,0,\\dots,0)$"
   ]
  },
  {
   "cell_type": "code",
   "execution_count": 2,
   "metadata": {
    "ExecuteTime": {
     "end_time": "2022-03-31T07:57:07.983373Z",
     "start_time": "2022-03-31T07:57:07.965103Z"
    }
   },
   "outputs": [],
   "source": [
    "#In dimension 1\n",
    "def sphere_dim1(x):\n",
    "    return x**2\n",
    "\n",
    "#Sphere for PSO\n",
    "def sphere_pso(x):\n",
    "    n = len(x[0,:])\n",
    "    f = 0\n",
    "    for i in range(n):\n",
    "        f += x[:,i]**2\n",
    "    return f"
   ]
  },
  {
   "cell_type": "code",
   "execution_count": 3,
   "metadata": {
    "ExecuteTime": {
     "end_time": "2022-03-31T07:57:08.830414Z",
     "start_time": "2022-03-31T07:57:08.599756Z"
    }
   },
   "outputs": [
    {
     "data": {
      "text/plain": [
       "[<matplotlib.lines.Line2D at 0x18346948fd0>]"
      ]
     },
     "execution_count": 3,
     "metadata": {},
     "output_type": "execute_result"
    },
    {
     "data": {
      "image/png": "[encoded data removed]",
      "text/plain": [
       "<Figure size 432x288 with 1 Axes>"
      ]
     },
     "metadata": {
      "needs_background": "light"
     },
     "output_type": "display_data"
    }
   ],
   "source": [
    "#In dimension 1\n",
    "x = np.linspace(-10,10,100)\n",
    "y= sphere_dim1(x)\n",
    "plt.figure()\n",
    "plt.title(\"Sphere\")\n",
    "plt.plot(x,y)"
   ]
  },
  {
   "cell_type": "markdown",
   "metadata": {},
   "source": [
    "## In dimension 10"
   ]
  },
  {
   "cell_type": "code",
   "execution_count": 4,
   "metadata": {
    "ExecuteTime": {
     "end_time": "2022-03-31T07:57:10.642417Z",
     "start_time": "2022-03-31T07:57:10.244757Z"
    }
   },
   "outputs": [
    {
     "name": "stdout",
     "output_type": "stream",
     "text": [
      "In dimension 10 for 30 particles\n",
      "The minimum find is 0.001\n",
      "The minimum find is 0.000\n",
      "The minimum find is 0.001\n",
      "The minimum find is 0.001\n",
      "The minimum find is 0.000\n",
      "The minimum find is 0.001\n",
      "The minimum find is 0.000\n",
      "The minimum find is 0.001\n",
      "The minimum find is 0.000\n",
      "The minimum find is 0.001\n"
     ]
    }
   ],
   "source": [
    "options = {'c1': 1.49445, 'c2': 1.49445, 'w': 0.729 }\n",
    "dim = 10\n",
    "n_particles = 30\n",
    "print(\"In dimension %d for %d particles\" %(dim,n_particles))\n",
    "x_max = 5.12 * np.ones(dim)\n",
    "x_min = -1 * x_max\n",
    "bounds = (x_min,x_max)\n",
    "for i in range(10):\n",
    "    optimizer = ps.single.GlobalBestPSO(n_particles=n_particles, dimensions=dim, options = options , bounds = bounds)\n",
    "    cost, pos = optimizer.optimize(sphere_pso, iters=100 , verbose = False)\n",
    "    print(\"The minimum find is %.3f\"%(cost))"
   ]
  },
  {
   "cell_type": "markdown",
   "metadata": {},
   "source": [
    "## Dimension 100"
   ]
  },
  {
   "cell_type": "code",
   "execution_count": 5,
   "metadata": {
    "ExecuteTime": {
     "end_time": "2022-03-31T07:57:30.481727Z",
     "start_time": "2022-03-31T07:57:15.905566Z"
    }
   },
   "outputs": [
    {
     "name": "stdout",
     "output_type": "stream",
     "text": [
      "In dimension 100 for 30 particles\n",
      "The minimum find is 0.273\n",
      "The minimum find is 0.030\n",
      "The minimum find is 2.041\n",
      "The minimum find is 0.112\n",
      "The minimum find is 0.020\n",
      "The minimum find is 2.760\n",
      "The minimum find is 0.103\n",
      "The minimum find is 0.008\n",
      "The minimum find is 1.264\n",
      "The minimum find is 2.258\n"
     ]
    }
   ],
   "source": [
    "options = {'c1': 1.49445, 'c2': 1.49445, 'w': 0.729 }\n",
    "dim = 100\n",
    "n_particles = 30\n",
    "print(\"In dimension %d for %d particles\" %(dim,n_particles))\n",
    "x_max = 5.12 * np.ones(dim)\n",
    "x_min = -1 * x_max\n",
    "bounds = (x_min,x_max)\n",
    "for i in range(10):\n",
    "    optimizer = ps.single.GlobalBestPSO(n_particles=n_particles, dimensions=dim, options = options , bounds = bounds)\n",
    "    cost, pos = optimizer.optimize(sphere_pso, iters=2000 , verbose = False)\n",
    "    print(\"The minimum find is %.3f\"%(cost))"
   ]
  },
  {
   "cell_type": "markdown",
   "metadata": {},
   "source": [
    "# Rastrigin function"
   ]
  },
  {
   "cell_type": "markdown",
   "metadata": {},
   "source": [
    "https://en.wikipedia.org/wiki/Rastrigin_function\n",
    "\n",
    "The minimum is at $x = (0,0,0 \\dots , 0 )$"
   ]
  },
  {
   "cell_type": "code",
   "execution_count": 6,
   "metadata": {
    "ExecuteTime": {
     "end_time": "2022-03-31T07:57:32.438194Z",
     "start_time": "2022-03-31T07:57:32.413010Z"
    }
   },
   "outputs": [],
   "source": [
    "#In dimension 1\n",
    "def rastrigin_dim1(x):\n",
    "    A = 10\n",
    "    return x**2 - A *np.cos(2*np.pi*x)\n",
    "\n",
    "#Rastrigin for PSO\n",
    "def rastrigin_pso(x):\n",
    "    n = x.shape[1]\n",
    "    f = 0\n",
    "    A = 10\n",
    "    for i in range(n):\n",
    "        x_ = x[:,i]\n",
    "        f += x_**2 - A * np.cos(2*np.pi*x_)\n",
    "    f += A * n\n",
    "    return f\n",
    "\n",
    "def rastrigin(x):\n",
    "    A = 10\n",
    "    n = len(x)\n",
    "    f = 0\n",
    "    for i in range(n):\n",
    "        f += x[i]**2 - A * np.cos(2*np.pi*x[i])\n",
    "    f += A * n\n",
    "    return f"
   ]
  },
  {
   "cell_type": "code",
   "execution_count": 10,
   "metadata": {
    "ExecuteTime": {
     "end_time": "2022-03-31T07:57:57.348070Z",
     "start_time": "2022-03-31T07:57:57.152530Z"
    }
   },
   "outputs": [
    {
     "data": {
      "text/plain": [
       "[<matplotlib.lines.Line2D at 0x183492147b8>]"
      ]
     },
     "execution_count": 10,
     "metadata": {},
     "output_type": "execute_result"
    },
    {
     "data": {
      "image/png": "[encoded data removed]",
      "text/plain": [
       "<Figure size 432x288 with 1 Axes>"
      ]
     },
     "metadata": {
      "needs_background": "light"
     },
     "output_type": "display_data"
    }
   ],
   "source": [
    "#In dimension 1\n",
    "x = np.linspace(-5.12,5.12,100)\n",
    "y= rastrigin_dim1(x)\n",
    "plt.figure()\n",
    "plt.title(\"Rastrigin\")\n",
    "plt.plot(x,y)"
   ]
  },
  {
   "cell_type": "markdown",
   "metadata": {},
   "source": [
    "## Dimension 10"
   ]
  },
  {
   "cell_type": "code",
   "execution_count": 11,
   "metadata": {
    "ExecuteTime": {
     "end_time": "2022-03-31T07:58:02.952806Z",
     "start_time": "2022-03-31T07:57:59.923949Z"
    }
   },
   "outputs": [
    {
     "name": "stdout",
     "output_type": "stream",
     "text": [
      "In dimension 10 for 30 particles\n",
      "The minimum find is 3.980\n",
      "The minimum find is 3.980\n",
      "The minimum find is 2.985\n",
      "The minimum find is 2.985\n",
      "The minimum find is 4.975\n",
      "The minimum find is 3.980\n",
      "The minimum find is 1.990\n",
      "The minimum find is 3.980\n",
      "The minimum find is 6.965\n",
      "The minimum find is 5.970\n",
      "5.969749304740674\n"
     ]
    }
   ],
   "source": [
    "options = {'c1': 1.49445, 'c2': 1.49445, 'w': 0.729 }\n",
    "dim = 10\n",
    "n_particles = 30\n",
    "print(\"In dimension %d for %d particles\" %(dim,n_particles))\n",
    "x_max = 5.12 * np.ones(dim)\n",
    "x_min = -1 * x_max\n",
    "bounds = (x_min,x_max)\n",
    "for i in range(10):\n",
    "    optimizer = ps.single.GlobalBestPSO(n_particles=n_particles, dimensions=dim, options = options , bounds = bounds)\n",
    "    cost, pos = optimizer.optimize(rastrigin_pso, iters=1000 , verbose = False)\n",
    "    print(\"The minimum find is %.3f\"%(cost))\n",
    "print(cost)"
   ]
  },
  {
   "cell_type": "code",
   "execution_count": 12,
   "metadata": {
    "ExecuteTime": {
     "end_time": "2022-03-31T07:58:07.236006Z",
     "start_time": "2022-03-31T07:58:04.337625Z"
    }
   },
   "outputs": [
    {
     "name": "stdout",
     "output_type": "stream",
     "text": [
      "In dimension 10 for 30 particles\n",
      "The minimum find is 6.965\n",
      "The minimum find is 2.985\n",
      "The minimum find is 2.985\n",
      "The minimum find is 2.985\n",
      "The minimum find is 3.980\n",
      "The minimum find is 1.990\n",
      "The minimum find is 3.980\n",
      "The minimum find is 0.995\n",
      "The minimum find is 3.980\n",
      "The minimum find is 1.990\n"
     ]
    }
   ],
   "source": [
    "options = {'c1': 1.49445, 'c2': 1.49445, 'w': 0.729 }\n",
    "dim = 10\n",
    "n_particles = 30\n",
    "print(\"In dimension %d for %d particles\" %(dim,n_particles))\n",
    "x_max = 5.12 * np.ones(dim)\n",
    "x_min = -1 * x_max\n",
    "bounds = (x_min,x_max)\n",
    "for i in range(10):\n",
    "    optimizer = ps.single.GlobalBestPSO(n_particles=n_particles, dimensions=dim, options = options , bounds = bounds)\n",
    "    cost, pos = optimizer.optimize(rastrigin_pso, iters=1000 , verbose = False)\n",
    "    print(\"The minimum find is %.3f\"%(cost))"
   ]
  },
  {
   "cell_type": "markdown",
   "metadata": {},
   "source": [
    "## Scipy optimizer"
   ]
  },
  {
   "cell_type": "code",
   "execution_count": 13,
   "metadata": {
    "ExecuteTime": {
     "end_time": "2022-03-31T07:58:08.323042Z",
     "start_time": "2022-03-31T07:58:08.154555Z"
    }
   },
   "outputs": [
    {
     "name": "stdout",
     "output_type": "stream",
     "text": [
      "Nelder-Mead\n",
      "Optimization terminated successfully.\n",
      "96.51040780636919\n",
      "\n",
      "\n",
      "BFGS\n",
      "Optimization terminated successfully.\n",
      "145.26283158526692\n",
      "\n",
      "\n",
      "COBYLA\n",
      "Optimization terminated successfully.\n",
      "51.73773326512271\n",
      "\n",
      "\n",
      "SLSQP\n",
      "Optimization terminated successfully.\n",
      "96.51052852232581\n",
      "\n",
      "\n"
     ]
    }
   ],
   "source": [
    "dim = 10\n",
    "for solver in ['Nelder-Mead','BFGS', 'COBYLA' , 'SLSQP']:\n",
    "    print('\\033[1m' + solver + '\\033[1m')\n",
    "    x0 = np.random.uniform(-5.12,5.12,dim)\n",
    "    opts = {'disp' : False}\n",
    "    res = minimize(rastrigin,x0, method=solver, options = opts)\n",
    "    print(res.message)\n",
    "    print(rastrigin(res.x))\n",
    "    print(\"\\n\")"
   ]
  },
  {
   "cell_type": "markdown",
   "metadata": {},
   "source": [
    "Remark that in this kind of problems in high-dimension with lot of local minimum, PSO method performs way better than classic optimizer method"
   ]
  },
  {
   "cell_type": "markdown",
   "metadata": {
    "ExecuteTime": {
     "end_time": "2022-03-15T09:26:37.286553Z",
     "start_time": "2022-03-15T09:26:37.272581Z"
    }
   },
   "source": [
    "## Dimension 20"
   ]
  },
  {
   "cell_type": "markdown",
   "metadata": {
    "ExecuteTime": {
     "end_time": "2022-03-15T09:26:37.317138Z",
     "start_time": "2022-03-15T09:26:37.302883Z"
    }
   },
   "source": [
    "### Local PSO - Ring topology"
   ]
  },
  {
   "cell_type": "code",
   "execution_count": 16,
   "metadata": {
    "ExecuteTime": {
     "end_time": "2022-03-31T07:58:51.922001Z",
     "start_time": "2022-03-31T07:58:50.282626Z"
    }
   },
   "outputs": [
    {
     "name": "stdout",
     "output_type": "stream",
     "text": [
      "In dimension 20 for 30 particles\n",
      "1 - The minimum find is 6.965\n",
      "2 - The minimum find is 10.945\n",
      "3 - The minimum find is 7.960\n",
      "4 - The minimum find is 2.985\n",
      "5 - The minimum find is 5.970\n",
      "Moyenne 6.965\n"
     ]
    }
   ],
   "source": [
    "dim = 20\n",
    "n_particles = 30\n",
    "my_topology = ps.backend.topology.Ring(static=True)\n",
    "options = {'c1': 1.49445, 'c2': 1.49445, 'w': 0.729 ,  'k':5 , 'p':2 }\n",
    "print(\"In dimension %d for %d particles\" %(dim,n_particles))\n",
    "x_max = 5.12 * np.ones(dim)\n",
    "x_min = -1 * x_max\n",
    "bounds = (x_min,x_max)\n",
    "average = 0\n",
    "N = 5\n",
    "for i in range(N):\n",
    "    optimizer = ps.single.GeneralOptimizerPSO(n_particles=n_particles, dimensions=dim, options=options, topology=my_topology)\n",
    "    cost, pos = optimizer.optimize(rastrigin_pso, iters=1000 , verbose = False)\n",
    "    print(\"%d - The minimum find is %.3f\"%(i+1,cost))\n",
    "    average += cost\n",
    "print(\"Moyenne %.3f\"%(average/N))"
   ]
  },
  {
   "cell_type": "markdown",
   "metadata": {},
   "source": [
    "## Dimension 100"
   ]
  },
  {
   "cell_type": "markdown",
   "metadata": {},
   "source": [
    "### Global PSO"
   ]
  },
  {
   "cell_type": "code",
   "execution_count": 22,
   "metadata": {
    "ExecuteTime": {
     "end_time": "2022-03-31T08:02:07.879185Z",
     "start_time": "2022-03-31T08:01:56.115533Z"
    }
   },
   "outputs": [
    {
     "name": "stdout",
     "output_type": "stream",
     "text": [
      "In dimension 100 for 100 particles\n",
      "1 - The minimum find is 136.333\n",
      "2 - The minimum find is 123.587\n",
      "3 - The minimum find is 98.422\n",
      "4 - The minimum find is 131.288\n",
      "5 - The minimum find is 136.021\n",
      "Moyenne 125.130\n"
     ]
    }
   ],
   "source": [
    "dim = 100\n",
    "options = {'c1': 1.49445, 'c2': 1.49445, 'w': 0.729}\n",
    "n_particles = 100\n",
    "print(\"In dimension %d for %d particles\" %(dim,n_particles))\n",
    "x_max = 5.12 * np.ones(dim)\n",
    "x_min = -1 * x_max\n",
    "bounds = (x_min,x_max)\n",
    "average = 0\n",
    "N = 5\n",
    "for i in range(N):\n",
    "    optimizer = ps.single.GlobalBestPSO(n_particles=n_particles, dimensions=dim, options = options , bounds = bounds)\n",
    "    cost, pos = optimizer.optimize(rastrigin_pso, iters=1000 , verbose = False)\n",
    "    print(\"%d - The minimum find is %.3f\"%(i+1,cost))\n",
    "    average += cost\n",
    "print(\"Moyenne %.3f\"%(average/N))"
   ]
  },
  {
   "cell_type": "markdown",
   "metadata": {},
   "source": [
    "### Local PSO"
   ]
  },
  {
   "cell_type": "code",
   "execution_count": 25,
   "metadata": {
    "ExecuteTime": {
     "end_time": "2022-03-31T08:03:25.533311Z",
     "start_time": "2022-03-31T08:02:49.127537Z"
    }
   },
   "outputs": [
    {
     "name": "stdout",
     "output_type": "stream",
     "text": [
      "In dimension 100 for 100 particles\n",
      "1 - The minimum find is 164.028\n",
      "2 - The minimum find is 119.637\n",
      "3 - The minimum find is 143.969\n",
      "4 - The minimum find is 213.696\n",
      "5 - The minimum find is 280.418\n"
     ]
    }
   ],
   "source": [
    "dim = 100\n",
    "n_particles = 100\n",
    "options = {'c1': 1.49445, 'c2': 1.49445, 'w': 0.729 , 'k':10 , 'p':2}\n",
    "print(\"In dimension %d for %d particles\" %(dim,n_particles))\n",
    "x_max = 5.12 * np.ones(dim)\n",
    "x_min = -1 * x_max\n",
    "bounds = (x_min,x_max)\n",
    "for i in range(5):\n",
    "    optimizer = ps.single.LocalBestPSO(n_particles=n_particles, dimensions=dim, options = options , bounds = bounds)\n",
    "    cost, pos = optimizer.optimize(rastrigin_pso, iters=1000 , verbose = False)\n",
    "    print(\"%d - The minimum find is %.3f\"%(i+1, cost))"
   ]
  },
  {
   "cell_type": "markdown",
   "metadata": {},
   "source": [
    "Different topology\n",
    "\n",
    "### Ring topology"
   ]
  },
  {
   "cell_type": "code",
   "execution_count": 26,
   "metadata": {
    "ExecuteTime": {
     "end_time": "2022-03-31T08:03:43.258778Z",
     "start_time": "2022-03-31T08:03:32.110809Z"
    }
   },
   "outputs": [
    {
     "name": "stdout",
     "output_type": "stream",
     "text": [
      "In dimension 100 for 100 particles\n",
      "1 - The minimum find is 52.764\n",
      "2 - The minimum find is 57.818\n",
      "3 - The minimum find is 36.816\n",
      "4 - The minimum find is 60.239\n",
      "5 - The minimum find is 91.538\n"
     ]
    }
   ],
   "source": [
    "dim = 100\n",
    "n_particles = 100\n",
    "my_topology = ps.backend.topology.Ring(static=True)\n",
    "options = {'c1': 1.4, 'c2': 1.4, 'w': 0.7 , 'k' : 5, 'p' : 2}\n",
    "print(\"In dimension %d for %d particles\" %(dim,n_particles))\n",
    "x_max = 5.12 * np.ones(dim)\n",
    "x_min = -1 * x_max\n",
    "bounds = (x_min,x_max)\n",
    "for i in range(5):\n",
    "    optimizer = ps.single.GeneralOptimizerPSO(n_particles=n_particles, dimensions=dim, options=options, topology=my_topology)\n",
    "    cost, pos = optimizer.optimize(rastrigin_pso, iters=1000 , verbose = False)\n",
    "    print(\"%d - The minimum find is %.3f\"%(i+1,cost))"
   ]
  },
  {
   "cell_type": "markdown",
   "metadata": {},
   "source": [
    "### Star topology"
   ]
  },
  {
   "cell_type": "code",
   "execution_count": 27,
   "metadata": {
    "ExecuteTime": {
     "end_time": "2022-03-31T08:04:23.348077Z",
     "start_time": "2022-03-31T08:04:14.796957Z"
    }
   },
   "outputs": [
    {
     "name": "stdout",
     "output_type": "stream",
     "text": [
      "In dimension 100 for 100 particles\n",
      "1 - The minimum find is 418.707\n",
      "2 - The minimum find is 350.029\n",
      "3 - The minimum find is 420.653\n",
      "4 - The minimum find is 430.439\n",
      "5 - The minimum find is 473.688\n"
     ]
    }
   ],
   "source": [
    "dim = 100\n",
    "n_particles = 100\n",
    "my_topology = ps.backend.topology.Star()\n",
    "options = {'c1': 1.49445, 'c2': 1.49445, 'w': 0.2}\n",
    "print(\"In dimension %d for %d particles\" %(dim,n_particles))\n",
    "x_max = 5.12 * np.ones(dim)\n",
    "x_min = -1 * x_max\n",
    "bounds = (x_min,x_max)\n",
    "for i in range(5):\n",
    "    optimizer = ps.single.GeneralOptimizerPSO(n_particles=n_particles, dimensions=dim, options=options, topology=my_topology)\n",
    "    cost, pos = optimizer.optimize(rastrigin_pso, iters=1000 , verbose = False)\n",
    "    print(\"%d - The minimum find is %.3f\"%(i+1,cost))"
   ]
  },
  {
   "cell_type": "markdown",
   "metadata": {},
   "source": [
    "### VonNeumann topology"
   ]
  },
  {
   "cell_type": "code",
   "execution_count": 30,
   "metadata": {
    "ExecuteTime": {
     "end_time": "2022-03-31T08:05:34.004924Z",
     "start_time": "2022-03-31T08:04:34.565351Z"
    }
   },
   "outputs": [
    {
     "name": "stdout",
     "output_type": "stream",
     "text": [
      "In dimension 100 for 1000 particles\n",
      "1 - The minimum find is 42.785\n",
      "2 - The minimum find is 57.708\n",
      "3 - The minimum find is 63.683\n",
      "4 - The minimum find is 40.793\n",
      "5 - The minimum find is 50.743\n"
     ]
    }
   ],
   "source": [
    "dim = 100\n",
    "n_particles = 1000\n",
    "my_topology = ps.backend.topology.VonNeumann(static=True)\n",
    "options = {'c1': 1.49445, 'c2': 1.49445, 'w': 0.729, 'p' : 1 , 'r' : 1}\n",
    "print(\"In dimension %d for %d particles\" %(dim,n_particles))\n",
    "x_max = 5.12 * np.ones(dim)\n",
    "x_min = -1 * x_max\n",
    "bounds = (x_min,x_max)\n",
    "for i in range(5):\n",
    "    optimizer = ps.single.GeneralOptimizerPSO(n_particles=n_particles, dimensions=dim, options=options, topology=my_topology)\n",
    "    cost, pos = optimizer.optimize(rastrigin_pso, iters=1000 , verbose = False)\n",
    "    print(\"%d - The minimum find is %.3f\"%(i+1,cost))"
   ]
  },
  {
   "cell_type": "markdown",
   "metadata": {},
   "source": [
    "### Pyramid topology"
   ]
  },
  {
   "cell_type": "code",
   "execution_count": 31,
   "metadata": {
    "ExecuteTime": {
     "end_time": "2022-03-31T08:05:48.661108Z",
     "start_time": "2022-03-31T08:05:39.231316Z"
    }
   },
   "outputs": [
    {
     "name": "stdout",
     "output_type": "stream",
     "text": [
      "In dimension 100 for 100 particles\n",
      "1 - The minimum find is 98.376\n",
      "2 - The minimum find is 56.814\n",
      "3 - The minimum find is 87.619\n",
      "4 - The minimum find is 45.777\n",
      "5 - The minimum find is 89.622\n"
     ]
    }
   ],
   "source": [
    "dim = 100\n",
    "n_particles = 100\n",
    "my_topology = ps.backend.topology.Pyramid(static=True)\n",
    "options = {'c1': 1.49445, 'c2': 1.49445, 'w': 0.729, 'p' : 1 , 'r' : 1}\n",
    "print(\"In dimension %d for %d particles\" %(dim,n_particles))\n",
    "x_max = 5.12 * np.ones(dim)\n",
    "x_min = -1 * x_max\n",
    "bounds = (x_min,x_max)\n",
    "for i in range(5):\n",
    "    optimizer = ps.single.GeneralOptimizerPSO(n_particles=n_particles, dimensions=dim, options=options, topology=my_topology)\n",
    "    cost, pos = optimizer.optimize(rastrigin_pso, iters=1000 , verbose = False)\n",
    "    print(\"%d - The minimum find is %.3f\"%(i+1,cost))"
   ]
  },
  {
   "cell_type": "markdown",
   "metadata": {},
   "source": [
    "### Random topology"
   ]
  },
  {
   "cell_type": "code",
   "execution_count": 33,
   "metadata": {
    "ExecuteTime": {
     "end_time": "2022-03-31T08:08:17.850202Z",
     "start_time": "2022-03-31T08:06:08.574671Z"
    }
   },
   "outputs": [
    {
     "name": "stdout",
     "output_type": "stream",
     "text": [
      "In dimension 100 for 100 particles\n",
      "1 - The minimum find is 689.901\n",
      "2 - The minimum find is 488.505\n",
      "3 - The minimum find is 352.353\n",
      "4 - The minimum find is 822.084\n",
      "5 - The minimum find is 260.794\n"
     ]
    }
   ],
   "source": [
    "dim = 100\n",
    "n_particles = 100\n",
    "my_topology = ps.backend.topology.Random()\n",
    "options = {'c1': 1.49445, 'c2': 1.49445, 'w': 0.729, 'k' : 10 }\n",
    "print(\"In dimension %d for %d particles\" %(dim,n_particles))\n",
    "x_max = 5.12 * np.ones(dim)\n",
    "x_min = -1 * x_max\n",
    "bounds = (x_min,x_max)\n",
    "for i in range(5):\n",
    "    optimizer = ps.single.GeneralOptimizerPSO(n_particles=n_particles, dimensions=dim, options=options, topology=my_topology)\n",
    "    cost, pos = optimizer.optimize(rastrigin_pso, iters=1000 , verbose = False)\n",
    "    print(\"%d - The minimum find is %.3f\"%(i+1,cost))"
   ]
  },
  {
   "cell_type": "markdown",
   "metadata": {},
   "source": [
    "Best topology is Ring topology with few neighbours"
   ]
  },
  {
   "cell_type": "markdown",
   "metadata": {},
   "source": [
    "## Dimension 1000"
   ]
  },
  {
   "cell_type": "code",
   "execution_count": 35,
   "metadata": {
    "ExecuteTime": {
     "end_time": "2022-03-31T08:12:35.108547Z",
     "start_time": "2022-03-31T08:11:55.128809Z"
    }
   },
   "outputs": [
    {
     "name": "stdout",
     "output_type": "stream",
     "text": [
      "In dimension 1000 for 300 particles\n",
      "1 - The minimum find is 4697.736\n"
     ]
    }
   ],
   "source": [
    "dim = 1000\n",
    "n_particles = 300\n",
    "my_topology = ps.backend.topology.Ring(static=True)\n",
    "options = {'c1': 1.49445, 'c2': 1.49445, 'w': 0.7 , 'p' : 2 , 'k' : 10}\n",
    "print(\"In dimension %d for %d particles\" %(dim,n_particles))\n",
    "x_max = 5.12 * np.ones(dim)\n",
    "x_min = -1 * x_max\n",
    "bounds = (x_min,x_max)\n",
    "for i in range(1):\n",
    "    optimizer = ps.single.GeneralOptimizerPSO(n_particles=n_particles, dimensions=dim, options=options, topology=my_topology)\n",
    "    cost, pos = optimizer.optimize(rastrigin_pso, iters=1000 , verbose = False)\n",
    "    print(\"%d - The minimum find is %.3f\"%(i+1,cost))"
   ]
  },
  {
   "cell_type": "markdown",
   "metadata": {},
   "source": [
    "Best achive is 591 with 100 particles and options : \n",
    "\n",
    "*options = {'c1': 1.49445, 'c2': 1.49445, 'w': 0.7 , 'p' : 2 , 'k' : 10}*"
   ]
  },
  {
   "cell_type": "markdown",
   "metadata": {},
   "source": [
    "# Ackley function"
   ]
  },
  {
   "cell_type": "markdown",
   "metadata": {},
   "source": [
    "https://www.sfu.ca/~ssurjano/ackley.html"
   ]
  },
  {
   "cell_type": "markdown",
   "metadata": {},
   "source": [
    "$ f(x) = - a * \\exp (-b \\sqrt{A} )  - \\exp( \\frac{1}{d} B) + a + \\exp(1)$ \n",
    "\n",
    "with $a = 20$, $b=0.2$, $c=2\\pi$, $A = \\frac{1}{d}\\sum_{i=1}^d x_i^2$, $B=\\sum_{i=1}^d \\cos(cx_i)$ and $d$ the dimension\n",
    "\n",
    "The minimum is at $x^*=(0,0,\\dots,0)$"
   ]
  },
  {
   "cell_type": "code",
   "execution_count": 36,
   "metadata": {
    "ExecuteTime": {
     "end_time": "2022-03-31T08:12:43.597509Z",
     "start_time": "2022-03-31T08:12:43.573660Z"
    }
   },
   "outputs": [],
   "source": [
    "#In dimension 1\n",
    "def ackley_dim1(x):\n",
    "    a = 20\n",
    "    b = 0.2\n",
    "    c = 2*np.pi\n",
    "    return -a * np.exp(-b * abs(x)) - np.exp(np.cos(c*x)) + a + np.exp(1)\n",
    "\n",
    "#Rastrigin for PSO\n",
    "def ackley_pso(x):\n",
    "    a = 20\n",
    "    b = 0.2\n",
    "    c = 2*np.pi\n",
    "    d = len(x[0,:])\n",
    "    A = 0\n",
    "    B = 0\n",
    "    for i in range(d):\n",
    "        x_ = x[:,i]\n",
    "        A += x**2\n",
    "        B += np.cos(c*x)\n",
    "    f = -a * np.exp(-b * np.sqrt(1/d * A)) - np.exp(1/d * B) + a + np.exp(1)\n",
    "    return f\n",
    "\n",
    "def ackley(x):\n",
    "    a = 20\n",
    "    b = 0.2\n",
    "    c = 2*np.pi\n",
    "    d = 1\n",
    "    A = 0\n",
    "    B = 0\n",
    "    for i in range(d):\n",
    "        A += x**2\n",
    "        B += np.cos(c*x)\n",
    "    f = -a * np.exp(-b * np.sqrt(1/d * A)) - np.exp(1/d * B) + a + np.exp(1)\n",
    "    return f"
   ]
  },
  {
   "cell_type": "code",
   "execution_count": 37,
   "metadata": {
    "ExecuteTime": {
     "end_time": "2022-03-31T08:12:44.221727Z",
     "start_time": "2022-03-31T08:12:44.018514Z"
    }
   },
   "outputs": [
    {
     "data": {
      "text/plain": [
       "[<matplotlib.lines.Line2D at 0x1834908cc50>]"
      ]
     },
     "execution_count": 37,
     "metadata": {},
     "output_type": "execute_result"
    },
    {
     "data": {
      "image/png": "[encoded data removed]",
      "text/plain": [
       "<Figure size 432x288 with 1 Axes>"
      ]
     },
     "metadata": {
      "needs_background": "light"
     },
     "output_type": "display_data"
    }
   ],
   "source": [
    "#In dimension 1\n",
    "x = np.linspace(-32,32,100)\n",
    "y= ackley_dim1(x)\n",
    "plt.figure()\n",
    "plt.title(\"Ackley\")\n",
    "plt.plot(x,y)"
   ]
  },
  {
   "cell_type": "markdown",
   "metadata": {},
   "source": [
    "## Dimension 10"
   ]
  },
  {
   "cell_type": "markdown",
   "metadata": {},
   "source": [
    "### Local PSO - Ring Topology"
   ]
  },
  {
   "cell_type": "code",
   "execution_count": 41,
   "metadata": {
    "ExecuteTime": {
     "end_time": "2022-03-31T08:13:08.821467Z",
     "start_time": "2022-03-31T08:13:07.524893Z"
    }
   },
   "outputs": [
    {
     "name": "stdout",
     "output_type": "stream",
     "text": [
      "In dimension 10 for 30 particles\n",
      "1 - The minimum find is 3.980\n",
      "2 - The minimum find is 3.980\n",
      "3 - The minimum find is 3.980\n",
      "4 - The minimum find is 0.000\n",
      "5 - The minimum find is 2.429\n",
      "Moyenne 2.874\n"
     ]
    }
   ],
   "source": [
    "dim = 10\n",
    "n_particles = 30\n",
    "my_topology = ps.backend.topology.Ring(static=True)\n",
    "options = {'c1': 1.49445, 'c2': 1.49445, 'w': 0.729 ,  'k':5 , 'p':2 }\n",
    "print(\"In dimension %d for %d particles\" %(dim,n_particles))\n",
    "x_max = 32.7 * np.ones(dim)\n",
    "x_min = -1 * x_max\n",
    "bounds = (x_min,x_max)\n",
    "average = 0\n",
    "N = 5\n",
    "for i in range(N):\n",
    "    optimizer = ps.single.GeneralOptimizerPSO(n_particles=n_particles, dimensions=dim, options=options, topology=my_topology)\n",
    "    cost, pos = optimizer.optimize(rastrigin_pso, iters=1000 , verbose = False)\n",
    "    print(\"%d - The minimum find is %.3f\"%(i+1,cost))\n",
    "    average += cost\n",
    "print(\"Moyenne %.3f\"%(average/N))"
   ]
  },
  {
   "cell_type": "markdown",
   "metadata": {},
   "source": [
    "## Dimension 100"
   ]
  },
  {
   "cell_type": "code",
   "execution_count": 42,
   "metadata": {
    "ExecuteTime": {
     "end_time": "2022-03-31T08:13:45.521751Z",
     "start_time": "2022-03-31T08:13:26.763805Z"
    }
   },
   "outputs": [
    {
     "name": "stdout",
     "output_type": "stream",
     "text": [
      "In dimension 100 for 100 particles\n",
      "1 - The minimum find is 94.173\n",
      "2 - The minimum find is 47.159\n",
      "3 - The minimum find is 59.252\n",
      "4 - The minimum find is 43.476\n",
      "5 - The minimum find is 105.203\n",
      "6 - The minimum find is 122.669\n",
      "7 - The minimum find is 52.619\n",
      "8 - The minimum find is 97.915\n",
      "9 - The minimum find is 48.440\n",
      "10 - The minimum find is 67.794\n",
      "Moyenne 73.870\n"
     ]
    }
   ],
   "source": [
    "dim = 100\n",
    "n_particles = 100\n",
    "my_topology = ps.backend.topology.Ring(static=True)\n",
    "options = {'c1': 1.49445, 'c2': 1.49445, 'w': 0.729 ,  'k':5 , 'p':2 }\n",
    "print(\"In dimension %d for %d particles\" %(dim,n_particles))\n",
    "x_max = 32.7 * np.ones(dim)\n",
    "x_min = -1 * x_max\n",
    "bounds = (x_min,x_max)\n",
    "average = 0\n",
    "N = 5\n",
    "for i in range(N):\n",
    "    optimizer = ps.single.GeneralOptimizerPSO(n_particles=n_particles, dimensions=dim, options=options, topology=my_topology)\n",
    "    cost, pos = optimizer.optimize(rastrigin_pso, iters=1000 , verbose = False)\n",
    "    print(\"%d - The minimum find is %.3f\"%(i+1,cost))\n",
    "    average += cost\n",
    "print(\"Moyenne %.3f\"%(average/N))"
   ]
  },
  {
   "cell_type": "markdown",
   "metadata": {},
   "source": [
    "Best score is 30.2"
   ]
  },
  {
   "cell_type": "markdown",
   "metadata": {},
   "source": [
    "# Gomez and Levy function"
   ]
  },
  {
   "cell_type": "markdown",
   "metadata": {},
   "source": [
    "https://en.wikipedia.org/wiki/Test_functions_for_optimization"
   ]
  },
  {
   "cell_type": "markdown",
   "metadata": {},
   "source": [
    "Dimension 2 function\n",
    "\n",
    "minimum is at $(x^*,y^*)$ such that $f(x^*,y^*)=f(0.08984201,-0.7126564)=-1.031628453$"
   ]
  },
  {
   "cell_type": "code",
   "execution_count": 43,
   "metadata": {
    "ExecuteTime": {
     "end_time": "2022-03-31T08:14:33.584584Z",
     "start_time": "2022-03-31T08:14:33.571907Z"
    }
   },
   "outputs": [],
   "source": [
    "def g(x):\n",
    "    x_ = x[0]\n",
    "    y_ = x[1]\n",
    "    pi = np.pi\n",
    "    f = -np.sin(4 * pi * x_) + 2 * np.sin ( 2 * pi * y_)**2\n",
    "    return f"
   ]
  },
  {
   "cell_type": "code",
   "execution_count": 44,
   "metadata": {
    "ExecuteTime": {
     "end_time": "2022-03-31T08:14:33.943439Z",
     "start_time": "2022-03-31T08:14:33.921188Z"
    }
   },
   "outputs": [],
   "source": [
    "def gomez_and_levy_pso(x):\n",
    "    x_ = x[:,0]\n",
    "    y_ = x[:,1]\n",
    "    penalty = 1000\n",
    "    f = 4*x_**2 - 2.1 * x_ ** 4 + 1/3 * x_ **6 + x_ * y_ - 4 * y_** 2 + 4 * y_ ** 4\n",
    "    g = np.array(( -np.sin(4 * np.pi * x_) + 2 * np.sin(2 * np.pi * y_ )**2 ) > 1.5).astype(int)\n",
    "    #print(g)\n",
    "    return f + g * penalty\n",
    "\n",
    "def gomez_and_levy(x):\n",
    "    x_ = x[0]\n",
    "    y_ = x[1]\n",
    "    penalty = 1000\n",
    "    f = 4*x_**2 - 2.1 * x_ ** 4 + 1/3 * x_ **6 + x_ * y_ - 4 * y_** 2 + 4 * y_ ** 4\n",
    "    g = np.array(( -np.sin(4 * np.pi * x_) + 2 * np.sin(2 * np.pi * y_ )**2 ) > 1.5).astype(int)\n",
    "    return f + g * penalty"
   ]
  },
  {
   "cell_type": "code",
   "execution_count": 45,
   "metadata": {
    "ExecuteTime": {
     "end_time": "2022-03-31T08:14:36.933208Z",
     "start_time": "2022-03-31T08:14:34.370462Z"
    }
   },
   "outputs": [
    {
     "name": "stdout",
     "output_type": "stream",
     "text": [
      "In dimension 2 for 30 particles\n",
      "1 - The minimum find is -1.032\n",
      "2 - The minimum find is -1.032\n",
      "3 - The minimum find is -1.032\n",
      "4 - The minimum find is -1.032\n",
      "5 - The minimum find is -1.032\n"
     ]
    }
   ],
   "source": [
    "dim = 2\n",
    "options = {'c1': 1.49445, 'c2': 1.49445, 'w': 0.729 }\n",
    "n_particles = 30\n",
    "print(\"In dimension %d for %d particles\" %(dim,n_particles))\n",
    "x_max = [0.75,1]\n",
    "x_min = [-1,-1]\n",
    "bounds = (x_min,x_max)\n",
    "for i in range(5):\n",
    "    optimizer = ps.single.GlobalBestPSO(n_particles=n_particles, dimensions=dim, options = options , bounds = bounds)\n",
    "    cost, pos = optimizer.optimize(gomez_and_levy_pso, iters=2000 , verbose = False)\n",
    "    print(\"%d - The minimum find is %.3f\"%(i+1,cost))"
   ]
  },
  {
   "cell_type": "code",
   "execution_count": 46,
   "metadata": {
    "ExecuteTime": {
     "end_time": "2022-03-31T08:14:36.979753Z",
     "start_time": "2022-03-31T08:14:36.951293Z"
    }
   },
   "outputs": [
    {
     "name": "stdout",
     "output_type": "stream",
     "text": [
      "Value obtain with PSO\n",
      "-1.0316284534898779\n",
      "Best value possible\n",
      "-1.031628453489877\n"
     ]
    }
   ],
   "source": [
    "print(\"Value obtain with PSO\")\n",
    "print(gomez_and_levy(pos))\n",
    "print(\"Best value possible\")\n",
    "print(gomez_and_levy([0.08984201,-0.7126564]))"
   ]
  },
  {
   "cell_type": "code",
   "execution_count": 47,
   "metadata": {
    "ExecuteTime": {
     "end_time": "2022-03-31T08:14:38.605945Z",
     "start_time": "2022-03-31T08:14:38.585880Z"
    }
   },
   "outputs": [
    {
     "name": "stdout",
     "output_type": "stream",
     "text": [
      "-0.9146059327541689\n"
     ]
    }
   ],
   "source": [
    "x0 = [1,1]\n",
    "res = minimize(gomez_and_levy ,x0 , method='Nelder-Mead')\n",
    "print(res.fun)"
   ]
  },
  {
   "cell_type": "markdown",
   "metadata": {},
   "source": [
    "# Sensibility to hyperparameters"
   ]
  },
  {
   "cell_type": "markdown",
   "metadata": {},
   "source": [
    "## Inertia and accelaration parameters"
   ]
  },
  {
   "cell_type": "markdown",
   "metadata": {},
   "source": [
    "I need to restrict the search in dimension 10 due to the low power of my computer"
   ]
  },
  {
   "cell_type": "code",
   "execution_count": 48,
   "metadata": {
    "ExecuteTime": {
     "end_time": "2022-03-31T08:14:41.841280Z",
     "start_time": "2022-03-31T08:14:41.820447Z"
    }
   },
   "outputs": [],
   "source": [
    "def f(w, c):\n",
    "    val = 0\n",
    "    for i in range(5):\n",
    "        optimizer = ps.single.GlobalBestPSO(n_particles=n_particles, dimensions=dim, options = options , bounds = bounds)\n",
    "        cost, pos = optimizer.optimize(rastrigin_pso, iters=nb_iter , verbose = False)\n",
    "        val += cost\n",
    "    return val/5"
   ]
  },
  {
   "cell_type": "code",
   "execution_count": 49,
   "metadata": {
    "ExecuteTime": {
     "end_time": "2022-03-31T08:15:13.912046Z",
     "start_time": "2022-03-31T08:14:42.076103Z"
    }
   },
   "outputs": [
    {
     "name": "stdout",
     "output_type": "stream",
     "text": [
      "12 12\n"
     ]
    }
   ],
   "source": [
    "dim = 10\n",
    "options = {'c1': 1.49445, 'c2': 1.49445, 'w': 0.729}\n",
    "x_max = 5.12 * np.ones(dim)\n",
    "x_min = -1 * x_max\n",
    "bounds = (x_min,x_max)\n",
    "\n",
    "nb_iter = 100\n",
    "n_particles=30\n",
    "\n",
    "x = np.array([1,1.2,1.4,1.49445,1.6,1.8,2,2.2,2.4,2.6,2.8,3])#Particles\n",
    "y = np.array([0.1,0.2,0.3,0.4,0.5,0.6,0.65,0.7,0.75,0.8,0.9,1])#Iterations number\n",
    "\n",
    "print(len(x),len(y))\n",
    "\n",
    "Z= np.zeros((len(x),len(y)))\n",
    "for i in range(len(x)):\n",
    "    for j in range(len(y)):\n",
    "        Z[i,j] = f(x[i] , y[j])"
   ]
  },
  {
   "cell_type": "code",
   "execution_count": 50,
   "metadata": {
    "ExecuteTime": {
     "end_time": "2022-03-31T08:15:14.254184Z",
     "start_time": "2022-03-31T08:15:13.930041Z"
    }
   },
   "outputs": [
    {
     "data": {
      "text/plain": [
       "Text(0.5, 0, 'w')"
      ]
     },
     "execution_count": 50,
     "metadata": {},
     "output_type": "execute_result"
    },
    {
     "data": {
      "image/png": "[encoded data removed]",
      "text/plain": [
       "<Figure size 432x288 with 1 Axes>"
      ]
     },
     "metadata": {
      "needs_background": "light"
     },
     "output_type": "display_data"
    }
   ],
   "source": [
    "fig = plt.figure()\n",
    "ax = plt.axes(projection='3d')\n",
    "ax.plot_surface(x,y,Z)\n",
    "#ax.contour3D(x, y, Z)\n",
    "ax.set_xlabel('c')\n",
    "ax.set_ylabel('w')"
   ]
  },
  {
   "cell_type": "code",
   "execution_count": 51,
   "metadata": {
    "ExecuteTime": {
     "end_time": "2022-03-31T08:15:17.082616Z",
     "start_time": "2022-03-31T08:15:17.068756Z"
    }
   },
   "outputs": [
    {
     "name": "stdout",
     "output_type": "stream",
     "text": [
      "Best parameters c = 2.2 w = 0.8 \n",
      "z = 10.193\n"
     ]
    }
   ],
   "source": [
    "index = np.where(Z == np.min(Z))\n",
    "print(\"Best parameters c = %.1f w = %.1f \" %(x[index[0][0]] , y[index[1][0]]))\n",
    "print(\"z = %.3f\" % (np.min(Z) ))"
   ]
  },
  {
   "cell_type": "markdown",
   "metadata": {},
   "source": [
    "## Swarm size and iterations parameters"
   ]
  },
  {
   "cell_type": "code",
   "execution_count": 52,
   "metadata": {
    "ExecuteTime": {
     "end_time": "2022-03-31T08:15:21.315035Z",
     "start_time": "2022-03-31T08:15:21.293085Z"
    }
   },
   "outputs": [],
   "source": [
    "def f(n_particles, nb_iter):\n",
    "    val = 0\n",
    "    for i in range(5):\n",
    "        optimizer = ps.single.GlobalBestPSO(n_particles=n_particles, dimensions=dim, options = options , bounds = bounds)\n",
    "        cost, pos = optimizer.optimize(rastrigin_pso, iters=nb_iter , verbose = False)\n",
    "        val += cost\n",
    "    return val/5"
   ]
  },
  {
   "cell_type": "code",
   "execution_count": 53,
   "metadata": {
    "ExecuteTime": {
     "end_time": "2022-03-31T08:20:58.094425Z",
     "start_time": "2022-03-31T08:15:21.604332Z"
    }
   },
   "outputs": [
    {
     "name": "stdout",
     "output_type": "stream",
     "text": [
      "6 6\n",
      "20 particles\n",
      "30 particles\n",
      "50 particles\n",
      "100 particles\n",
      "300 particles\n",
      "500 particles\n"
     ]
    }
   ],
   "source": [
    "dim = 100\n",
    "options = {'c1': 1.49445, 'c2': 1.49445, 'w': 0.729}\n",
    "x_max = 5.12 * np.ones(dim)\n",
    "x_min = -1 * x_max\n",
    "bounds = (x_min,x_max)\n",
    "\n",
    "x = np.array([20,30,50,100,300,500])#Particles\n",
    "y = np.array([50,100,200,500,1000,2000])#Iterations number\n",
    "\n",
    "Z= np.zeros((len(x),len(y)))\n",
    "for i in range(len(x)):\n",
    "    print(\"%d particles\" %(x[i]))\n",
    "    for j in range(len(y)):\n",
    "        Z[i,j] = f(x[i] , y[j])"
   ]
  },
  {
   "cell_type": "code",
   "execution_count": 55,
   "metadata": {
    "ExecuteTime": {
     "end_time": "2022-03-31T08:21:37.136892Z",
     "start_time": "2022-03-31T08:21:36.929071Z"
    },
    "scrolled": true
   },
   "outputs": [
    {
     "data": {
      "text/plain": [
       "Text(0.5, 0.92, 'Value')"
      ]
     },
     "execution_count": 55,
     "metadata": {},
     "output_type": "execute_result"
    },
    {
     "data": {
      "image/png": "[encoded data removed]",
      "text/plain": [
       "<Figure size 432x288 with 1 Axes>"
      ]
     },
     "metadata": {
      "needs_background": "light"
     },
     "output_type": "display_data"
    }
   ],
   "source": [
    "fig = plt.figure()\n",
    "ax = plt.axes(projection='3d')\n",
    "ax.plot_surface(x,y,Z)\n",
    "#ax.contour3D(x, y, Z)\n",
    "ax.set_xlabel('Particles')\n",
    "ax.set_ylabel('Iterations')\n",
    "plt.title(\"Value\")"
   ]
  },
  {
   "cell_type": "markdown",
   "metadata": {
    "ExecuteTime": {
     "end_time": "2022-03-18T11:11:10.169069Z",
     "start_time": "2022-03-18T11:11:10.144872Z"
    }
   },
   "source": [
    "From a number of particles and iterations (respectively around 300 and 1000 iterations) the improvment is really low"
   ]
  },
  {
   "cell_type": "markdown",
   "metadata": {},
   "source": [
    "### Iterations vs Particles"
   ]
  },
  {
   "cell_type": "markdown",
   "metadata": {},
   "source": [
    "Low iterations and large swarm"
   ]
  },
  {
   "cell_type": "code",
   "execution_count": 56,
   "metadata": {
    "ExecuteTime": {
     "end_time": "2022-03-31T08:22:10.763658Z",
     "start_time": "2022-03-31T08:21:39.354340Z"
    }
   },
   "outputs": [
    {
     "name": "stdout",
     "output_type": "stream",
     "text": [
      "20 particles\n",
      "959.3723679220235\n",
      "30 particles\n",
      "1042.7585940880756\n",
      "50 particles\n",
      "969.9473889107579\n",
      "100 particles\n",
      "1002.1865149664178\n",
      "300 particles\n",
      "868.9466104751107\n",
      "500 particles\n",
      "935.8318993146744\n",
      "1000 particles\n",
      "868.4481035161385\n",
      "2000 particles\n",
      "862.2068189897848\n"
     ]
    }
   ],
   "source": [
    "y_val= []\n",
    "dim = 100\n",
    "options = {'c1': 1.49445, 'c2': 1.49445, 'w': 0.729}\n",
    "x_max = 5.12 * np.ones(dim)\n",
    "x_min = -1 * x_max\n",
    "bounds = (x_min,x_max)\n",
    "\n",
    "iters = 100\n",
    "x = [20,30,50,100,300,500,1000,2000]\n",
    "for i in range(len(x)):\n",
    "    print(\"%d particles\" %(x[i]))\n",
    "    y_val.append(f(x[i],iters))\n",
    "    print(y_val[i])"
   ]
  },
  {
   "cell_type": "code",
   "execution_count": 57,
   "metadata": {
    "ExecuteTime": {
     "end_time": "2022-03-31T08:22:11.134977Z",
     "start_time": "2022-03-31T08:22:10.799057Z"
    }
   },
   "outputs": [
    {
     "data": {
      "image/png": "[encoded data removed]",
      "text/plain": [
       "<Figure size 432x288 with 1 Axes>"
      ]
     },
     "metadata": {
      "needs_background": "light"
     },
     "output_type": "display_data"
    }
   ],
   "source": [
    "plt.figure()\n",
    "plt.plot(x,y_val) \n",
    "plt.xlabel(\"Particles\")\n",
    "plt.ylabel(\"Optimization value\")\n",
    "plt.title(\"Dimension %d and 100 Iterations\" %(dim))\n",
    "plt.show()"
   ]
  },
  {
   "cell_type": "code",
   "execution_count": 58,
   "metadata": {
    "ExecuteTime": {
     "end_time": "2022-03-31T08:22:44.254960Z",
     "start_time": "2022-03-31T08:22:11.169654Z"
    }
   },
   "outputs": [
    {
     "name": "stdout",
     "output_type": "stream",
     "text": [
      "20 iterations\n",
      "1248.5031834306883\n",
      "30 iterations\n",
      "1199.975274195782\n",
      "50 iterations\n",
      "1153.377280105191\n",
      "100 iterations\n",
      "979.3764760678266\n",
      "300 iterations\n",
      "637.3981890351233\n",
      "500 iterations\n",
      "502.1735735616679\n",
      "1000 iterations\n",
      "192.58498635091308\n",
      "2000 iterations\n",
      "124.13759224327039\n"
     ]
    }
   ],
   "source": [
    "y_val= []\n",
    "dim = 100\n",
    "options = {'c1': 1.49445, 'c2': 1.49445, 'w': 0.729}\n",
    "x_max = 5.12 * np.ones(dim)\n",
    "x_min = -1 * x_max\n",
    "bounds = (x_min,x_max)\n",
    "\n",
    "iters = 1000\n",
    "n_particles = 30\n",
    "x = [20,30,50,100,300,500,1000,2000]\n",
    "\n",
    "for i in range(len(x)):\n",
    "    print(\"%d iterations\" %(x[i]))\n",
    "    y_val.append(f(n_particles,x[i]))\n",
    "    print(y_val[i])"
   ]
  },
  {
   "cell_type": "code",
   "execution_count": 60,
   "metadata": {
    "ExecuteTime": {
     "end_time": "2022-03-31T08:22:49.550285Z",
     "start_time": "2022-03-31T08:22:49.353134Z"
    }
   },
   "outputs": [
    {
     "data": {
      "image/png": "[encoded data removed]",
      "text/plain": [
       "<Figure size 432x288 with 1 Axes>"
      ]
     },
     "metadata": {
      "needs_background": "light"
     },
     "output_type": "display_data"
    }
   ],
   "source": [
    "plt.figure()\n",
    "plt.plot(x,y_val) \n",
    "plt.xlabel(\"Iterations\")\n",
    "plt.ylabel(\"Optimization value\")\n",
    "plt.title(\"Dimension %d and 30 Particles\"%(dim))\n",
    "plt.show()"
   ]
  },
  {
   "cell_type": "code",
   "execution_count": 61,
   "metadata": {
    "ExecuteTime": {
     "end_time": "2022-03-31T08:25:50.158134Z",
     "start_time": "2022-03-31T08:22:52.245153Z"
    }
   },
   "outputs": [
    {
     "name": "stdout",
     "output_type": "stream",
     "text": [
      "20 particles\n",
      "1280.9981739284376\n",
      "30 particles\n",
      "1211.0852816114152\n",
      "50 particles\n",
      "1128.5941301173548\n",
      "100 particles\n",
      "962.9622836173554\n",
      "200 particles\n",
      "498.640583051868\n",
      "300 particles\n",
      "234.5286429751287\n",
      "500 particles\n",
      "88.02833052069013\n",
      "1000 particles\n",
      "71.43803208756484\n"
     ]
    }
   ],
   "source": [
    "y_val= []\n",
    "dim = 100\n",
    "options = {'c1': 1.49445, 'c2': 1.49445, 'w': 0.729}\n",
    "x_max = 5.12 * np.ones(dim)\n",
    "x_min = -1 * x_max\n",
    "bounds = (x_min,x_max)\n",
    "\n",
    "iters = 100\n",
    "n_particles = [20,30,50,100,200,300,500,1000]\n",
    "nb_iters = [20,30,50,100,300,500,1000,2000]\n",
    "for i in range(len(n_particles)):\n",
    "    print(\"%d particles\" %(n_particles[i]))\n",
    "    y_val.append(f(n_particles[i],nb_iters[i]))\n",
    "    print(y_val[i])"
   ]
  },
  {
   "cell_type": "code",
   "execution_count": 62,
   "metadata": {
    "ExecuteTime": {
     "end_time": "2022-03-31T08:25:50.438620Z",
     "start_time": "2022-03-31T08:25:50.192346Z"
    }
   },
   "outputs": [
    {
     "data": {
      "image/png": "[encoded data removed]",
      "text/plain": [
       "<Figure size 432x288 with 1 Axes>"
      ]
     },
     "metadata": {
      "needs_background": "light"
     },
     "output_type": "display_data"
    }
   ],
   "source": [
    "plt.figure()\n",
    "plt.plot(n_particles,y_val) \n",
    "plt.xlabel(\"Iterations and Particles\")\n",
    "plt.ylabel(\"Optimization value\")\n",
    "plt.title(\"Dimension %d\" %(dim))\n",
    "plt.show()"
   ]
  },
  {
   "cell_type": "markdown",
   "metadata": {},
   "source": [
    "## Complexity with respect to particles"
   ]
  },
  {
   "cell_type": "code",
   "execution_count": 63,
   "metadata": {
    "ExecuteTime": {
     "end_time": "2022-03-31T08:25:50.484819Z",
     "start_time": "2022-03-31T08:25:50.471688Z"
    }
   },
   "outputs": [],
   "source": [
    "def f2(n_particles, nb_iter):\n",
    "    val = 0\n",
    "    for i in range(1):\n",
    "        optimizer = ps.single.LocalBestPSO(n_particles=n_particles, dimensions=dim, options = options , bounds = bounds)\n",
    "        cost, pos = optimizer.optimize(rastrigin_pso, iters=nb_iter , verbose = False)\n",
    "        val += cost\n",
    "    return val/5"
   ]
  },
  {
   "cell_type": "code",
   "execution_count": 64,
   "metadata": {
    "ExecuteTime": {
     "end_time": "2022-03-31T08:26:34.324793Z",
     "start_time": "2022-03-31T08:25:50.517852Z"
    }
   },
   "outputs": [],
   "source": [
    "y_val= []\n",
    "dim = 10\n",
    "options = {'c1': 1.49445, 'c2': 1.49445, 'w': 0.729 , 'k' : 10}\n",
    "x_max = 5.12 * np.ones(dim)\n",
    "x_min = -1 * x_max\n",
    "bounds = (x_min,x_max)\n",
    "\n",
    "n_particles = [1,2,5,10,20,30,50,80,100,150,200,250,300,350,400,500,600,700]\n",
    "\n",
    "starting_time = time.time()\n",
    "\n",
    "for particles in n_particles:\n",
    "    current_time = time.time()\n",
    "    _ = f(particles,800)\n",
    "    y_val.append(current_time - starting_time)\n",
    "    starting_time = current_time\n",
    "\n"
   ]
  },
  {
   "cell_type": "code",
   "execution_count": 65,
   "metadata": {
    "ExecuteTime": {
     "end_time": "2022-03-31T08:26:34.527464Z",
     "start_time": "2022-03-31T08:26:34.342628Z"
    }
   },
   "outputs": [
    {
     "data": {
      "image/png": "[encoded data removed]",
      "text/plain": [
       "<Figure size 432x288 with 1 Axes>"
      ]
     },
     "metadata": {
      "needs_background": "light"
     },
     "output_type": "display_data"
    }
   ],
   "source": [
    "plt.figure()\n",
    "plt.plot(n_particles,y_val) \n",
    "plt.xlabel(\"Particles\")\n",
    "plt.ylabel(\"Time (seconds)\")\n",
    "plt.title(\"Time complexity\")\n",
    "plt.show()"
   ]
  },
  {
   "cell_type": "code",
   "execution_count": null,
   "metadata": {},
   "outputs": [],
   "source": []
  }
 ],
 "metadata": {
  "kernelspec": {
   "display_name": "Python 3",
   "language": "python",
   "name": "python3"
  },
  "language_info": {
   "codemirror_mode": {
    "name": "ipython",
    "version": 3
   },
   "file_extension": ".py",
   "mimetype": "text/x-python",
   "name": "python",
   "nbconvert_exporter": "python",
   "pygments_lexer": "ipython3",
   "version": "3.7.3"
  },
  "toc": {
   "base_numbering": 1,
   "nav_menu": {},
   "number_sections": true,
   "sideBar": true,
   "skip_h1_title": false,
   "title_cell": "Table of Contents",
   "title_sidebar": "Contents",
   "toc_cell": true,
   "toc_position": {
    "height": "calc(100% - 180px)",
    "left": "10px",
    "top": "150px",
    "width": "256px"
   },
   "toc_section_display": true,
   "toc_window_display": true
  },
  "varInspector": {
   "cols": {
    "lenName": 16,
    "lenType": 16,
    "lenVar": 40
   },
   "kernels_config": {
    "python": {
     "delete_cmd_postfix": "",
     "delete_cmd_prefix": "del ",
     "library": "var_list.py",
     "varRefreshCmd": "print(var_dic_list())"
    },
    "r": {
     "delete_cmd_postfix": ") ",
     "delete_cmd_prefix": "rm(",
     "library": "var_list.r",
     "varRefreshCmd": "cat(var_dic_list()) "
    }
   },
   "types_to_exclude": [
    "module",
    "function",
    "builtin_function_or_method",
    "instance",
    "_Feature"
   ],
   "window_display": false
  }
 },
 "nbformat": 4,
 "nbformat_minor": 2
}
